{
 "cells": [
  {
   "cell_type": "markdown",
   "id": "99e46c4b-9cb4-4560-9e3f-ce13130a1dfa",
   "metadata": {},
   "source": [
    "# 0. Getting started\n",
    "\n",
    "We recommend you start working through this material *before* the course starts on August 31st. We will get stuck straight in to the data and coding when the course starts.\n",
    "\n",
    "## What does a football data scientist do?\n",
    "\n",
    "In April 2020, David interviewed four football data scientists (Pascal Bauer, Deutscher Fußball-Bund; Javier Fernandez, Barcelona; Suds Gopaladesikan, Benfica and Fran Peralta, Hammarby) about their role at their clubs and national teams. They talk about their routes in to working within clubs and what they do. This discussion offers a great starting point to finding out what you need to know about the profession of football data scientist.\n",
    "\n",
    "[![Interview with football data scientists](//www.youtube.com/embed/cnEDCqmqCzw?t=1696s)](//www.youtube.com/embed/cnEDCqmqCzw?t=1696s)\n",
    "\n",
    "## Some of the best football analytics resources\n",
    "\n",
    "Many of the resources (data and code) for football analytics are available for free. In this video we go through some of the best starting places.\n",
    "\n",
    "[![Football analytics resources](//www.youtube.com/embed/moFkcpsIKz4?feature=youtu)](//www.youtube.com/embed/moFkcpsIKz4?feature=youtu)\n",
    "\n",
    "A good resource for football data, code and other things can be found here: [https://github.com/matiasmascioto/awesome-soccer-analytics](https://github.com/matiasmascioto/awesome-soccer-analytics)\n",
    "\n",
    "## Programming in Python\n",
    "\n",
    "There are many course and online videos for programming in Python. Its a good idea to review one of these, especially with a focus on data science. At Uppsala, we recommend our students the following series of short videos which show people with a maths/stats background how to get going in the language.\n",
    "\n",
    "[![Programming in Python](//www.youtube.com/embed/M_0QY6pUNhc?list=PLtWnykJCcEyo4GaD-1HoEwZYg8ps5Va4q)](//www.youtube.com/embed/M_0QY6pUNhc?list=PLtWnykJCcEyo4GaD-1HoEwZYg8ps5Va4q)\n",
    "\n",
    "You should follow this course in parallel to getting going with your own project using football data. The video below explains how you do this.\n",
    "\n",
    "## Setting up for the course\n",
    "\n",
    "The next step is getting going with football data. This video explains the tools you will need and the data you should get your hands on for the first part of the course.\n",
    "\n",
    "[![Setting up for the course](//www.youtube.com/embed/FZ_XTfezCH4?feature=youtu)](//www.youtube.com/embed/FZ_XTfezCH4?feature=youtu)\n",
    "\n",
    "This video tells you how to get hold of all the tools and data to get started in football analytics.\n",
    "\n",
    "- Downloading [Anaconda](http://anaconda.com).\n",
    "- Which programs you need for running R and Python code\n",
    "- Orientate yourself within Spyder for Python\n",
    "- A \"hello world\" example.\n",
    "- What to do if you are feeling stuck?\n",
    "- Learn the art of \"copy and paste\" programming (using [https://fcpython.com/](https://fcpython.com/))\n",
    "- Downloading [Statsbomb data](https://github.com/statsbomb/open-data).\n",
    "- Downloading [Wyscout data](https://figshare.com/collections/Soccer_match_event_dataset/4415000/2)."
   ]
  }
 ],
 "metadata": {
  "kernelspec": {
   "display_name": "Python 3 (ipykernel)",
   "language": "python",
   "name": "python3"
  },
  "language_info": {
   "codemirror_mode": {
    "name": "ipython",
    "version": 3
   },
   "file_extension": ".py",
   "mimetype": "text/x-python",
   "name": "python",
   "nbconvert_exporter": "python",
   "pygments_lexer": "ipython3",
   "version": "3.9.12"
  }
 },
 "nbformat": 4,
 "nbformat_minor": 5
}
