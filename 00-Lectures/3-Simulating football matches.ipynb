{
 "cells": [
  {
   "cell_type": "markdown",
   "id": "cea85497-53af-451e-a6ac-332abab3dab5",
   "metadata": {},
   "source": [
    "## 3.1 Randomness and prediction in football\n",
    "\n",
    "In this live lecture (Tuesday 15th September) David explains how much randomness is football, introduces the Poisson distribution and Poisson regression for modelling football.\n",
    "\n",
    "[YT: Randomness and prediction in football](//www.youtube.com/embed/3pnkARyrtMo)\n",
    "\n",
    "Code for todays lecture is are files numbered 9,10 and 11 in the [Github directory](https://github.com/Friends-of-Tracking-Data-FoTD/SoccermaticsForPython)\n",
    "\n",
    "Articles:\n",
    "\n",
    "- https://soccermatics.medium.com/luck-skill-and-randomness-aaa8d80836ea\n",
    "- https://projects.fivethirtyeight.com/soccer-predictions/global-club-rankings/\n",
    "\n",
    "## 3.2 Ranking players using regression models\n",
    "\n",
    "This video provides a methodology for ranking players based on regression. It also starts with an excellent history of player ranking systems.\n",
    "\n",
    "[YT: Evaluating players using match result and event data](//www.youtube.com/embed/j5ybADC2gC4)\n",
    "\n",
    "This video goes slightly deeper in to rankings than is required for this course, but Garry and Lars talk through this article as well as giving an excellent background on ranking models.\n",
    "\n",
    "Garry passed away a few months after this presentation. He is sorely missed by the analytics community.\n",
    "\n",
    "## 3.3 How IT is used within clubs.\n",
    "\n",
    "Sayed Farook, former Manchester United FC Deputy Head of Technology & Operations Manager, and current Football Technology Consultant, outlines tells us more about how a data scientist work will fit in to a club. Lecture live at 16:15, Thursday 17th September.\n",
    "\n",
    "[YT: How IT is used within clubs](//www.youtube.com/embed/anYJtxKD-vE)"
   ]
  },
  {
   "cell_type": "code",
   "execution_count": null,
   "id": "19a760aa-a756-4503-836e-d61ec8643fd8",
   "metadata": {},
   "outputs": [],
   "source": []
  }
 ],
 "metadata": {
  "kernelspec": {
   "display_name": "Python 3 (ipykernel)",
   "language": "python",
   "name": "python3"
  },
  "language_info": {
   "codemirror_mode": {
    "name": "ipython",
    "version": 3
   },
   "file_extension": ".py",
   "mimetype": "text/x-python",
   "name": "python",
   "nbconvert_exporter": "python",
   "pygments_lexer": "ipython3",
   "version": "3.9.12"
  }
 },
 "nbformat": 4,
 "nbformat_minor": 5
}
