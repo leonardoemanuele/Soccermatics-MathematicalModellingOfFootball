{
 "cells": [
  {
   "cell_type": "markdown",
   "id": "1b32ed0a-63c1-4a5e-a893-18aeabee7d97",
   "metadata": {},
   "source": [
    "# 4. Player movements on the pitch\n",
    "\n",
    "## 4.1 Getting started with tracking data\n",
    "Laurie Shaw gets us started with tracking data, and shows how to create shot maps with both tracking and event data.\n",
    "\n",
    "- [YT - Introduction to football analysis with tracking data](//www.youtube.com/embed/8TrleFklEsE)\n",
    "\n",
    "The sample data used in this video was kindly provided by Metrica Sports and can be found here:\n",
    "- https://github.com/metrica-sports/sample-data\n",
    "\n",
    "The code covered in this video can be found here:\n",
    "- https://github.com/Friends-of-Tracking-Data-FoTD/LaurieOnTracking\n",
    "\n",
    "## 4.2 Using tracking data to evaluate the game\n",
    "Live lecture on Tuesday 22nd September 10:15 will look at what can be done with tracking data and give a walkthrough of the tracking data you will use in this part of the course.\n",
    "\n",
    "- [YT - Introduction to football analysis with tracking data 2](//www.youtube.com/embed/fYqEnoOV9Po)\n"
   ]
  },
  {
   "cell_type": "markdown",
   "id": "c80bc2f1-fe2e-4a4f-ba7a-b6a58667ac4f",
   "metadata": {},
   "source": [
    "## 4.3 Tracking data\n",
    "\n",
    "For the exercises you can download tracking data, kindly provided by Signality, for three Allsvenskan matches from the 2019 season using the code here (`SoccermaticsForPython\n",
    "/12GetSignalityAPI.py`):\n",
    "- https://github.com/Friends-of-Tracking-Data-FoTD/SoccermaticsForPython/blob/master/12GetSignalityAPI.py\n",
    "\n",
    "**NOTE: You need to put in the username and password for Signality API**\n",
    "\n",
    "Some basic code for plotting player positions is in `13VisualiseSegment.py`\n",
    "\n",
    "There are three matches. We do not currently have event data for these matches, but you can find events here by searching fo the matches here: \n",
    "- https://analytics.twelve.football/analytics\n",
    "\n",
    "## 4.4 Using tracking data exercise\n",
    "\n",
    "- https://uppsala.instructure.com/courses/28112/assignments/29466\n",
    "\n",
    "## 4.5 Measuring player velocities and movements\n",
    "Laurie Shaw describes how to use tracking data to add further context to football analytics. This video covers: making movies from the data, measuring player velocities, and creating physical summary reports for players.\n",
    "\n",
    "- [YT - Delving deeper into the tracking data with python: measuring the physical performance of players.](//www.youtube.com/embed/VX3T-4lB2o0)\n",
    "\n",
    "The sample data used in this video was kindly provided by Metrica Sports and can be found here:\n",
    "- https://github.com/metrica-sports/sample-data\n",
    "\n",
    "The code covered in this video can be found here:\n",
    "- https://github.com/Friends-of-Tracking-Data-FoTD/LaurieOnTracking\n",
    "\n",
    "## 4.6 How tracking data is used within clubs\n",
    "\n",
    "An in-depth discussion with club analysts at Liverpool, Barcelona and Benfica about using tracking data within football clubs.\n",
    "\n",
    "- [YT - How Tracking Data is Used in Football and What are the Future Challenges](//www.youtube.com/embed/kHTq9cwdkGA)\n",
    "\n",
    "## 4.7  Broadcast tracking data \n",
    "Skillcorner have released a dataset of broadcast tracking data. They go through the details of that data here.\n",
    "\n",
    "- [YT - Skillcorner present a new set of freely available broadcast tracking data from top leagues](//www.youtube.com/embed/N9qZ-I63BL8)\n",
    "\n",
    "The data set can be downloaded from Github:\n",
    "- https://github.com/SkillCorner/opendata"
   ]
  },
  {
   "cell_type": "code",
   "execution_count": null,
   "id": "eb83f33c-1a47-46ba-a465-fda243b58974",
   "metadata": {},
   "outputs": [],
   "source": []
  }
 ],
 "metadata": {
  "kernelspec": {
   "display_name": "Python 3 (ipykernel)",
   "language": "python",
   "name": "python3"
  },
  "language_info": {
   "codemirror_mode": {
    "name": "ipython",
    "version": 3
   },
   "file_extension": ".py",
   "mimetype": "text/x-python",
   "name": "python",
   "nbconvert_exporter": "python",
   "pygments_lexer": "ipython3",
   "version": "3.9.12"
  }
 },
 "nbformat": 4,
 "nbformat_minor": 5
}
