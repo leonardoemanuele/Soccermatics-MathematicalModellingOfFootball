{
 "cells": [
  {
   "cell_type": "markdown",
   "id": "082aa09d-a4bd-4b20-bc86-571d6fa4617e",
   "metadata": {},
   "source": [
    "# 5. Pitch control\n",
    "\n",
    "## 5.1 Overview of pitch control and passing models\n",
    "\n",
    "[YT - Liverpool FC data scientist William Spearman's masterclass in pitch control](//www.youtube.com/embed/X9PrwPyolyU)\n",
    "\n",
    "Pitch control is the probability that a player could control the ball assuming it is at that location. William Spearman explains:\n",
    "\n",
    "- The principles behind pitch control models.\n",
    "\n",
    "- How they can be used to investigate player positioning.\n",
    "\n",
    "- How to extend them to account for ball motion.\n",
    "\n",
    "- How to combine pitch control models with measures of danger.\n",
    "\n",
    "- Defining 'off-ball scoring opportunity'\n",
    "\n",
    "- Extensions to pitch control.\n",
    "\n",
    "Further reading...\n",
    "\n",
    "Link to pitch control demo: https://www.hudl.com/blog/open-space-and-passing-in-football\n",
    "\n",
    "Quantifying Pitch Control: https://www.researchgate.net/publication/334849056_Quantifying_Pitch_Control\n",
    "\n",
    "Physics-Based Modeling of Pass Probabilities in Soccer: https://www.researchgate.net/publication/315166647_Physics-Based_Modeling_of_Pass_Probabilities_in_Soccer\n",
    "\n",
    "Wide Open Spaces: A statistical technique for measuring space creation in professional soccer: https://www.researchgate.net/publication/324942294_Wide_Open_Spaces_A_statistical_technique_for_measuring_space_creation_in_professional_soccer\n",
    "\n",
    "Beyond Expected Goals: https://www.researchgate.net/publication/327139841_Beyond_Expected_Goals\n",
    "\n",
    "Probabilistic movement models and zones of control: https://www.researchgate.net/publication/326076300_Probabilistic_movement_models_and_zones_of_control\n",
    "\n",
    "## 5.2 Pitch control model\n",
    "\n",
    "[YT - Advanced football analytics: building and applying a pitch control model in python.](//www.youtube.com/embed/5X1cSehLg6s)\n",
    "\n",
    "Laurie Shaw describes everything you need to create a pitch control model in Python.\n",
    "\n",
    "- Code for this tutorial can be found here (see Tutorial 4):  https://github.com/Friends-of-Tracking-Data-FoTD/LaurieOnTracking\n",
    "\n",
    "- Data used in this tutorial can be found here: https://github.com/metrica-sports/sample-data\n",
    "\n",
    "## 5.3 Application of Pitch Control in Pressing\n",
    "\n",
    "[YT - How to create the mathematically perfect press using pitch control.](//www.youtube.com/embed/s6bpn3Uox7M)\n",
    "\n",
    "Here, David explains an application of pitch control in pressing to get the ball back."
   ]
  },
  {
   "cell_type": "code",
   "execution_count": null,
   "id": "5600664a-3248-41f4-a303-773e522d2ca8",
   "metadata": {},
   "outputs": [],
   "source": []
  }
 ],
 "metadata": {
  "kernelspec": {
   "display_name": "Python 3 (ipykernel)",
   "language": "python",
   "name": "python3"
  },
  "language_info": {
   "codemirror_mode": {
    "name": "ipython",
    "version": 3
   },
   "file_extension": ".py",
   "mimetype": "text/x-python",
   "name": "python",
   "nbconvert_exporter": "python",
   "pygments_lexer": "ipython3",
   "version": "3.9.12"
  }
 },
 "nbformat": 4,
 "nbformat_minor": 5
}
