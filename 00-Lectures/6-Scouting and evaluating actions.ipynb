{
 "cells": [
  {
   "cell_type": "markdown",
   "id": "18f441f0-7080-4d83-bb46-269b2416c107",
   "metadata": {},
   "source": [
    "# 6. Scouting and evaluating actions\n",
    "\n",
    "## 6.1 Plus/minus models\n",
    "\n",
    "In this lecture I introduce different ways of scouting player actions using data.\n",
    "\n",
    "- [YT - Models for evaluating players part 1: Plus/minus and EA player ratings](//www.youtube.com/embed/Qxy72wzNT_M)\n",
    "\n",
    "References:\n",
    "\n",
    "- [Kharrat, Tarak, Ian G. McHale, and Javier López Peña. \"Plus–minus player ratings for soccer.\" European Journal of Operational Research 283, no. 2 (2020): 726-736](https://arxiv.org/abs/1706.04943)\n",
    "- [Hvattum, Lars Magnus. \"A comprehensive review of plus-minus ratings for evaluating individual players in team sports.\" International Journal of Computer Science in Sport 18, no. 1 (2019): 1-23](https://content.sciendo.com/downloadpdf/journals/ijcss/18/1/article-p1.xml)\n",
    "- [McHale, Ian G., Philip A. Scarf, and David E. Folker. \"On the development of a soccer player performance rating system for the English Premier League.\" Interfaces 42, no. 4 (2012): 339-351](https://www.jstor.org/stable/23254864)"
   ]
  },
  {
   "cell_type": "markdown",
   "id": "7f8d001b-7042-46c0-a43e-bf603caf087c",
   "metadata": {},
   "source": [
    "## 6.2 Percentiles and player radars\n",
    "\n",
    "- [YT - Models for evaluating players part 2: Player radars](//www.youtube.com/embed/iIJkV1v6UrA)\n",
    "- [Profiling Ball-Playing Centre-backs in the Championship](https://medium.com/ram-blings/profiling-ball-playing-centre-backs-in-the-championship-113d4d085420)\n",
    "\n",
    "## 6.3 Markov models\n",
    "\n",
    "- [YT - Models for evaluating players part 3: Markov models](//www.youtube.com/embed/nzIFXf5f3XA)\n",
    "\n",
    "- [Sarah Rudd - A Framework for Tactical Analysis and Individual Offensive Production Assessment in Soccer Using Markov Chains](https://docplayer.net/27070167-A-framework-for-tactical-analysis-and-individual-offensive-production-assessment-in-soccer-using-markov-chains.html)\n",
    "- [karun.in/blog - Introducing Expected Threat (xT)](https://karun.in/blog/expected-threat.html)\n",
    "\n",
    "## 6.4 Possession chain models\n",
    "\n",
    "- [YT - Models for evaluating players part 4: Possession chain models](//www.youtube.com/embed/0VAdzaid8L8)\n",
    "- [Introducing xGChain and xGBuildup](https://statsbomb.com/articles/soccer/introducing-xgchain-and-xgbuildup/)\n",
    "\n",
    "## 6.5 Valuing actions: overview\n",
    "\n",
    "Lotte Bransen gives an introduction to a series of lectures on valuing actions in football using statistical models and machine learning. \n",
    "\n",
    "- [YT - Valuing actions intro: The principles of valuing actions](//www.youtube.com/embed/xyyZLs_N1F0)\n",
    "- [VAEP (Valuing Actions by Estimating Probabilities) is a framework for valuing player actions in soccer](https://dtai.cs.kuleuven.be/sports/vaep?toggle=explore)\n",
    "- https://dtai.cs.kuleuven.be/sports/software\n",
    "\n",
    "1. Why go beyond traditional statistics to assess football players?\n",
    "2. How to assess the performances of football players?\n",
    "3. What does the VAEP framework have to offer?\n"
   ]
  },
  {
   "cell_type": "markdown",
   "id": "dcfba5b3-220c-4f02-b8bf-40c6d4f6216a",
   "metadata": {},
   "source": [
    "## 6.6 Valuing actions: handling data\n",
    "\n",
    "Jan Van Haaren talks us through the pipeline for evaluating players using an action value based approach. \n",
    "\n",
    "- [YT - Valuing actions 1: from Wyscout data to rating players.](//www.youtube.com/embed/0ol_eLLEQ64)\n",
    "- [Socceraction](https://github.com/ML-KULeuven/socceraction)\n",
    "- https://github.com/soccer-analytics-research/fot-valuing-actions\n",
    "\n",
    "## 6.7 Valuing actions: generating features\n",
    "Lotte Bransen talks us through the the process of generating features for evaluating actions. \n",
    "- [YT - Valuing actions 2: generating features](//www.youtube.com/embed/Ep9wXQgAFaE)\n",
    "\n",
    "1. Investigate data in SPADL represenation.\n",
    "\n",
    "2. Construct features to represent actions.\n",
    "\n",
    "3. Construct features to represent game states."
   ]
  },
  {
   "cell_type": "markdown",
   "id": "75a3530d-9140-474e-97e1-03763727d655",
   "metadata": {},
   "source": [
    "## 6.8 Valuing actions: training a model\n",
    "\n",
    "Jan Van Haaren talks us through the process of training various machine learning models on action data.\n",
    "\n",
    "- [YT - Valuing actions 3: training machine learning models](//www.youtube.com/embed/WlORqYIb-Gg)\n",
    "\n",
    "1. Split the dataset into a training set and a test set.\n",
    "2. Construct the baseline classifiers by using conservative hyperparameters for the learning algorithm.\n",
    "3. Optimize the classifiers by tuning the hyperparameters for the learning algorithm.\n",
    "4. Construct the final classifiers using the optimal hyperparameters for the learning algorithm\n",
    "\n",
    "All the code for this tutorial series is available here: \n",
    "\n",
    "- https://github.com/soccer-analytics-research/fot-valuing-actions\n",
    "\n",
    "## 6.9 Valuing actions: analysing models and results\n",
    "\n",
    "Lotte concludes the series, looking at how to interpret the results.\n",
    "\n",
    "- [YT - Valuing actions 4: Analysing models and results](//www.youtube.com/embed/w9G0z3eGCj8)\n",
    "\n",
    "## 6.10 Discussion with Lotte and Jan. \n",
    "\n",
    "In this video Lotte gives an overview of the approach taken above and we discuss how these rankings work.\n",
    "\n",
    "- [YT - Live: How to discover the next Frenkie de Jong using data](//www.youtube.com/embed/w0LX-2UgyXU)\n",
    "\n",
    "## 6.11 Player rankings\n",
    "\n",
    "This video explains another, alternative way of ranking players, also based on machine learning.\n",
    "\n",
    "- [YT - Player rank: performance evaluation for soccer players](//www.youtube.com/embed/TCyahs5HRMM)"
   ]
  }
 ],
 "metadata": {
  "kernelspec": {
   "display_name": "Python 3 (ipykernel)",
   "language": "python",
   "name": "python3"
  },
  "language_info": {
   "codemirror_mode": {
    "name": "ipython",
    "version": 3
   },
   "file_extension": ".py",
   "mimetype": "text/x-python",
   "name": "python",
   "nbconvert_exporter": "python",
   "pygments_lexer": "ipython3",
   "version": "3.9.12"
  }
 },
 "nbformat": 4,
 "nbformat_minor": 5
}
