{
 "cells": [
  {
   "cell_type": "markdown",
   "id": "9eb973ce-2cc3-4d37-b6bf-19499ef467a4",
   "metadata": {},
   "source": [
    "# 7. Incorporating fitness data\n",
    "\n",
    "## 7.1 Introduction to sports science\n",
    "\n",
    "Sudarshan Gopaladesikan, Head of Sports Data Science at Benfica introduces sports science from a data science perspective\n",
    "\n",
    "- [YT - Combining data science and sports science, with Benfica's head of data science. (Part 1)](//www.youtube.com/embed/L6jtpFE7c6I)\n",
    "\n",
    "## 7.2 Using tracking data in sport science\n",
    "\n",
    "Suds goes in to details of how to use tracking data to do sports science.\n",
    "\n",
    "- [YT - Combining data science and sports science, with Benfica's head of data science. (Part 2)](//www.youtube.com/embed/teCgjQ2ZKNo)\n",
    "\n",
    "Code available here:\n",
    "- https://github.com/slbenfica1079/"
   ]
  }
 ],
 "metadata": {
  "kernelspec": {
   "display_name": "Python 3 (ipykernel)",
   "language": "python",
   "name": "python3"
  },
  "language_info": {
   "codemirror_mode": {
    "name": "ipython",
    "version": 3
   },
   "file_extension": ".py",
   "mimetype": "text/x-python",
   "name": "python",
   "nbconvert_exporter": "python",
   "pygments_lexer": "ipython3",
   "version": "3.9.12"
  }
 },
 "nbformat": 4,
 "nbformat_minor": 5
}
