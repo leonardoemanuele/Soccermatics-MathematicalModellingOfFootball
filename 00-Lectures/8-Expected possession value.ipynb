{
 "cells": [
  {
   "cell_type": "markdown",
   "id": "f26631d3-6225-4401-bae0-07372644f888",
   "metadata": {},
   "source": [
    "# 8. Expected possession value\n",
    "\n",
    "## 8.1 Using pitch control to evaluate players\n",
    "\n",
    "Laurie Shaw describes how you can value player actions by combining an expected threat style model with a pitch control to investigate the best passing options available to the player on the ball at any moment of a game.\n",
    "\n",
    "[YT - Beyond pitch control: valuing player actions and passing options.](//www.youtube.com/embed/KXSLKwADXKI)\n",
    "\n",
    "Code for this tutorial can be found here (see Tutorial 4):\n",
    "- https://github.com/Friends-of-Tracking-Data-FoTD/LaurieOnTracking\n",
    "\n",
    "Data used in this tutorial can be found here: \n",
    "- https://github.com/metrica-sports/sample-data\n",
    "\n",
    "An interactive visualisation of EPV can be found here:\n",
    "- https://chart-studio.plotly.com/~laurieshaw/71/#/"
   ]
  },
  {
   "cell_type": "markdown",
   "id": "95378b30-34b9-4c7d-9b83-dec99d1289ea",
   "metadata": {},
   "source": [
    "## 8.2 Expected Possession Value\n",
    "\n",
    "In this video David will go through different approaches to expected possession value.\n",
    "\n",
    "[YT - Football's Fundamental Equation](//www.youtube.com/embed/_U_Q5jpeGMo)"
   ]
  },
  {
   "cell_type": "markdown",
   "id": "c7b7bdea-0c67-4f14-9520-e7d0aa3c188b",
   "metadata": {},
   "source": [
    "## 8.3 Neural networks for Expected Possession Value\n",
    "\n",
    "Javier Fernandez (head of sports analytics at Barcelona) will give a seminar on Thursday 14:15-15:00 on using neural network models for calculating expected possession value.\n",
    "\n",
    "COMING SOON\n",
    "\n",
    "Other Videos from FoT Channels:\n",
    "\n",
    "- [Paul Power: neural networks for understanding defending](//www.youtube.com/embed/d5NBm4CFygo)"
   ]
  }
 ],
 "metadata": {
  "kernelspec": {
   "display_name": "Python 3 (ipykernel)",
   "language": "python",
   "name": "python3"
  },
  "language_info": {
   "codemirror_mode": {
    "name": "ipython",
    "version": 3
   },
   "file_extension": ".py",
   "mimetype": "text/x-python",
   "name": "python",
   "nbconvert_exporter": "python",
   "pygments_lexer": "ipython3",
   "version": "3.9.12"
  }
 },
 "nbformat": 4,
 "nbformat_minor": 5
}
