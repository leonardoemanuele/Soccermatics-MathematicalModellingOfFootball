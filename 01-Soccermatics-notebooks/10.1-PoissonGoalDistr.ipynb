{
 "cells": [
  {
   "cell_type": "markdown",
   "id": "906b5f48-b34e-45d9-a168-5ba63acb4583",
   "metadata": {},
   "source": [
    "## Refactor `10Goal.py`\n",
    "\n",
    "The code in question is structured to perform a detailed analysis of football match data, specifically focusing on the distribution of goals scored per match within a dataset from the German league. The ultimate goal is to visualize how often a certain number of goals is scored across all matches in the dataset and to compare this empirical distribution to a theoretical Poisson distribution, which is commonly used in statistics to model the probability of a given number of events happening in a fixed interval of time. Here's a breakdown of the logic behind the code and the significance of the \"proportion of matches\" and \"number of goals scored\":\n",
    "\n",
    "### Data Preparation and Goal Identification\n",
    "The initial steps involve loading match event data from a JSON file and creating a pandas DataFrame. "
   ]
  },
  {
   "cell_type": "code",
   "execution_count": 13,
   "id": "dd65f7d0-3fb9-4a58-a6fb-2e518723ff0e",
   "metadata": {},
   "outputs": [],
   "source": [
    "import pandas as pd\n",
    "import numpy as np\n",
    "import math\n",
    "import json\n",
    "import matplotlib.pyplot as plt\n",
    "import matplotlib\n",
    "\n",
    "with open('wyscout/events/events_Germany.json') as f:\n",
    "    data = json.load(f)\n",
    "\n",
    "data_df = pd.DataFrame(data)"
   ]
  },
  {
   "cell_type": "markdown",
   "id": "546cf206-c01d-42d4-8819-c52f2161d95a",
   "metadata": {},
   "source": [
    "### Identifying Shots and Goals\n",
    "\n",
    "The code then filters this DataFrame to only include events categorized as \"Shot\", \"Free kick shot\", or \"Penalty\", which are the events that can potentially lead to goals. For each of these shot events, the code checks if any of the associated tags indicate that the shot resulted in a goal (tag id `101`). If a goal is found, the respective row is updated with the column Goal assigned to 1.\n"
   ]
  },
  {
   "cell_type": "code",
   "execution_count": 14,
   "id": "50e5b35f-392f-4316-a13e-8889f9558f4f",
   "metadata": {},
   "outputs": [],
   "source": [
    "# Filter events to include only shots, free kick shots, and penalties.\n",
    "shots = data_df[data_df['subEventName'].isin(['Shot', 'Free kick shot', 'Penalty'])]\n",
    "\n",
    "# Initialize a 'Goal' column to 0 for all shots, indicating no goal by default.\n",
    "shots = shots.assign(Goal=0)\n",
    "\n",
    "# Iterate through each shot to check if it resulted in a goal, identified by tag id 101.\n",
    "for i, shot in shots.iterrows():\n",
    "    for tag in shot['tags']:\n",
    "        if tag['id'] == 101:\n",
    "            shots.at[i, 'Goal'] = 1\n"
   ]
  },
  {
   "cell_type": "markdown",
   "id": "ccb1dc27-2fb6-494e-a65e-12ccc5dd8b89",
   "metadata": {},
   "source": [
    "### Analysis of Shots and Goals per Match\n",
    "\n",
    "After identifying goals, the code computes the total number of goals scored in each match. This is done by iterating over the unique match identifiers in the dataset, counting the number of goals for each match, and then storing these counts. This process results in two lists: `shots_in_match` and `goals_in_match`, although the former isn't directly used in the subsequent analysis."
   ]
  },
  {
   "cell_type": "code",
   "execution_count": 15,
   "id": "da4f44c4-456f-4445-aa52-e142d8785d3d",
   "metadata": {},
   "outputs": [],
   "source": [
    "# Extract unique match IDs to analyze data on a per-match basis.\n",
    "match_list = shots['matchId'].unique().tolist()\n",
    "num_matches = len(match_list)\n",
    "\n",
    "# Initialize lists to store the count of shots and goals per match.\n",
    "shots_in_match = []\n",
    "goals_in_match = []\n",
    "\n",
    "# Count the number of shots and goals for each match.\n",
    "for match in match_list:\n",
    "    shots_in_match.append(len(shots[shots['matchId'] == match]))\n",
    "    goals_in_match.append(len(shots[np.logical_and(shots['matchId'] == match, shots['Goal'] == 1)]))\n"
   ]
  },
  {
   "cell_type": "markdown",
   "id": "3de58a7e-813e-4a80-9085-d128f083c9ac",
   "metadata": {},
   "source": [
    "### Histogram and Poisson Distribution Comparison\n",
    "\n",
    "This segment computes the mean goals per match and uses it to create a histogram and a Poisson distribution for comparison.\n",
    "\n",
    "With the number of goals per match calculated, the code proceeds to analyze the distribution of these counts across the dataset. The distribution is visualized using a histogram, which plots the number of matches (y-axis) against the number of goals scored (x-axis). \n",
    "\n",
    "However, instead of showing the raw count of matches for each goal tally, the code calculates the proportion of matches for each goal count by dividing the number of matches with a certain goal count by the total number of matches. This normalization allows for a clearer comparison across datasets of different sizes and is particularly useful in understanding the likelihood of observing matches with specific goal counts."
   ]
  },
  {
   "cell_type": "code",
   "execution_count": 36,
   "id": "a75f6628-49ce-49ce-afa3-44f9b3efa614",
   "metadata": {},
   "outputs": [],
   "source": [
    "# Make histogram of goals per match and calculate mean goals per match.\n",
    "mean_goals = np.mean(goals_in_match) # lambda\n",
    "goals_dist, goals_bins = np.histogram(goals_in_match, bins=np.arange(-0.5, 10.5))\n",
    "goals_dist = goals_dist / num_matches\n",
    "\n",
    "# Calculate a Poisson distribution based on the mean goals per match.\n",
    "Poisson_g = np.zeros(10)\n",
    "for i, k in enumerate(g):\n",
    "    Poisson_g[i] = np.power(mean_goals, k) * np.exp(-mean_goals) / math.factorial(k)\n"
   ]
  },
  {
   "cell_type": "markdown",
   "id": "bb2a1612-c96e-4dd5-bc85-2b9bf3adb9cb",
   "metadata": {},
   "source": [
    "$P(X=k) = \\frac{e^{-\\lambda} \\lambda^k}{k!}$\n",
    "\n",
    "The Poisson distribution is a mathematical concept used to model the probability of a number of events occurring in a fixed period of time or space if these events happen with a known constant mean rate and independently of the time since the last event. The code calculates the mean number of goals per match across all matches and uses this mean to generate a theoretical Poisson distribution. This distribution is then plotted alongside the actual distribution of goals per match to compare the empirical data with the theoretical model. The comparison is insightful because the Poisson distribution is often a good approximation for the distribution of goals in football matches, reflecting the random nature of goal-scoring events."
   ]
  },
  {
   "cell_type": "markdown",
   "id": "a4a39f96-35fe-4865-863f-95c6e5970c13",
   "metadata": {},
   "source": [
    "### Plotting and Saving the Results\n",
    "\n",
    "The histogram (\"Actual Distribution\") and the Poisson distribution curve (\"Poisson Distribution\") are plotted. The x-axis represents the number of goals scored, and the y-axis represents the proportion of matches with that number of goals, allowing for an intuitive understanding of how common certain goal tallies are within the dataset. The plot provides a visual representation of the goal-scoring dynamics across the dataset, offering insights into the variability and predictability of football matches."
   ]
  },
  {
   "cell_type": "code",
   "execution_count": 37,
   "id": "97419503-4c82-44a5-8633-c32f399d8cb4",
   "metadata": {},
   "outputs": [
    {
     "data": {
      "image/png": "[encoded data removed]",
      "text/plain": [
       "<Figure size 340.157x226.772 with 1 Axes>"
      ]
     },
     "metadata": {
      "needs_background": "light"
     },
     "output_type": "display_data"
    }
   ],
   "source": [
    "#Set up figure\n",
    "fig=plt.figure()\n",
    "from pylab import rcParams\n",
    "rcParams['figure.figsize'] = 12/2.54, 8/2.54\n",
    "ax=fig.add_subplot(1,1,1)\n",
    "\n",
    "\n",
    "# Plot the histogram of goals per match with label for the legend.\n",
    "plt.hist(g-0.5, bins=9, weights=goals_dist, label='Actual Distribution')\n",
    "\n",
    "# Plot the Poisson distribution curve with a label for the legend.\n",
    "plt.plot(g, Poisson_g, color='black', label='Poisson Distribution')\n",
    "\n",
    "# Configure the plot appearance.\n",
    "ax.set_yticks(np.arange(0, 0.3, 0.1)) \n",
    "ax.spines['left'].set_visible(True)\n",
    "ax.spines['bottom'].set_position('zero')    \n",
    "ax.spines['top'].set_visible(False)\n",
    "ax.spines['right'].set_visible(False)\n",
    "ax.set_xticks(np.arange(0, 10, 1))\n",
    "ax.set_ylabel('Proportion of matches')\n",
    "ax.set_xlabel('Number of goals scored')\n",
    "\n",
    "# Add a legend to the plot to distinguish between actual and Poisson distribution.\n",
    "plt.legend()\n",
    "\n",
    "# Display the plot.\n",
    "plt.show()\n",
    "\n",
    "# Save the figure to a PDF file.\n",
    "fig.savefig('output/PoissonDistributionGoals.pdf', dpi=None, bbox_inches=\"tight\")\n"
   ]
  },
  {
   "cell_type": "markdown",
   "id": "9dafafb6-b06f-4814-8d58-7db092c5ecda",
   "metadata": {},
   "source": [
    "## Excercise: "
   ]
  },
  {
   "cell_type": "markdown",
   "id": "559646c6-47ff-4b18-8855-48ea1467dd17",
   "metadata": {},
   "source": [
    "### 1. Making a Histogram of Shots per Game\n",
    "First, you aggregate the shots by each game and then plot a histogram to visualize the distribution of shots per game."
   ]
  },
  {
   "cell_type": "code",
   "execution_count": 38,
   "id": "8131b04f-43bf-4b26-8687-7b366f965bc1",
   "metadata": {},
   "outputs": [
    {
     "data": {
      "image/png": "[encoded data removed]",
      "text/plain": [
       "<Figure size 340.157x226.772 with 1 Axes>"
      ]
     },
     "metadata": {
      "needs_background": "light"
     },
     "output_type": "display_data"
    }
   ],
   "source": [
    "shots_in_match = shots.groupby('matchId').size()\n",
    "\n",
    "# Plot the histogram\n",
    "plt.hist(shots_in_match, bins=20, alpha=0.7, color='blue', edgecolor='black')\n",
    "plt.xlabel('Shots per Game')\n",
    "plt.ylabel('Frequency')\n",
    "plt.title('Histogram of Shots per Game')\n",
    "plt.show()"
   ]
  },
  {
   "cell_type": "markdown",
   "id": "f92beecc-b28e-41db-b6b2-7f1903a68335",
   "metadata": {},
   "source": [
    "### 2. Finding the Mean and Standard Deviation for Shots per Game\n",
    "Since `shots_in_match` is a list, we can easily compute the mean and standard deviation using numpy."
   ]
  },
  {
   "cell_type": "code",
   "execution_count": 39,
   "id": "8ed82a71-f5a8-4fc7-a69a-07434745508a",
   "metadata": {},
   "outputs": [
    {
     "name": "stdout",
     "output_type": "stream",
     "text": [
      "Mean shots per game: 23.82\n",
      "Standard deviation of shots per game: 5.41\n"
     ]
    }
   ],
   "source": [
    "# Calculate mean and standard deviation from the list\n",
    "mean_shots = np.mean(shots_in_match)\n",
    "std_shots = np.std(shots_in_match)\n",
    "\n",
    "print(f\"Mean shots per game: {mean_shots:.2f}\")\n",
    "print(f\"Standard deviation of shots per game: {std_shots:.2f}\")"
   ]
  },
  {
   "cell_type": "markdown",
   "id": "3e5fafa2-bf84-4950-90ef-d2c46325fff5",
   "metadata": {},
   "source": [
    "### 3. Showing that Shots per Game is Roughly Normally Distributed\n",
    "To overlay a normal distribution curve on the histogram of shots per game, we use the mean and standard deviation computed from the `shots_in_match` list."
   ]
  },
  {
   "cell_type": "code",
   "execution_count": 46,
   "id": "8c6cd01f-e729-4ca8-892a-d978c3d7fd5f",
   "metadata": {},
   "outputs": [
    {
     "name": "stdout",
     "output_type": "stream",
     "text": [
      "Mean shots per game: 23.82\n",
      "Standard deviation of shots per game: 5.42\n"
     ]
    },
    {
     "data": {
      "image/png": "[encoded data removed]",
      "text/plain": [
       "<Figure size 340.157x226.772 with 1 Axes>"
      ]
     },
     "metadata": {
      "needs_background": "light"
     },
     "output_type": "display_data"
    }
   ],
   "source": [
    "import matplotlib.pyplot as plt\n",
    "import numpy as np\n",
    "from scipy.stats import norm\n",
    "\n",
    "# Assuming 'shots_in_match' is a list with the number of shots in each game\n",
    "# Plot the histogram of shots per game\n",
    "plt.hist(shots_in_match, bins=20, alpha=0.7, color='blue', edgecolor='black', density=True)\n",
    "plt.xlabel('Shots per Game')\n",
    "plt.ylabel('Density')\n",
    "plt.title('Histogram of Shots per Game')\n",
    "\n",
    "# Calculate mean and standard deviation from the list\n",
    "mean_shots = np.mean(shots_in_match)\n",
    "std_shots = np.std(shots_in_match, ddof=1)  # Use ddof=1 for sample standard deviation\n",
    "\n",
    "print(f\"Mean shots per game: {mean_shots:.2f}\")\n",
    "print(f\"Standard deviation of shots per game: {std_shots:.2f}\")\n",
    "\n",
    "# Generate values for the normal distribution curve\n",
    "xmin, xmax = plt.xlim()\n",
    "x = np.linspace(xmin, xmax, 100)\n",
    "p = norm.pdf(x, mean_shots, std_shots)\n",
    "\n",
    "# Overlay the normal distribution curve\n",
    "plt.plot(x, p, linewidth=2, color='red', label='Normal distribution fit')\n",
    "\n",
    "# Add legend\n",
    "plt.legend()\n",
    "\n",
    "# Show plot\n",
    "plt.show()\n"
   ]
  },
  {
   "cell_type": "markdown",
   "id": "d5c3d8b4-12c9-4fd6-8be1-c71ad283f8e6",
   "metadata": {},
   "source": []
  }
 ],
 "metadata": {
  "kernelspec": {
   "display_name": "Python 3 (ipykernel)",
   "language": "python",
   "name": "python3"
  },
  "language_info": {
   "codemirror_mode": {
    "name": "ipython",
    "version": 3
   },
   "file_extension": ".py",
   "mimetype": "text/x-python",
   "name": "python",
   "nbconvert_exporter": "python",
   "pygments_lexer": "ipython3",
   "version": "3.9.12"
  }
 },
 "nbformat": 4,
 "nbformat_minor": 5
}
