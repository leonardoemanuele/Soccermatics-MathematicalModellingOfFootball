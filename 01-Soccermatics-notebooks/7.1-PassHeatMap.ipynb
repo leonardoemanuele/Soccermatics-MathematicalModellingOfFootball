{
 "cells": [
  {
   "cell_type": "code",
   "execution_count": 38,
   "id": "ee17b0ad-d7c6-422c-8b24-919fa6903f7a",
   "metadata": {},
   "outputs": [],
   "source": [
    "import matplotlib.pyplot as plt\n",
    "import numpy as np\n",
    "import pandas as pd\n",
    "from pandas import json_normalize\n",
    "from FCPython import createPitch\n",
    "import json"
   ]
  },
  {
   "cell_type": "code",
   "execution_count": 39,
   "id": "7e377346-39f6-40e1-be04-a76cfabec35b",
   "metadata": {},
   "outputs": [
    {
     "data": {
      "text/html": [
       "<div>\n",
       "<style scoped>\n",
       "    .dataframe tbody tr th:only-of-type {\n",
       "        vertical-align: middle;\n",
       "    }\n",
       "\n",
       "    .dataframe tbody tr th {\n",
       "        vertical-align: top;\n",
       "    }\n",
       "\n",
       "    .dataframe thead th {\n",
       "        text-align: right;\n",
       "    }\n",
       "</style>\n",
       "<table border=\"1\" class=\"dataframe\">\n",
       "  <thead>\n",
       "    <tr style=\"text-align: right;\">\n",
       "      <th></th>\n",
       "      <th>competition_id</th>\n",
       "      <th>season_id</th>\n",
       "      <th>competition_name</th>\n",
       "      <th>season_name</th>\n",
       "    </tr>\n",
       "  </thead>\n",
       "  <tbody>\n",
       "    <tr>\n",
       "      <th>0</th>\n",
       "      <td>9</td>\n",
       "      <td>27</td>\n",
       "      <td>1. Bundesliga</td>\n",
       "      <td>2015/2016</td>\n",
       "    </tr>\n",
       "    <tr>\n",
       "      <th>1</th>\n",
       "      <td>16</td>\n",
       "      <td>4</td>\n",
       "      <td>Champions League</td>\n",
       "      <td>2018/2019</td>\n",
       "    </tr>\n",
       "    <tr>\n",
       "      <th>2</th>\n",
       "      <td>16</td>\n",
       "      <td>1</td>\n",
       "      <td>Champions League</td>\n",
       "      <td>2017/2018</td>\n",
       "    </tr>\n",
       "    <tr>\n",
       "      <th>3</th>\n",
       "      <td>16</td>\n",
       "      <td>2</td>\n",
       "      <td>Champions League</td>\n",
       "      <td>2016/2017</td>\n",
       "    </tr>\n",
       "    <tr>\n",
       "      <th>4</th>\n",
       "      <td>16</td>\n",
       "      <td>27</td>\n",
       "      <td>Champions League</td>\n",
       "      <td>2015/2016</td>\n",
       "    </tr>\n",
       "    <tr>\n",
       "      <th>...</th>\n",
       "      <td>...</td>\n",
       "      <td>...</td>\n",
       "      <td>...</td>\n",
       "      <td>...</td>\n",
       "    </tr>\n",
       "    <tr>\n",
       "      <th>65</th>\n",
       "      <td>55</td>\n",
       "      <td>43</td>\n",
       "      <td>UEFA Euro</td>\n",
       "      <td>2020</td>\n",
       "    </tr>\n",
       "    <tr>\n",
       "      <th>66</th>\n",
       "      <td>35</td>\n",
       "      <td>75</td>\n",
       "      <td>UEFA Europa League</td>\n",
       "      <td>1988/1989</td>\n",
       "    </tr>\n",
       "    <tr>\n",
       "      <th>67</th>\n",
       "      <td>53</td>\n",
       "      <td>106</td>\n",
       "      <td>UEFA Women's Euro</td>\n",
       "      <td>2022</td>\n",
       "    </tr>\n",
       "    <tr>\n",
       "      <th>68</th>\n",
       "      <td>72</td>\n",
       "      <td>107</td>\n",
       "      <td>Women's World Cup</td>\n",
       "      <td>2023</td>\n",
       "    </tr>\n",
       "    <tr>\n",
       "      <th>69</th>\n",
       "      <td>72</td>\n",
       "      <td>30</td>\n",
       "      <td>Women's World Cup</td>\n",
       "      <td>2019</td>\n",
       "    </tr>\n",
       "  </tbody>\n",
       "</table>\n",
       "<p>70 rows × 4 columns</p>\n",
       "</div>"
      ],
      "text/plain": [
       "    competition_id  season_id    competition_name season_name\n",
       "0                9         27       1. Bundesliga   2015/2016\n",
       "1               16          4    Champions League   2018/2019\n",
       "2               16          1    Champions League   2017/2018\n",
       "3               16          2    Champions League   2016/2017\n",
       "4               16         27    Champions League   2015/2016\n",
       "..             ...        ...                 ...         ...\n",
       "65              55         43           UEFA Euro        2020\n",
       "66              35         75  UEFA Europa League   1988/1989\n",
       "67              53        106   UEFA Women's Euro        2022\n",
       "68              72        107   Women's World Cup        2023\n",
       "69              72         30   Women's World Cup        2019\n",
       "\n",
       "[70 rows x 4 columns]"
      ]
     },
     "execution_count": 39,
     "metadata": {},
     "output_type": "execute_result"
    }
   ],
   "source": [
    "def list_competitions():\n",
    "    with open('Statsbomb/data/competitions.json') as file:\n",
    "        competitions = json.load(file)\n",
    "    df_competitions = pd.json_normalize(competitions)\n",
    "    return df_competitions\n",
    "\n",
    "# Call this function to see all available competitions and their details\n",
    "competitions_df = list_competitions()\n",
    "competitions_df[['competition_id', 'season_id', 'competition_name', 'season_name']]"
   ]
  },
  {
   "cell_type": "markdown",
   "id": "ecb499cc-9a16-46c3-b0f8-0edbfd2f8621",
   "metadata": {},
   "source": [
    "### Creating a competitions dict for finding competitions"
   ]
  },
  {
   "cell_type": "code",
   "execution_count": 40,
   "id": "6102a052-a33a-4a07-b3f4-db9c667489d3",
   "metadata": {},
   "outputs": [],
   "source": [
    "def create_competitions_dict(competitions_df):\n",
    "    # Initialize an empty dictionary to store competition data\n",
    "    competitions_dict = {}\n",
    "    \n",
    "    # Loop through each row in the competitions DataFrame\n",
    "    for index, row in competitions_df.iterrows():\n",
    "        # Extract the competition_id and season_id from the current row\n",
    "        key = (row['competition_id'], row['season_id'])\n",
    "        \n",
    "        # Create a dictionary containing competition_name and season_name\n",
    "        value = {\n",
    "            'competition_name': row['competition_name'],\n",
    "            'season_name': row['season_name']\n",
    "        }\n",
    "        \n",
    "        # Check if the combination of competition_id and season_id is not already in the dictionary\n",
    "        if key not in competitions_dict:\n",
    "            # If not present, add it to the dictionary with its corresponding value\n",
    "            competitions_dict[key] = value\n",
    "            \n",
    "    # Return the populated competitions dictionary\n",
    "    return competitions_dict\n",
    "\n",
    "# Call the function to create the dictionary\n",
    "competitions_dict = create_competitions_dict(competitions_df)"
   ]
  },
  {
   "cell_type": "code",
   "execution_count": 41,
   "id": "ae105aed-d50f-4796-919f-5f7bd7dd8918",
   "metadata": {
    "scrolled": true
   },
   "outputs": [
    {
     "name": "stdout",
     "output_type": "stream",
     "text": [
      "Dictionary for Finding Competition IDs:\n",
      "\n",
      "=== COMPETITION ID:  9  ===>  1. Bundesliga\n",
      "Season ID: 27\n",
      "Season: 2015/2016\n",
      "\n",
      "=== COMPETITION ID:  16  ===>  Champions League\n",
      "Season ID: 4\n",
      "Season: 2018/2019\n",
      "\n",
      "Season ID: 1\n",
      "Season: 2017/2018\n",
      "\n",
      "Season ID: 2\n",
      "Season: 2016/2017\n",
      "\n",
      "Season ID: 27\n",
      "Season: 2015/2016\n",
      "\n",
      "Season ID: 26\n",
      "Season: 2014/2015\n",
      "\n",
      "Season ID: 25\n",
      "Season: 2013/2014\n",
      "\n",
      "Season ID: 24\n",
      "Season: 2012/2013\n",
      "\n",
      "Season ID: 23\n",
      "Season: 2011/2012\n",
      "\n",
      "Season ID: 22\n",
      "Season: 2010/2011\n",
      "\n",
      "Season ID: 21\n",
      "Season: 2009/2010\n",
      "\n",
      "Season ID: 41\n",
      "Season: 2008/2009\n",
      "\n",
      "Season ID: 39\n",
      "Season: 2006/2007\n",
      "\n",
      "Season ID: 37\n",
      "Season: 2004/2005\n",
      "\n",
      "Season ID: 44\n",
      "Season: 2003/2004\n",
      "\n",
      "Season ID: 76\n",
      "Season: 1999/2000\n",
      "\n",
      "Season ID: 277\n",
      "Season: 1972/1973\n",
      "\n",
      "Season ID: 71\n",
      "Season: 1971/1972\n",
      "\n",
      "Season ID: 276\n",
      "Season: 1970/1971\n",
      "\n",
      "=== COMPETITION ID:  87  ===>  Copa del Rey\n",
      "Season ID: 84\n",
      "Season: 1983/1984\n",
      "\n",
      "Season ID: 268\n",
      "Season: 1982/1983\n",
      "\n",
      "Season ID: 279\n",
      "Season: 1977/1978\n",
      "\n",
      "=== COMPETITION ID:  37  ===>  FA Women's Super League\n",
      "Season ID: 90\n",
      "Season: 2020/2021\n",
      "\n",
      "Season ID: 42\n",
      "Season: 2019/2020\n",
      "\n",
      "Season ID: 4\n",
      "Season: 2018/2019\n",
      "\n",
      "=== COMPETITION ID:  1470  ===>  FIFA U20 World Cup\n",
      "Season ID: 274\n",
      "Season: 1979\n",
      "\n",
      "=== COMPETITION ID:  43  ===>  FIFA World Cup\n",
      "Season ID: 106\n",
      "Season: 2022\n",
      "\n",
      "Season ID: 3\n",
      "Season: 2018\n",
      "\n",
      "Season ID: 55\n",
      "Season: 1990\n",
      "\n",
      "Season ID: 54\n",
      "Season: 1986\n",
      "\n",
      "Season ID: 51\n",
      "Season: 1974\n",
      "\n",
      "Season ID: 272\n",
      "Season: 1970\n",
      "\n",
      "Season ID: 270\n",
      "Season: 1962\n",
      "\n",
      "Season ID: 269\n",
      "Season: 1958\n",
      "\n",
      "=== COMPETITION ID:  1238  ===>  Indian Super league\n",
      "Season ID: 108\n",
      "Season: 2021/2022\n",
      "\n",
      "=== COMPETITION ID:  11  ===>  La Liga\n",
      "Season ID: 90\n",
      "Season: 2020/2021\n",
      "\n",
      "Season ID: 42\n",
      "Season: 2019/2020\n",
      "\n",
      "Season ID: 4\n",
      "Season: 2018/2019\n",
      "\n",
      "Season ID: 1\n",
      "Season: 2017/2018\n",
      "\n",
      "Season ID: 2\n",
      "Season: 2016/2017\n",
      "\n",
      "Season ID: 27\n",
      "Season: 2015/2016\n",
      "\n",
      "Season ID: 26\n",
      "Season: 2014/2015\n",
      "\n",
      "Season ID: 25\n",
      "Season: 2013/2014\n",
      "\n",
      "Season ID: 24\n",
      "Season: 2012/2013\n",
      "\n",
      "Season ID: 23\n",
      "Season: 2011/2012\n",
      "\n",
      "Season ID: 22\n",
      "Season: 2010/2011\n",
      "\n",
      "Season ID: 21\n",
      "Season: 2009/2010\n",
      "\n",
      "Season ID: 41\n",
      "Season: 2008/2009\n",
      "\n",
      "Season ID: 40\n",
      "Season: 2007/2008\n",
      "\n",
      "Season ID: 39\n",
      "Season: 2006/2007\n",
      "\n",
      "Season ID: 38\n",
      "Season: 2005/2006\n",
      "\n",
      "Season ID: 37\n",
      "Season: 2004/2005\n",
      "\n",
      "Season ID: 278\n",
      "Season: 1973/1974\n",
      "\n",
      "=== COMPETITION ID:  81  ===>  Liga Profesional\n",
      "Season ID: 48\n",
      "Season: 1997/1998\n",
      "\n",
      "Season ID: 275\n",
      "Season: 1981\n",
      "\n",
      "=== COMPETITION ID:  7  ===>  Ligue 1\n",
      "Season ID: 235\n",
      "Season: 2022/2023\n",
      "\n",
      "Season ID: 108\n",
      "Season: 2021/2022\n",
      "\n",
      "Season ID: 27\n",
      "Season: 2015/2016\n",
      "\n",
      "=== COMPETITION ID:  44  ===>  Major League Soccer\n",
      "Season ID: 107\n",
      "Season: 2023\n",
      "\n",
      "=== COMPETITION ID:  116  ===>  North American League\n",
      "Season ID: 68\n",
      "Season: 1977\n",
      "\n",
      "=== COMPETITION ID:  49  ===>  NWSL\n",
      "Season ID: 3\n",
      "Season: 2018\n",
      "\n",
      "=== COMPETITION ID:  2  ===>  Premier League\n",
      "Season ID: 27\n",
      "Season: 2015/2016\n",
      "\n",
      "Season ID: 44\n",
      "Season: 2003/2004\n",
      "\n",
      "=== COMPETITION ID:  12  ===>  Serie A\n",
      "Season ID: 27\n",
      "Season: 2015/2016\n",
      "\n",
      "Season ID: 86\n",
      "Season: 1986/1987\n",
      "\n",
      "=== COMPETITION ID:  55  ===>  UEFA Euro\n",
      "Season ID: 43\n",
      "Season: 2020\n",
      "\n",
      "=== COMPETITION ID:  35  ===>  UEFA Europa League\n",
      "Season ID: 75\n",
      "Season: 1988/1989\n",
      "\n",
      "=== COMPETITION ID:  53  ===>  UEFA Women's Euro\n",
      "Season ID: 106\n",
      "Season: 2022\n",
      "\n",
      "=== COMPETITION ID:  72  ===>  Women's World Cup\n",
      "Season ID: 107\n",
      "Season: 2023\n",
      "\n",
      "Season ID: 30\n",
      "Season: 2019\n",
      "\n"
     ]
    }
   ],
   "source": [
    "# Print the created dictionary\n",
    "print(\"Dictionary for Finding Competition IDs:\\n\")\n",
    "prev_competition_id = None\n",
    "for key, value in competitions_dict.items():\n",
    "    if key[0] != prev_competition_id:\n",
    "        print(\"=== COMPETITION ID: \", key[0], \" ===> \",value['competition_name'])\n",
    "    print(\"Season ID:\", key[1])\n",
    "    print(\"Season:\", value['season_name'])\n",
    "    print()\n",
    "    prev_competition_id = key[0]"
   ]
  },
  {
   "cell_type": "code",
   "execution_count": 42,
   "id": "14830052-1d2a-493d-a913-12abc440af2e",
   "metadata": {},
   "outputs": [
    {
     "name": "stdout",
     "output_type": "stream",
     "text": [
      "Competition Name: Serie A\n",
      "Season Name: 2015/2016\n"
     ]
    }
   ],
   "source": [
    "# Accessing elements in the dictionary\n",
    "competition_id = 12\n",
    "season_id = 27\n",
    "\n",
    "# Construct the key using competition_id and season_id\n",
    "key = (competition_id, season_id)\n",
    "\n",
    "# Accessing the value corresponding to the key\n",
    "if key in competitions_dict:\n",
    "    competition_info = competitions_dict[key]\n",
    "    print(\"Competition Name:\", competition_info['competition_name'])\n",
    "    print(\"Season Name:\", competition_info['season_name'])\n",
    "else:\n",
    "    print(\"Competition ID and Season ID combination not found in the dictionary.\")\n"
   ]
  },
  {
   "cell_type": "markdown",
   "id": "8bf2d6f8-b88d-4700-bfc5-68ab74a30891",
   "metadata": {},
   "source": [
    "### Load Matches"
   ]
  },
  {
   "cell_type": "code",
   "execution_count": 43,
   "id": "ca23d73d-5449-4dee-bb81-604adfd0cdaa",
   "metadata": {},
   "outputs": [],
   "source": [
    "with open('Statsbomb/data/matches/'+str(competition_id)+'/'+str(season_id)+'.json') as f:\n",
    "    matches = json.load(f)"
   ]
  },
  {
   "cell_type": "code",
   "execution_count": 44,
   "id": "0e9caa8a-423e-4381-a68b-d1634aeb2ecc",
   "metadata": {},
   "outputs": [
    {
     "data": {
      "text/plain": [
       "380"
      ]
     },
     "execution_count": 44,
     "metadata": {},
     "output_type": "execute_result"
    }
   ],
   "source": [
    "len(matches)"
   ]
  },
  {
   "cell_type": "code",
   "execution_count": 45,
   "id": "402b857c-9507-4ada-b401-c2f01dbf61a9",
   "metadata": {
    "scrolled": true
   },
   "outputs": [],
   "source": [
    "#matches[0]"
   ]
  },
  {
   "cell_type": "markdown",
   "id": "3189b509-8af6-45f9-9ca2-b0a9430bfe6d",
   "metadata": {},
   "source": [
    "### Initialize Teams"
   ]
  },
  {
   "cell_type": "code",
   "execution_count": 46,
   "id": "d7a22b7e-21c0-4607-abbf-e120d874437f",
   "metadata": {},
   "outputs": [
    {
     "data": {
      "text/plain": [
       "['AC Milan',\n",
       " 'AS Roma',\n",
       " 'Atalanta',\n",
       " 'Bologna',\n",
       " 'Carpi',\n",
       " 'Chievo',\n",
       " 'Empoli',\n",
       " 'Fiorentina',\n",
       " 'Frosinone',\n",
       " 'Genoa',\n",
       " 'Hellas Verona',\n",
       " 'Inter Milan',\n",
       " 'Juventus',\n",
       " 'Lazio',\n",
       " 'Napoli',\n",
       " 'Palermo',\n",
       " 'Sampdoria',\n",
       " 'Sassuolo',\n",
       " 'Torino',\n",
       " 'Udinese']"
      ]
     },
     "execution_count": 46,
     "metadata": {},
     "output_type": "execute_result"
    }
   ],
   "source": [
    "# Initialize an empty set to store the team names\n",
    "teams = set()\n",
    "\n",
    "# Iterate through each match\n",
    "for match in matches:\n",
    "    # Add the home team name to the set\n",
    "    teams.add(match['home_team']['home_team_name'])\n",
    "    # Add the away team name to the set\n",
    "    teams.add(match['away_team']['away_team_name'])\n",
    "\n",
    "# Convert the set to a list if you need to sort or index the teams\n",
    "team_list = list(teams)\n",
    "# Optionally, sort the list alphabetically\n",
    "team_list.sort()\n",
    "\n",
    "# Print or return the list of team names\n",
    "team_list"
   ]
  },
  {
   "cell_type": "markdown",
   "id": "e0d6cd73-b2ab-4334-97dd-90a13e9f441f",
   "metadata": {},
   "source": [
    "This code is designed to analyze football (soccer) match data, specifically focusing on identifying and visualizing \"danger passes\" during a tournament. A \"danger pass\" is defined as a pass that occurs within 15 seconds leading up to a shot. The analysis involves several steps, including data extraction, filtering, and visualization, which I will explain in detail.\n",
    "\n",
    "### Step 1: Identifying Matches Played by the Team"
   ]
  },
  {
   "cell_type": "code",
   "execution_count": 47,
   "id": "f80b5778-d18e-4a4d-9dc3-4bf001e4844a",
   "metadata": {},
   "outputs": [],
   "source": [
    "#The team we are interested in\n",
    "team_required =\"AC Milan\""
   ]
  },
  {
   "cell_type": "code",
   "execution_count": 48,
   "id": "b01ddff5-9eb8-44e1-a322-8ef7bdae4317",
   "metadata": {},
   "outputs": [],
   "source": [
    "match_id_required = []\n",
    "for match in matches:\n",
    "    home_team_name = match['home_team']['home_team_name']\n",
    "    away_team_name = match['away_team']['away_team_name']\n",
    "    if (home_team_name == team_required) or (away_team_name == team_required):\n",
    "        match_id_required.append(match['match_id'])"
   ]
  },
  {
   "cell_type": "markdown",
   "id": "bf1ed19c-5585-4b24-8141-70bd7b44300a",
   "metadata": {},
   "source": [
    "- The code iterates through a list of matches (`matches`).\n",
    "- For each match, it checks whether the `team_required` is either the home or away team.\n",
    "- If the team participated in the match, the match's ID is added to `match_id_required`."
   ]
  },
  {
   "cell_type": "code",
   "execution_count": 49,
   "id": "1f3bb61a-a1ef-4a4e-9850-1d18c0be07cd",
   "metadata": {},
   "outputs": [
    {
     "data": {
      "text/plain": [
       "38"
      ]
     },
     "execution_count": 49,
     "metadata": {},
     "output_type": "execute_result"
    }
   ],
   "source": [
    "len(match_id_required) #Numbers of matches played"
   ]
  },
  {
   "cell_type": "markdown",
   "id": "4f0c3107-68a9-4834-8a35-577aa012d5f0",
   "metadata": {},
   "source": [
    "### Step 2: Analyzing Passes and Shots in Each Match"
   ]
  },
  {
   "cell_type": "code",
   "execution_count": 50,
   "id": "5915f23a-69b6-48a3-95f2-1919f2e11ba5",
   "metadata": {},
   "outputs": [],
   "source": [
    "for ic, match_id in enumerate(match_id_required):\n",
    "    # Load match events\n",
    "    file_name = str(match_id) + '.json'\n",
    "    with open('Statsbomb/data/events/' + file_name) as data_file:\n",
    "        data = json.load(data_file)\n",
    "    df = json_normalize(data, sep=\"_\").assign(match_id=file_name[:-5])\n",
    "    team_actions = (df['team_name'] == team_required)\n",
    "    df = df[team_actions]"
   ]
  },
  {
   "cell_type": "markdown",
   "id": "01136e23-6463-4977-82a2-84ba6c84ab95",
   "metadata": {},
   "source": [
    "- For each match ID in `match_id_required`, the corresponding match events file is loaded.\n",
    "- The data is normalized into a DataFrame (`df`), filtering for actions by `team_required`."
   ]
  },
  {
   "cell_type": "code",
   "execution_count": 51,
   "id": "21b3cde5-283b-4b32-867c-a93e539160cc",
   "metadata": {},
   "outputs": [],
   "source": [
    "    # DataFrames for passes and shots\n",
    "    passes_match = df.loc[df['type_name'] == 'Pass'].set_index('id')\n",
    "    shots_match = df.loc[df['type_name'] == 'Shot'].set_index('id')"
   ]
  },
  {
   "cell_type": "code",
   "execution_count": 85,
   "id": "67d058b0-0b52-4c7a-b608-346247abdb6c",
   "metadata": {
    "scrolled": true
   },
   "outputs": [
    {
     "data": {
      "text/html": [
       "<div>\n",
       "<style scoped>\n",
       "    .dataframe tbody tr th:only-of-type {\n",
       "        vertical-align: middle;\n",
       "    }\n",
       "\n",
       "    .dataframe tbody tr th {\n",
       "        vertical-align: top;\n",
       "    }\n",
       "\n",
       "    .dataframe thead th {\n",
       "        text-align: right;\n",
       "    }\n",
       "</style>\n",
       "<table border=\"1\" class=\"dataframe\">\n",
       "  <thead>\n",
       "    <tr style=\"text-align: right;\">\n",
       "      <th></th>\n",
       "      <th>index</th>\n",
       "      <th>period</th>\n",
       "      <th>timestamp</th>\n",
       "      <th>minute</th>\n",
       "      <th>second</th>\n",
       "      <th>possession</th>\n",
       "      <th>duration</th>\n",
       "      <th>type_id</th>\n",
       "      <th>type_name</th>\n",
       "      <th>possession_team_id</th>\n",
       "      <th>...</th>\n",
       "      <th>pass_no_touch</th>\n",
       "      <th>block_deflection</th>\n",
       "      <th>clearance_left_foot</th>\n",
       "      <th>pass_deflected</th>\n",
       "      <th>50_50_outcome_id</th>\n",
       "      <th>50_50_outcome_name</th>\n",
       "      <th>dribble_nutmeg</th>\n",
       "      <th>foul_committed_penalty</th>\n",
       "      <th>foul_won_penalty</th>\n",
       "      <th>match_id</th>\n",
       "    </tr>\n",
       "    <tr>\n",
       "      <th>id</th>\n",
       "      <th></th>\n",
       "      <th></th>\n",
       "      <th></th>\n",
       "      <th></th>\n",
       "      <th></th>\n",
       "      <th></th>\n",
       "      <th></th>\n",
       "      <th></th>\n",
       "      <th></th>\n",
       "      <th></th>\n",
       "      <th></th>\n",
       "      <th></th>\n",
       "      <th></th>\n",
       "      <th></th>\n",
       "      <th></th>\n",
       "      <th></th>\n",
       "      <th></th>\n",
       "      <th></th>\n",
       "      <th></th>\n",
       "      <th></th>\n",
       "      <th></th>\n",
       "    </tr>\n",
       "  </thead>\n",
       "  <tbody>\n",
       "    <tr>\n",
       "      <th>24aa12fb-6fec-42cb-9477-1ed9eb5fd85c</th>\n",
       "      <td>506</td>\n",
       "      <td>1</td>\n",
       "      <td>00:13:55.556</td>\n",
       "      <td>13</td>\n",
       "      <td>55</td>\n",
       "      <td>32</td>\n",
       "      <td>0.452050</td>\n",
       "      <td>16</td>\n",
       "      <td>Shot</td>\n",
       "      <td>243</td>\n",
       "      <td>...</td>\n",
       "      <td>NaN</td>\n",
       "      <td>NaN</td>\n",
       "      <td>NaN</td>\n",
       "      <td>NaN</td>\n",
       "      <td>NaN</td>\n",
       "      <td>NaN</td>\n",
       "      <td>NaN</td>\n",
       "      <td>NaN</td>\n",
       "      <td>NaN</td>\n",
       "      <td>3878542</td>\n",
       "    </tr>\n",
       "    <tr>\n",
       "      <th>e2f51907-2f0c-4671-b4ae-7ddbf7acf093</th>\n",
       "      <td>516</td>\n",
       "      <td>1</td>\n",
       "      <td>00:13:59.329</td>\n",
       "      <td>13</td>\n",
       "      <td>59</td>\n",
       "      <td>32</td>\n",
       "      <td>0.042138</td>\n",
       "      <td>16</td>\n",
       "      <td>Shot</td>\n",
       "      <td>243</td>\n",
       "      <td>...</td>\n",
       "      <td>NaN</td>\n",
       "      <td>NaN</td>\n",
       "      <td>NaN</td>\n",
       "      <td>NaN</td>\n",
       "      <td>NaN</td>\n",
       "      <td>NaN</td>\n",
       "      <td>NaN</td>\n",
       "      <td>NaN</td>\n",
       "      <td>NaN</td>\n",
       "      <td>3878542</td>\n",
       "    </tr>\n",
       "    <tr>\n",
       "      <th>f4addc47-dce2-412c-b6c2-1cd35581c8ef</th>\n",
       "      <td>547</td>\n",
       "      <td>1</td>\n",
       "      <td>00:14:56.779</td>\n",
       "      <td>14</td>\n",
       "      <td>56</td>\n",
       "      <td>33</td>\n",
       "      <td>0.802218</td>\n",
       "      <td>16</td>\n",
       "      <td>Shot</td>\n",
       "      <td>243</td>\n",
       "      <td>...</td>\n",
       "      <td>NaN</td>\n",
       "      <td>NaN</td>\n",
       "      <td>NaN</td>\n",
       "      <td>NaN</td>\n",
       "      <td>NaN</td>\n",
       "      <td>NaN</td>\n",
       "      <td>NaN</td>\n",
       "      <td>NaN</td>\n",
       "      <td>NaN</td>\n",
       "      <td>3878542</td>\n",
       "    </tr>\n",
       "    <tr>\n",
       "      <th>11d66b5f-79a7-4f75-8e42-0670a4acede2</th>\n",
       "      <td>1037</td>\n",
       "      <td>1</td>\n",
       "      <td>00:28:58.236</td>\n",
       "      <td>28</td>\n",
       "      <td>58</td>\n",
       "      <td>59</td>\n",
       "      <td>0.996950</td>\n",
       "      <td>16</td>\n",
       "      <td>Shot</td>\n",
       "      <td>243</td>\n",
       "      <td>...</td>\n",
       "      <td>NaN</td>\n",
       "      <td>NaN</td>\n",
       "      <td>NaN</td>\n",
       "      <td>NaN</td>\n",
       "      <td>NaN</td>\n",
       "      <td>NaN</td>\n",
       "      <td>NaN</td>\n",
       "      <td>NaN</td>\n",
       "      <td>NaN</td>\n",
       "      <td>3878542</td>\n",
       "    </tr>\n",
       "    <tr>\n",
       "      <th>de52f6c2-3f81-4bea-a799-46746fd9420b</th>\n",
       "      <td>1699</td>\n",
       "      <td>2</td>\n",
       "      <td>00:03:21.860</td>\n",
       "      <td>48</td>\n",
       "      <td>21</td>\n",
       "      <td>93</td>\n",
       "      <td>1.007116</td>\n",
       "      <td>16</td>\n",
       "      <td>Shot</td>\n",
       "      <td>243</td>\n",
       "      <td>...</td>\n",
       "      <td>NaN</td>\n",
       "      <td>NaN</td>\n",
       "      <td>NaN</td>\n",
       "      <td>NaN</td>\n",
       "      <td>NaN</td>\n",
       "      <td>NaN</td>\n",
       "      <td>NaN</td>\n",
       "      <td>NaN</td>\n",
       "      <td>NaN</td>\n",
       "      <td>3878542</td>\n",
       "    </tr>\n",
       "    <tr>\n",
       "      <th>f0da6e24-e9d8-45dc-a7b0-c9ba8e5745b5</th>\n",
       "      <td>2067</td>\n",
       "      <td>2</td>\n",
       "      <td>00:15:31.243</td>\n",
       "      <td>60</td>\n",
       "      <td>31</td>\n",
       "      <td>122</td>\n",
       "      <td>1.552458</td>\n",
       "      <td>16</td>\n",
       "      <td>Shot</td>\n",
       "      <td>243</td>\n",
       "      <td>...</td>\n",
       "      <td>NaN</td>\n",
       "      <td>NaN</td>\n",
       "      <td>NaN</td>\n",
       "      <td>NaN</td>\n",
       "      <td>NaN</td>\n",
       "      <td>NaN</td>\n",
       "      <td>NaN</td>\n",
       "      <td>NaN</td>\n",
       "      <td>NaN</td>\n",
       "      <td>3878542</td>\n",
       "    </tr>\n",
       "    <tr>\n",
       "      <th>3db07c46-5739-4dac-93eb-d3466dab260e</th>\n",
       "      <td>2648</td>\n",
       "      <td>2</td>\n",
       "      <td>00:30:09.396</td>\n",
       "      <td>75</td>\n",
       "      <td>9</td>\n",
       "      <td>158</td>\n",
       "      <td>0.780161</td>\n",
       "      <td>16</td>\n",
       "      <td>Shot</td>\n",
       "      <td>243</td>\n",
       "      <td>...</td>\n",
       "      <td>NaN</td>\n",
       "      <td>NaN</td>\n",
       "      <td>NaN</td>\n",
       "      <td>NaN</td>\n",
       "      <td>NaN</td>\n",
       "      <td>NaN</td>\n",
       "      <td>NaN</td>\n",
       "      <td>NaN</td>\n",
       "      <td>NaN</td>\n",
       "      <td>3878542</td>\n",
       "    </tr>\n",
       "    <tr>\n",
       "      <th>585e1358-dc3a-45ba-91c3-2959138a6df2</th>\n",
       "      <td>3200</td>\n",
       "      <td>2</td>\n",
       "      <td>00:41:19.732</td>\n",
       "      <td>86</td>\n",
       "      <td>19</td>\n",
       "      <td>178</td>\n",
       "      <td>1.354159</td>\n",
       "      <td>16</td>\n",
       "      <td>Shot</td>\n",
       "      <td>243</td>\n",
       "      <td>...</td>\n",
       "      <td>NaN</td>\n",
       "      <td>NaN</td>\n",
       "      <td>NaN</td>\n",
       "      <td>NaN</td>\n",
       "      <td>NaN</td>\n",
       "      <td>NaN</td>\n",
       "      <td>NaN</td>\n",
       "      <td>NaN</td>\n",
       "      <td>NaN</td>\n",
       "      <td>3878542</td>\n",
       "    </tr>\n",
       "    <tr>\n",
       "      <th>292fc79e-2c4e-4b7f-94a6-9ffd5653f89a</th>\n",
       "      <td>3479</td>\n",
       "      <td>2</td>\n",
       "      <td>00:49:56.705</td>\n",
       "      <td>94</td>\n",
       "      <td>56</td>\n",
       "      <td>195</td>\n",
       "      <td>0.139353</td>\n",
       "      <td>16</td>\n",
       "      <td>Shot</td>\n",
       "      <td>243</td>\n",
       "      <td>...</td>\n",
       "      <td>NaN</td>\n",
       "      <td>NaN</td>\n",
       "      <td>NaN</td>\n",
       "      <td>NaN</td>\n",
       "      <td>NaN</td>\n",
       "      <td>NaN</td>\n",
       "      <td>NaN</td>\n",
       "      <td>NaN</td>\n",
       "      <td>NaN</td>\n",
       "      <td>3878542</td>\n",
       "    </tr>\n",
       "  </tbody>\n",
       "</table>\n",
       "<p>9 rows × 116 columns</p>\n",
       "</div>"
      ],
      "text/plain": [
       "                                      index  period     timestamp  minute  \\\n",
       "id                                                                          \n",
       "24aa12fb-6fec-42cb-9477-1ed9eb5fd85c    506       1  00:13:55.556      13   \n",
       "e2f51907-2f0c-4671-b4ae-7ddbf7acf093    516       1  00:13:59.329      13   \n",
       "f4addc47-dce2-412c-b6c2-1cd35581c8ef    547       1  00:14:56.779      14   \n",
       "11d66b5f-79a7-4f75-8e42-0670a4acede2   1037       1  00:28:58.236      28   \n",
       "de52f6c2-3f81-4bea-a799-46746fd9420b   1699       2  00:03:21.860      48   \n",
       "f0da6e24-e9d8-45dc-a7b0-c9ba8e5745b5   2067       2  00:15:31.243      60   \n",
       "3db07c46-5739-4dac-93eb-d3466dab260e   2648       2  00:30:09.396      75   \n",
       "585e1358-dc3a-45ba-91c3-2959138a6df2   3200       2  00:41:19.732      86   \n",
       "292fc79e-2c4e-4b7f-94a6-9ffd5653f89a   3479       2  00:49:56.705      94   \n",
       "\n",
       "                                      second  possession  duration  type_id  \\\n",
       "id                                                                            \n",
       "24aa12fb-6fec-42cb-9477-1ed9eb5fd85c      55          32  0.452050       16   \n",
       "e2f51907-2f0c-4671-b4ae-7ddbf7acf093      59          32  0.042138       16   \n",
       "f4addc47-dce2-412c-b6c2-1cd35581c8ef      56          33  0.802218       16   \n",
       "11d66b5f-79a7-4f75-8e42-0670a4acede2      58          59  0.996950       16   \n",
       "de52f6c2-3f81-4bea-a799-46746fd9420b      21          93  1.007116       16   \n",
       "f0da6e24-e9d8-45dc-a7b0-c9ba8e5745b5      31         122  1.552458       16   \n",
       "3db07c46-5739-4dac-93eb-d3466dab260e       9         158  0.780161       16   \n",
       "585e1358-dc3a-45ba-91c3-2959138a6df2      19         178  1.354159       16   \n",
       "292fc79e-2c4e-4b7f-94a6-9ffd5653f89a      56         195  0.139353       16   \n",
       "\n",
       "                                     type_name  possession_team_id  ...  \\\n",
       "id                                                                  ...   \n",
       "24aa12fb-6fec-42cb-9477-1ed9eb5fd85c      Shot                 243  ...   \n",
       "e2f51907-2f0c-4671-b4ae-7ddbf7acf093      Shot                 243  ...   \n",
       "f4addc47-dce2-412c-b6c2-1cd35581c8ef      Shot                 243  ...   \n",
       "11d66b5f-79a7-4f75-8e42-0670a4acede2      Shot                 243  ...   \n",
       "de52f6c2-3f81-4bea-a799-46746fd9420b      Shot                 243  ...   \n",
       "f0da6e24-e9d8-45dc-a7b0-c9ba8e5745b5      Shot                 243  ...   \n",
       "3db07c46-5739-4dac-93eb-d3466dab260e      Shot                 243  ...   \n",
       "585e1358-dc3a-45ba-91c3-2959138a6df2      Shot                 243  ...   \n",
       "292fc79e-2c4e-4b7f-94a6-9ffd5653f89a      Shot                 243  ...   \n",
       "\n",
       "                                     pass_no_touch  block_deflection  \\\n",
       "id                                                                     \n",
       "24aa12fb-6fec-42cb-9477-1ed9eb5fd85c           NaN               NaN   \n",
       "e2f51907-2f0c-4671-b4ae-7ddbf7acf093           NaN               NaN   \n",
       "f4addc47-dce2-412c-b6c2-1cd35581c8ef           NaN               NaN   \n",
       "11d66b5f-79a7-4f75-8e42-0670a4acede2           NaN               NaN   \n",
       "de52f6c2-3f81-4bea-a799-46746fd9420b           NaN               NaN   \n",
       "f0da6e24-e9d8-45dc-a7b0-c9ba8e5745b5           NaN               NaN   \n",
       "3db07c46-5739-4dac-93eb-d3466dab260e           NaN               NaN   \n",
       "585e1358-dc3a-45ba-91c3-2959138a6df2           NaN               NaN   \n",
       "292fc79e-2c4e-4b7f-94a6-9ffd5653f89a           NaN               NaN   \n",
       "\n",
       "                                     clearance_left_foot  pass_deflected  \\\n",
       "id                                                                         \n",
       "24aa12fb-6fec-42cb-9477-1ed9eb5fd85c                 NaN             NaN   \n",
       "e2f51907-2f0c-4671-b4ae-7ddbf7acf093                 NaN             NaN   \n",
       "f4addc47-dce2-412c-b6c2-1cd35581c8ef                 NaN             NaN   \n",
       "11d66b5f-79a7-4f75-8e42-0670a4acede2                 NaN             NaN   \n",
       "de52f6c2-3f81-4bea-a799-46746fd9420b                 NaN             NaN   \n",
       "f0da6e24-e9d8-45dc-a7b0-c9ba8e5745b5                 NaN             NaN   \n",
       "3db07c46-5739-4dac-93eb-d3466dab260e                 NaN             NaN   \n",
       "585e1358-dc3a-45ba-91c3-2959138a6df2                 NaN             NaN   \n",
       "292fc79e-2c4e-4b7f-94a6-9ffd5653f89a                 NaN             NaN   \n",
       "\n",
       "                                     50_50_outcome_id  50_50_outcome_name  \\\n",
       "id                                                                          \n",
       "24aa12fb-6fec-42cb-9477-1ed9eb5fd85c              NaN                 NaN   \n",
       "e2f51907-2f0c-4671-b4ae-7ddbf7acf093              NaN                 NaN   \n",
       "f4addc47-dce2-412c-b6c2-1cd35581c8ef              NaN                 NaN   \n",
       "11d66b5f-79a7-4f75-8e42-0670a4acede2              NaN                 NaN   \n",
       "de52f6c2-3f81-4bea-a799-46746fd9420b              NaN                 NaN   \n",
       "f0da6e24-e9d8-45dc-a7b0-c9ba8e5745b5              NaN                 NaN   \n",
       "3db07c46-5739-4dac-93eb-d3466dab260e              NaN                 NaN   \n",
       "585e1358-dc3a-45ba-91c3-2959138a6df2              NaN                 NaN   \n",
       "292fc79e-2c4e-4b7f-94a6-9ffd5653f89a              NaN                 NaN   \n",
       "\n",
       "                                     dribble_nutmeg foul_committed_penalty  \\\n",
       "id                                                                           \n",
       "24aa12fb-6fec-42cb-9477-1ed9eb5fd85c            NaN                    NaN   \n",
       "e2f51907-2f0c-4671-b4ae-7ddbf7acf093            NaN                    NaN   \n",
       "f4addc47-dce2-412c-b6c2-1cd35581c8ef            NaN                    NaN   \n",
       "11d66b5f-79a7-4f75-8e42-0670a4acede2            NaN                    NaN   \n",
       "de52f6c2-3f81-4bea-a799-46746fd9420b            NaN                    NaN   \n",
       "f0da6e24-e9d8-45dc-a7b0-c9ba8e5745b5            NaN                    NaN   \n",
       "3db07c46-5739-4dac-93eb-d3466dab260e            NaN                    NaN   \n",
       "585e1358-dc3a-45ba-91c3-2959138a6df2            NaN                    NaN   \n",
       "292fc79e-2c4e-4b7f-94a6-9ffd5653f89a            NaN                    NaN   \n",
       "\n",
       "                                     foul_won_penalty  match_id  \n",
       "id                                                               \n",
       "24aa12fb-6fec-42cb-9477-1ed9eb5fd85c              NaN   3878542  \n",
       "e2f51907-2f0c-4671-b4ae-7ddbf7acf093              NaN   3878542  \n",
       "f4addc47-dce2-412c-b6c2-1cd35581c8ef              NaN   3878542  \n",
       "11d66b5f-79a7-4f75-8e42-0670a4acede2              NaN   3878542  \n",
       "de52f6c2-3f81-4bea-a799-46746fd9420b              NaN   3878542  \n",
       "f0da6e24-e9d8-45dc-a7b0-c9ba8e5745b5              NaN   3878542  \n",
       "3db07c46-5739-4dac-93eb-d3466dab260e              NaN   3878542  \n",
       "585e1358-dc3a-45ba-91c3-2959138a6df2              NaN   3878542  \n",
       "292fc79e-2c4e-4b7f-94a6-9ffd5653f89a              NaN   3878542  \n",
       "\n",
       "[9 rows x 116 columns]"
      ]
     },
     "execution_count": 85,
     "metadata": {},
     "output_type": "execute_result"
    }
   ],
   "source": [
    "shots_match"
   ]
  },
  {
   "cell_type": "markdown",
   "id": "ebad6d1a-6444-49f0-9b3a-d21dc5303c00",
   "metadata": {},
   "source": [
    "- Two separate DataFrames are created for passes and shots, indexed by their IDs."
   ]
  },
  {
   "cell_type": "code",
   "execution_count": 52,
   "id": "473976cf-4c50-461a-9ab1-61e0f85bf552",
   "metadata": {},
   "outputs": [],
   "source": [
    "    # Calculate shot and pass times\n",
    "    shot_times = shots_match['minute'] * 60 + shots_match['second']\n",
    "    shot_window = 15\n",
    "    shot_start = shot_times - shot_window\n",
    "    pass_times = passes_match['minute'] * 60 + passes_match['second']"
   ]
  },
  {
   "cell_type": "markdown",
   "id": "f03f3203-22f6-4bd1-9d57-f69955b43075",
   "metadata": {},
   "source": [
    "1. **Calculate Shot Times in Seconds:**\n",
    "   - `shot_times = shots_match['minute'] * 60 + shots_match['second']`\n",
    "     - This line calculates the time at which each shot occurred in seconds. It converts the minutes to seconds and adds the remaining seconds to get the total time elapsed in seconds at the moment of each shot.\n",
    "\n",
    "2. **Define the Shot Window:**\n",
    "   - `shot_window = 15`\n",
    "     - Here, `shot_window` is set to 15, which represents 15 seconds. This window is used to identify passes that occurred within 15 seconds leading up to a shot.\n",
    "\n",
    "3. **Calculate the Start of the Shot Window:**\n",
    "   - `shot_start = shot_times - shot_window`\n",
    "     - This line calculates the starting point of the window for each shot. By subtracting the `shot_window` (15 seconds) from the `shot_times`, it determines the earliest time in the window where passes could be considered as leading up to the shot.\n",
    "\n",
    "4. **Calculate Pass Times in Seconds:**\n",
    "   - `pass_times = passes_match['minute'] * 60 + passes_match['second']`\n",
    "     - Similar to shot times, this line calculates the time at which each pass occurred in seconds.\n",
    "\n",
    "The purpose of these calculations is to identify \"danger passes\" that occur within a very specific and short timeframe leading up to a shot, indicating a direct contribution to creating a scoring opportunity."
   ]
  },
  {
   "cell_type": "code",
   "execution_count": 53,
   "id": "9a9574f0-b025-45db-9154-8d752850fdad",
   "metadata": {},
   "outputs": [],
   "source": [
    "    # Identify danger passes\n",
    "    def in_range(pass_time, start, finish):\n",
    "        return (True in ((start < pass_time) & (pass_time < finish)).unique())\n",
    "\n",
    "    pass_to_shot = pass_times.apply(lambda x: in_range(x, shot_start, shot_times))"
   ]
  },
  {
   "cell_type": "markdown",
   "id": "5df20331-8be1-49d5-aae6-db1f59579450",
   "metadata": {},
   "source": [
    "- A function `in_range` is defined to check if a pass occurs within the 15-seconds window before a shot.\n",
    "- This function is applied to all pass times to identify danger passes."
   ]
  },
  {
   "cell_type": "code",
   "execution_count": 54,
   "id": "e04c12b6-0842-48c3-b5ea-bb9f3de71592",
   "metadata": {},
   "outputs": [],
   "source": [
    "    # Exclude corners and aggregate danger passes\n",
    "    iscorner = passes_match['pass_type_name'] == 'Corner'\n",
    "    danger_passes = passes_match[np.logical_and(pass_to_shot, np.logical_not(iscorner))]"
   ]
  },
  {
   "cell_type": "markdown",
   "id": "6e5875ce-87d0-4757-8d95-d1cbfed0031a",
   "metadata": {},
   "source": [
    "- Passes classified as corners are excluded from danger passes.\n",
    "- Danger passes are aggregated over all matches."
   ]
  },
  {
   "cell_type": "markdown",
   "id": "486980ef-a05b-4c07-bac6-4b0d96cd7cc2",
   "metadata": {},
   "source": [
    "**Aggregating Danger Passes Across Matches:**"
   ]
  },
  {
   "cell_type": "code",
   "execution_count": 56,
   "id": "32ce6d33-94fa-4669-9473-b3b29a71acee",
   "metadata": {},
   "outputs": [],
   "source": [
    "    if ic == 0:\n",
    "        passes = danger_passes\n",
    "    else:\n",
    "        #passes = passes.append(danger_passes)\n",
    "        # Use pandas.concat to concatenate the existing 'passes' DataFrame with the new 'danger_passes' DataFrame\n",
    "        passes = pd.concat([passes, danger_passes], ignore_index=True)"
   ]
  },
  {
   "cell_type": "markdown",
   "id": "98f9e8c3-388c-4692-8887-2727d2ecc4a4",
   "metadata": {},
   "source": [
    "This part of the code is dealing with aggregating \"danger passes\" from multiple matches into a single DataFrame and keeping track of the number of matches analyzed. Let's break it down for better understanding:\n",
    "\n",
    "- This code block is part of the main loop iterating over matches (`match_id_required`). The variable `ic` is the loop's index, starting from 0 for the first match.\n",
    "- For the first match (`if ic == 0`), the DataFrame `passes` is initialized with the DataFrame `danger_passes`, which contains all the danger passes identified for that match.\n",
    "- For subsequent matches (`else`), the new `danger_passes` DataFrame is appended to the existing `passes` DataFrame. This way, `passes` accumulates danger passes from all matches.\n",
    "- This approach ensures that by the end of the loop, `passes` contains all danger passes from every match played by the team."
   ]
  },
  {
   "cell_type": "markdown",
   "id": "89a58f58-17fe-4578-ac55-84e3c94383f8",
   "metadata": {},
   "source": [
    "**Printing the Number of Danger Passes for Each Match:**"
   ]
  },
  {
   "cell_type": "code",
   "execution_count": 57,
   "id": "a8405d5b-b1e9-4680-bca8-66ab2a58bb59",
   "metadata": {},
   "outputs": [
    {
     "name": "stdout",
     "output_type": "stream",
     "text": [
      "Match: 3878542. Number of danger passes is: 24\n"
     ]
    }
   ],
   "source": [
    "    print('Match: ' + str(match_id) + '. Number of danger passes is: ' + str(len(danger_passes)))"
   ]
  },
  {
   "cell_type": "markdown",
   "id": "76e28ece-4568-4311-8f7e-4718069a30df",
   "metadata": {},
   "source": [
    "- After processing each match, this line prints the `match_id` and the number of danger passes identified in that match (`len(danger_passes)`). This output helps in understanding the contribution of each match to the overall danger passes."
   ]
  },
  {
   "cell_type": "markdown",
   "id": "6f3c8065-be55-4f09-8af5-adb4d46ba8a6",
   "metadata": {},
   "source": [
    "**Tracking the Number of Matches Analyzed:**"
   ]
  },
  {
   "cell_type": "code",
   "execution_count": 60,
   "id": "1f6b6d39-ff3f-44fa-9dcf-b4b2f9423e1b",
   "metadata": {},
   "outputs": [],
   "source": [
    "number_of_matches = ic + 1"
   ]
  },
  {
   "cell_type": "code",
   "execution_count": 61,
   "id": "afa755a5-fd8b-445d-8a0b-b19709e43251",
   "metadata": {},
   "outputs": [
    {
     "data": {
      "text/plain": [
       "38"
      ]
     },
     "execution_count": 61,
     "metadata": {},
     "output_type": "execute_result"
    }
   ],
   "source": [
    "number_of_matches"
   ]
  },
  {
   "cell_type": "markdown",
   "id": "40085b1e-0cb9-4d54-bcfa-c55a5356c968",
   "metadata": {},
   "source": [
    "\n",
    "- Once the loop has finished executing, the total number of matches processed is calculated by adding 1 to the last index `ic`. This is necessary because indexing starts at 0, so to get the count of matches, we need to offset the index by 1.\n",
    "- `number_of_matches` is used later in the analysis, particularly when creating heatmaps or averages per match, to normalize data or to provide context to the analysis."
   ]
  },
  {
   "cell_type": "markdown",
   "id": "6da167e5-a54d-4851-b2ad-3138629c43a8",
   "metadata": {},
   "source": [
    "### Step 3: Visualization\n",
    "\n",
    "This part of the code is focused on visualizing the \"danger passes\" data collected and processed from football matches. It involves two main types of visualization: plotting individual danger passes on a pitch diagram and creating a heatmap to show the concentration of these passes. Additionally, it explores player involvement in danger passes. Let's break down each part:"
   ]
  },
  {
   "cell_type": "markdown",
   "id": "711eda56-aefa-4b44-9486-65ca3d88a66c",
   "metadata": {},
   "source": [
    "### Plotting Danger Passes on a Pitch Diagram"
   ]
  },
  {
   "cell_type": "code",
   "execution_count": 62,
   "id": "5a5c436d-a20f-4cd0-a50b-3373958b2913",
   "metadata": {},
   "outputs": [],
   "source": [
    "#Size of the pitch in yards (!!!)\n",
    "pitchLengthX=120\n",
    "pitchWidthY=80"
   ]
  },
  {
   "cell_type": "markdown",
   "id": "6e0d32c3-6fd1-4870-bad7-9a4e997972d8",
   "metadata": {},
   "source": [
    "1. **Setting up the Pitch Dimensions:**\n",
    "   - The pitch is defined as 120 yards in length (`pitchLengthX`) and 80 yards in width (`pitchWidthY`). These dimensions are standard for a football pitch."
   ]
  },
  {
   "cell_type": "markdown",
   "id": "89a06f24-60c6-4aae-9fec-831df65294a1",
   "metadata": {},
   "source": [
    "2. **Creating the Pitch:**\n",
    "   - `createPitch(pitchLengthX, pitchWidthY, 'yards', 'gray')` creates a visual representation of a football pitch. The function returns a figure (`fig`) and axes (`ax`) object for plotting."
   ]
  },
  {
   "cell_type": "code",
   "execution_count": 76,
   "id": "ac8e495b-24e2-4803-9407-883571ff37ad",
   "metadata": {
    "collapsed": true,
    "jupyter": {
     "outputs_hidden": true
    },
    "scrolled": true
   },
   "outputs": [
    {
     "data": {
      "image/png": "[encoded data removed]",
      "text/plain": [
       "<Figure size 432x288 with 1 Axes>"
      ]
     },
     "metadata": {
      "needs_background": "light"
     },
     "output_type": "display_data"
    }
   ],
   "source": [
    "(fig,ax) = createPitch(pitchLengthX,pitchWidthY,'yards','gray')"
   ]
  },
  {
   "cell_type": "code",
   "execution_count": 83,
   "id": "4fec6eb1-bbf8-47de-910b-1f059642704c",
   "metadata": {},
   "outputs": [],
   "source": [
    "#Plot the passes\n",
    "for i,thepass in passes.iterrows():\n",
    "    x=thepass['location'][0]\n",
    "    y=pitchWidthY-thepass['location'][1]\n",
    "    passCircle=plt.Circle((x,y),1,color=\"blue\")      \n",
    "    passCircle.set_alpha(.2)   \n",
    "    ax.add_patch(passCircle)"
   ]
  },
  {
   "cell_type": "markdown",
   "id": "d84ee020-2140-4379-af9d-fe93b1792ed8",
   "metadata": {},
   "source": [
    "3. **Plotting Each Danger Pass:**\n",
    "   - The code iterates through each row in the `passes` DataFrame, which contains danger passes.\n",
    "   - For each pass, it plots a circle at the pass's location on the pitch. The `x` and `y` coordinates are adjusted so that (0,0) is in the bottom left of the plot, inverting `y` to match the typical orientation of a football pitch in diagrams.\n",
    "   - The circle's color is set to blue with a low alpha value (`set_alpha(.2)`), making it semi-transparent. This helps in visualizing overlaps without cluttering the diagram."
   ]
  },
  {
   "cell_type": "code",
   "execution_count": 78,
   "id": "e538c99f-7e80-4c4b-b90d-964814f2ad09",
   "metadata": {},
   "outputs": [],
   "source": [
    "ax.set_title('Danger passes by ' + team_required)\n",
    "fig.set_size_inches(10, 7)\n",
    "#fig.savefig('Output/PassesBy' + team_required + '.pdf', dpi=100) \n",
    "plt.show()"
   ]
  },
  {
   "cell_type": "markdown",
   "id": "59c19ab9-399c-4bf5-8d6e-8b90927a20fe",
   "metadata": {},
   "source": [
    "4. **Finalizing the Plot:**\n",
    "   - The plot's title is set, and the figure's size is adjusted for clarity.\n",
    "   - The plot is saved as a PDF file, and then displayed using `plt.show()`."
   ]
  },
  {
   "cell_type": "markdown",
   "id": "213b7e47-116b-4be8-a65b-cc6b4648c18b",
   "metadata": {},
   "source": [
    "### Creating a Heatmap of Danger Passes"
   ]
  },
  {
   "cell_type": "code",
   "execution_count": 66,
   "id": "1f23b6c5-518d-4109-8b59-adfc01120fd8",
   "metadata": {},
   "outputs": [],
   "source": [
    "#Make x,y positions\n",
    "x=[]\n",
    "y=[]\n",
    "for i,apass in passes.iterrows():\n",
    "    x.append(apass['location'][0])\n",
    "    y.append(pitchWidthY-apass['location'][1])"
   ]
  },
  {
   "cell_type": "markdown",
   "id": "3f3fb580-8c08-4647-9169-4a05e5f35d55",
   "metadata": {},
   "source": [
    "1. **Preparing x, y Coordinates:**\n",
    "   - Coordinates for each danger pass are extracted and adjusted similar to the first plot. These are used to calculate the density of passes across the pitch."
   ]
  },
  {
   "cell_type": "code",
   "execution_count": 67,
   "id": "e4bb70a3-451c-4c3d-88e4-69385675cc13",
   "metadata": {},
   "outputs": [],
   "source": [
    "#Make a histogram of passes\n",
    "H_Pass=np.histogram2d(y, x,bins=5,range=[[0, pitchWidthY],[0, pitchLengthX]])"
   ]
  },
  {
   "cell_type": "markdown",
   "id": "5138bef0-e229-4df9-bac5-eaf31f366cc1",
   "metadata": {},
   "source": [
    "2. **Calculating the Histogram:**\n",
    "   - `np.histogram2d(y, x, bins=5, range=[[0, pitchWidthY], [0, pitchLengthX]])` creates a 2D histogram. This function bins the `x` and `y` coordinates into a 5x5 grid, effectively counting the number of danger passes within each bin."
   ]
  },
  {
   "cell_type": "code",
   "execution_count": 68,
   "id": "2a06696a-6d09-451c-8fe7-c2e9908f6074",
   "metadata": {},
   "outputs": [
    {
     "data": {
      "text/plain": [
       "(83.0, -3.0)"
      ]
     },
     "execution_count": 68,
     "metadata": {},
     "output_type": "execute_result"
    },
    {
     "data": {
      "image/png": "[encoded data removed]",
      "text/plain": [
       "<Figure size 432x288 with 2 Axes>"
      ]
     },
     "metadata": {
      "needs_background": "light"
     },
     "output_type": "display_data"
    }
   ],
   "source": [
    "# createPitch\n",
    "(fig,ax) = createPitch(pitchLengthX,pitchWidthY,'yards','gray')\n",
    "\n",
    "pos=ax.imshow(H_Pass[0]/number_of_matches, extent=[0,120,0,80], aspect='auto',cmap=plt.cm.Reds)\n",
    "\n",
    "fig.colorbar(pos, ax=ax)\n",
    "#ax.set_title('Danger passes per match by ' + team_required)\n",
    "plt.xlim((-1,121))\n",
    "plt.ylim((83,-3))"
   ]
  },
  {
   "cell_type": "markdown",
   "id": "505bd096-f49d-4776-959e-e77ac8fb985d",
   "metadata": {},
   "source": [
    "3. **Plotting the Heatmap:**\n",
    "   - The histogram data is divided by the `number_of_matches` to get an average per match, ensuring the visualization reflects the density of danger passes relative to the number of matches played.\n",
    "   - `ax.imshow` plots this data as a heatmap on the pitch diagram. The color map (`cmap=plt.cm.Reds`) indicates the concentration of passes, with warmer colors representing higher densities.\n",
    "   - A color bar is added for reference to the density values."
   ]
  },
  {
   "cell_type": "code",
   "execution_count": 69,
   "id": "4c9ddb2c-3c88-494e-9f64-9e62ab9bfa4c",
   "metadata": {
    "collapsed": true,
    "jupyter": {
     "outputs_hidden": true
    },
    "scrolled": true
   },
   "outputs": [
    {
     "data": {
      "image/png": "[encoded data removed]",
      "text/plain": [
       "<Figure size 432x288 with 1 Axes>"
      ]
     },
     "metadata": {
      "needs_background": "light"
     },
     "output_type": "display_data"
    }
   ],
   "source": [
    "plt.tight_layout()\n",
    "plt.gca().set_aspect('equal', adjustable='box')\n",
    "plt.show()\n",
    "\n",
    "#fig.savefig('Output/HeatmapOfPasses' + team_required + '.pdf', dpi=None, bbox_inches=\"tight\") "
   ]
  },
  {
   "cell_type": "markdown",
   "id": "50f8cb99-eca2-44d0-b57a-0dda9a7491f3",
   "metadata": {},
   "source": [
    "4. **Adjusting the Heatmap Plot:**\n",
    "   - The plot limits are set to slightly exceed the pitch dimensions to ensure the entire pitch is visible without clipping.\n",
    "   - The aspect ratio is set to `equal` to maintain the correct proportions of the pitch."
   ]
  },
  {
   "cell_type": "markdown",
   "id": "c5dcc53a-e9a1-433a-9762-ac8c38e46c9a",
   "metadata": {},
   "source": [
    "### Analyzing Player Involvement"
   ]
  },
  {
   "cell_type": "code",
   "execution_count": 70,
   "id": "71595293-c217-4841-b7e7-2891cbe46d7c",
   "metadata": {},
   "outputs": [
    {
     "data": {
      "text/plain": [
       "Giacomo Bonaventura                 165\n",
       "Riccardo Montolivo                  125\n",
       "Keisuke Honda                       121\n",
       "Carlos Arturo Bacca Ahumada         113\n",
       "Luca Antonelli                       94\n",
       "Ignazio Abate                        94\n",
       "Andrea Bertolacci                    92\n",
       "Juraj Kucka                          88\n",
       "Mattia De Sciglio                    74\n",
       "Alessio Romagnoli                    57\n",
       "Luiz Adriano de Souza da Silva       37\n",
       "Mario Barwuah Balotelli              37\n",
       "M''Baye Babacar Niang                31\n",
       "Alessio Cerci                        26\n",
       "Alex Rodrigo Dias da Costa           25\n",
       "Davide Calabria                      23\n",
       "Andrea Poli                          18\n",
       "Cristian Eduardo Zapata Valencia     16\n",
       "Jérémy Ménez                         16\n",
       "José Mauri                           14\n",
       "Kevin-Prince Boateng                 14\n",
       "Nigel de Jong                        11\n",
       "Philippe Mexès                        9\n",
       "Gianluigi Donnarumma                  9\n",
       "Diego López Rodríguez                 6\n",
       "Antonio Nocerino                      5\n",
       "Manuel Locatelli                      4\n",
       "Name: player_name, dtype: int64"
      ]
     },
     "execution_count": 70,
     "metadata": {},
     "output_type": "execute_result"
    }
   ],
   "source": [
    "passes.player_name.value_counts()"
   ]
  },
  {
   "cell_type": "markdown",
   "id": "faf117b4-2c47-4e3a-919c-2eee9bcecdcb",
   "metadata": {},
   "source": [
    "- `passes.player_name.value_counts()` counts the number of danger passes made by each player. This simple analysis identifies which players are most involved in creating dangerous situations through passing."
   ]
  },
  {
   "cell_type": "code",
   "execution_count": null,
   "id": "998110d4-3e67-4108-b5ed-e668a8429f9b",
   "metadata": {},
   "outputs": [],
   "source": []
  },
  {
   "cell_type": "markdown",
   "id": "8c44fba4-6658-4103-b3c4-a9505f8d2fe1",
   "metadata": {},
   "source": [
    "### Complete code"
   ]
  },
  {
   "cell_type": "code",
   "execution_count": 71,
   "id": "e416ac1e-bc3c-4184-8fe8-2abf4a697a9a",
   "metadata": {
    "scrolled": true
   },
   "outputs": [
    {
     "name": "stdout",
     "output_type": "stream",
     "text": [
      "Match: 3879628. Number of danger passes is: 41\n",
      "Match: 3879665. Number of danger passes is: 61\n",
      "Match: 3879585. Number of danger passes is: 47\n",
      "Match: 3879562. Number of danger passes is: 24\n",
      "Match: 3879836. Number of danger passes is: 54\n",
      "Match: 3879781. Number of danger passes is: 27\n",
      "Match: 3879771. Number of danger passes is: 28\n",
      "Match: 3879756. Number of danger passes is: 16\n",
      "Match: 3879742. Number of danger passes is: 27\n",
      "Match: 3879869. Number of danger passes is: 32\n",
      "Match: 3879858. Number of danger passes is: 48\n",
      "Match: 3879851. Number of danger passes is: 56\n",
      "Match: 3879846. Number of danger passes is: 34\n",
      "Match: 3879824. Number of danger passes is: 23\n",
      "Match: 3879810. Number of danger passes is: 14\n",
      "Match: 3879805. Number of danger passes is: 32\n",
      "Match: 3879791. Number of danger passes is: 44\n",
      "Match: 3879758. Number of danger passes is: 31\n",
      "Match: 3879734. Number of danger passes is: 47\n",
      "Match: 3879721. Number of danger passes is: 39\n",
      "Match: 3879712. Number of danger passes is: 34\n",
      "Match: 3879698. Number of danger passes is: 22\n",
      "Match: 3879690. Number of danger passes is: 9\n",
      "Match: 3879676. Number of danger passes is: 43\n",
      "Match: 3879674. Number of danger passes is: 44\n",
      "Match: 3879652. Number of danger passes is: 48\n",
      "Match: 3879642. Number of danger passes is: 43\n",
      "Match: 3879618. Number of danger passes is: 23\n",
      "Match: 3879607. Number of danger passes is: 16\n",
      "Match: 3879599. Number of danger passes is: 13\n",
      "Match: 3879594. Number of danger passes is: 53\n",
      "Match: 3879568. Number of danger passes is: 23\n",
      "Match: 3879549. Number of danger passes is: 27\n",
      "Match: 3879537. Number of danger passes is: 19\n",
      "Match: 3878602. Number of danger passes is: 47\n",
      "Match: 3878600. Number of danger passes is: 48\n",
      "Match: 3878551. Number of danger passes is: 15\n",
      "Match: 3878542. Number of danger passes is: 24\n"
     ]
    },
    {
     "data": {
      "image/png": "[encoded data removed]",
      "text/plain": [
       "<Figure size 720x504 with 1 Axes>"
      ]
     },
     "metadata": {
      "needs_background": "light"
     },
     "output_type": "display_data"
    },
    {
     "data": {
      "image/png": "[encoded data removed]",
      "text/plain": [
       "<Figure size 432x288 with 2 Axes>"
      ]
     },
     "metadata": {
      "needs_background": "light"
     },
     "output_type": "display_data"
    },
    {
     "data": {
      "text/plain": [
       "Giacomo Bonaventura                 155\n",
       "Riccardo Montolivo                  125\n",
       "Keisuke Honda                       117\n",
       "Carlos Arturo Bacca Ahumada         109\n",
       "Ignazio Abate                        94\n",
       "Andrea Bertolacci                    90\n",
       "Juraj Kucka                          88\n",
       "Luca Antonelli                       84\n",
       "Mattia De Sciglio                    70\n",
       "Alessio Romagnoli                    53\n",
       "Mario Barwuah Balotelli              37\n",
       "Luiz Adriano de Souza da Silva       35\n",
       "M''Baye Babacar Niang                31\n",
       "Alessio Cerci                        26\n",
       "Alex Rodrigo Dias da Costa           25\n",
       "Davide Calabria                      23\n",
       "Andrea Poli                          18\n",
       "Cristian Eduardo Zapata Valencia     16\n",
       "Jérémy Ménez                         16\n",
       "José Mauri                           14\n",
       "Kevin-Prince Boateng                 14\n",
       "Philippe Mexès                        9\n",
       "Gianluigi Donnarumma                  9\n",
       "Nigel de Jong                         7\n",
       "Manuel Locatelli                      4\n",
       "Diego López Rodríguez                 4\n",
       "Antonio Nocerino                      3\n",
       "Name: player_name, dtype: int64"
      ]
     },
     "execution_count": 71,
     "metadata": {},
     "output_type": "execute_result"
    }
   ],
   "source": [
    "#Make a heat map of all teams passes during a tournament.\n",
    "# We set a window for danger passes to be those in 15 minutes leading up to a shot.\n",
    "\n",
    "#Find the matches they played\n",
    "match_id_required=[]\n",
    "for match in matches:\n",
    "    home_team_name=match['home_team']['home_team_name']\n",
    "    away_team_name=match['away_team']['away_team_name']\n",
    "    if (home_team_name==team_required) or (away_team_name==team_required):\n",
    "        match_id_required.append(match['match_id'])\n",
    "    \n",
    "#Find the passes for each match\n",
    "for ic,match_id in enumerate(match_id_required):\n",
    "    \n",
    "    #Load in all match events \n",
    "\n",
    "    file_name=str(match_id)+'.json'\n",
    "    with open('Statsbomb/data/events/'+file_name) as data_file:\n",
    "        data = json.load(data_file)\n",
    "    df = json_normalize(data, sep = \"_\").assign(match_id = file_name[:-5])\n",
    "    team_actions = (df['team_name']==team_required)\n",
    "    df = df[team_actions]\n",
    "    \n",
    "    #A dataframe of passes\n",
    "    passes_match = df.loc[df['type_name'] == 'Pass'].set_index('id')\n",
    "    #A dataframe of shots\n",
    "    shots_match = df.loc[df['type_name'] == 'Shot'].set_index('id')\n",
    "    \n",
    "    #Find shot times in seconds\n",
    "    #This should be adjusted to account for overlapping halves of the match.\n",
    "    shot_times = shots_match['minute']*60+shots_match['second']\n",
    "    shot_window = 15  \n",
    "    shot_start = shot_times - shot_window\n",
    "    pass_times = passes_match['minute']*60+passes_match['second']\n",
    "    \n",
    "    #Check with passes are whitin [shot_window] seconds of a shot\n",
    "    #Idea from this code came from https://stackoverflow.com/questions/38201057/efficiently-check-if-value-is-present-in-any-of-given-ranges\n",
    "    def in_range(pass_time,start,finish):\n",
    "        return (True in ((start < pass_time) & (pass_time < finish)).unique())\n",
    "\n",
    "    pass_to_shot = pass_times.apply(lambda x: in_range(x,shot_start,shot_times))\n",
    "    \n",
    "    #Exclude corners\n",
    "    iscorner = passes_match['pass_type_name']=='Corner'\n",
    "    \n",
    "    danger_passes=passes_match[np.logical_and(pass_to_shot,np.logical_not(iscorner))]\n",
    "    \n",
    "    if ic==0:\n",
    "        passes =  danger_passes\n",
    "    else:\n",
    "        #passes = passes.append(danger_passes)\n",
    "        # Use pandas.concat to concatenate the existing 'passes' DataFrame with the new 'danger_passes' DataFrame\n",
    "        passes = pd.concat([passes, danger_passes], ignore_index=True)\n",
    "\n",
    "    \n",
    "    \n",
    "    print('Match: ' + str(match_id) + '. Number of danger passes is: ' + str(len(danger_passes)))\n",
    "\n",
    "\n",
    "#Set number of matches\n",
    "number_of_matches=ic+1\n",
    "\n",
    "#Size of the pitch in yards (!!!)\n",
    "pitchLengthX=120\n",
    "pitchWidthY=80\n",
    "\n",
    "#Plot the passes\n",
    "(fig,ax) = createPitch(pitchLengthX,pitchWidthY,'yards','gray')\n",
    "for i,thepass in passes.iterrows():\n",
    "    x=thepass['location'][0]\n",
    "    y=pitchWidthY-thepass['location'][1]\n",
    "    passCircle=plt.Circle((x,y),1,color=\"blue\")      \n",
    "    passCircle.set_alpha(.2)   \n",
    "    ax.add_patch(passCircle)\n",
    "\n",
    "ax.set_title('Danger passes by ' + team_required)\n",
    "fig.set_size_inches(10, 7)\n",
    "fig.savefig('Output/PassesBy' + team_required + '.pdf', dpi=100) \n",
    "plt.show()\n",
    "\n",
    "#Make x,y positions\n",
    "x=[]\n",
    "y=[]\n",
    "for i,apass in passes.iterrows():\n",
    "    x.append(apass['location'][0])\n",
    "    y.append(pitchWidthY-apass['location'][1])\n",
    "\n",
    "#Make a histogram of passes\n",
    "H_Pass=np.histogram2d(y, x,bins=5,range=[[0, pitchWidthY],[0, pitchLengthX]])\n",
    "\n",
    "from FCPython import createPitch\n",
    "(fig,ax) = createPitch(pitchLengthX,pitchWidthY,'yards','gray')\n",
    "pos=ax.imshow(H_Pass[0]/number_of_matches, extent=[0,120,0,80], aspect='auto',cmap=plt.cm.Reds)\n",
    "fig.colorbar(pos, ax=ax)\n",
    "#ax.set_title('Danger passes per match by ' + team_required)\n",
    "plt.xlim((-1,121))\n",
    "plt.ylim((83,-3))\n",
    "plt.tight_layout()\n",
    "plt.gca().set_aspect('equal', adjustable='box')\n",
    "plt.show()\n",
    "\n",
    "fig.savefig('Output/HeatmapOfPasses' + team_required + '.pdf', dpi=None, bbox_inches=\"tight\") \n",
    "\n",
    "\n",
    "#Make a diagram showing which player was involved in dangerous passes.\n",
    "#Extend this to count in how many of the attacks she is involved.\n",
    "passes.player_name.value_counts()\n",
    "\n",
    "    \n",
    "#Challenge: improve so that only high xG (>0.07) are included.\n",
    "\n",
    "\n",
    "    \n",
    "\n"
   ]
  }
 ],
 "metadata": {
  "kernelspec": {
   "display_name": "Python 3 (ipykernel)",
   "language": "python",
   "name": "python3"
  },
  "language_info": {
   "codemirror_mode": {
    "name": "ipython",
    "version": 3
   },
   "file_extension": ".py",
   "mimetype": "text/x-python",
   "name": "python",
   "nbconvert_exporter": "python",
   "pygments_lexer": "ipython3",
   "version": "3.9.12"
  }
 },
 "nbformat": 4,
 "nbformat_minor": 5
}
