{
 "cells": [
  {
   "cell_type": "markdown",
   "id": "810412f6-239f-4f11-9240-52a68ceb99bc",
   "metadata": {},
   "source": [
    "## Refactor `9ShotTimes.py`"
   ]
  },
  {
   "cell_type": "code",
   "execution_count": 2,
   "id": "a0b6fa6b-ab92-4ff3-b4b0-5a91085dc3f8",
   "metadata": {},
   "outputs": [],
   "source": [
    "import pandas as pd\n",
    "import numpy as np\n",
    "import json\n",
    "import matplotlib.pyplot as plt\n",
    "import matplotlib\n",
    "\n",
    "def load_data(file_path):\n",
    "    \"\"\"Load JSON data from file and return as a pandas DataFrame.\"\"\"\n",
    "    with open(file_path) as f:\n",
    "        data = json.load(f)\n",
    "    return pd.DataFrame(data)\n",
    "\n",
    "def identify_goals(shots_df):\n",
    "    \"\"\"Identify shots that resulted in goals and return updated DataFrame.\"\"\"\n",
    "    # Vectorized operation to identify goals\n",
    "    shots_df['Goal'] = shots_df['tags'].apply(lambda tags: 1 if any(tag['id'] == 101 for tag in tags) else 0)\n",
    "    return shots_df\n",
    "\n",
    "def filter_shots(shots_df, half, is_goal):\n",
    "    \"\"\"Filter shots based on match half and whether it was a goal.\"\"\"\n",
    "    condition = (shots_df['matchPeriod'] == half)\n",
    "    if is_goal:\n",
    "        condition = condition & (shots_df['Goal'] == 1)\n",
    "    return shots_df[condition]['eventSec']\n",
    "\n",
    "def calculate_statistics(shots_df, total_shots):\n",
    "    \"\"\"Calculate and print basic shot statistics.\"\"\"\n",
    "    number_of_matches = len(np.unique(shots_df['matchId']))\n",
    "    shots_per_match = total_shots / number_of_matches\n",
    "    shots_per_min = total_shots / 48  # Assuming 48 minutes per half\n",
    "    print(f\"Total shots: {total_shots}, Shots per match: {shots_per_match:.2f}, Shots per minute: {shots_per_min:.2f}\")\n",
    "\n",
    "def plot_shots(shots_times, half, is_goal):\n",
    "    \"\"\"Plot histogram of shots or goals.\"\"\"\n",
    "    # Configure plot aesthetics\n",
    "    plt.figure(figsize=(12 / 2.54, 8 / 2.54))\n",
    "    plt.hist(shots_times / 60, bins=range(0, 49))  # Convert seconds to minutes\n",
    "    plt.xlabel('Time elapsed in ' + half[0] + ' half (minutes)')\n",
    "    ylabel = 'Number of goals over the season' if is_goal else 'Number of shots over the season'\n",
    "    plt.ylabel(ylabel)\n",
    "    plt.title(f\"Distribution of {'Goals' if is_goal else 'Shots'} in the {half}\")\n",
    "    plt.grid(axis='y')\n",
    "\n",
    "    plt.show()\n",
    "\n",
    "def save_figure(fig, half, is_goal):\n",
    "    \"\"\"Save the figure to a PDF file.\"\"\"\n",
    "    filename = f'Output/TimesOf{\"Goals\" if is_goal else \"Shots\"}{half}.pdf'\n",
    "    fig.savefig(filename, dpi=None, bbox_inches=\"tight\")"
   ]
  },
  {
   "cell_type": "code",
   "execution_count": 3,
   "id": "aa886a4b-9be3-4b27-878c-d7c1de82c71f",
   "metadata": {},
   "outputs": [
    {
     "name": "stdout",
     "output_type": "stream",
     "text": [
      "Total shots: 3124, Shots per match: 10.21, Shots per minute: 65.08\n"
     ]
    },
    {
     "data": {
      "image/png": "[encoded data removed]",
      "text/plain": [
       "<Figure size 340.157x226.772 with 1 Axes>"
      ]
     },
     "metadata": {
      "needs_background": "light"
     },
     "output_type": "display_data"
    }
   ],
   "source": [
    "# Load the Wyscout data\n",
    "data_df = load_data('wyscout/events/events_Germany.json')\n",
    "\n",
    "# Filter out shots from the events data and identify goals\n",
    "shots = data_df[data_df['subEventName'] == 'Shot'].copy()\n",
    "shots = identify_goals(shots)\n",
    "\n",
    "# Define variables for analysis\n",
    "half = '1H'\n",
    "is_goal = 0  # 0 for shots, 1 for goals\n",
    "\n",
    "# Filter shots based on the half and goal condition\n",
    "the_shots = filter_shots(shots, half, is_goal)\n",
    "\n",
    "# Calculate and print basic statistics\n",
    "calculate_statistics(shots, len(the_shots))\n",
    "\n",
    "# Plot the shots or goals\n",
    "plot_shots(the_shots, half, is_goal)"
   ]
  }
 ],
 "metadata": {
  "kernelspec": {
   "display_name": "Python 3 (ipykernel)",
   "language": "python",
   "name": "python3"
  },
  "language_info": {
   "codemirror_mode": {
    "name": "ipython",
    "version": 3
   },
   "file_extension": ".py",
   "mimetype": "text/x-python",
   "name": "python",
   "nbconvert_exporter": "python",
   "pygments_lexer": "ipython3",
   "version": "3.9.12"
  }
 },
 "nbformat": 4,
 "nbformat_minor": 5
}
