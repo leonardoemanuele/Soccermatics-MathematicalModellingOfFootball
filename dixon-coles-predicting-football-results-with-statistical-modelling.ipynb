{
 "cells": [
  {
   "cell_type": "markdown",
   "id": "f90a4316-e5a5-43ba-b613-58bd678493e5",
   "metadata": {},
   "source": [
    "# Predicting Football Results with Statistical Modelling: Dixon-Coles and Time-Weighting\n",
    "\n",
    "https://github.com/dashee87/blogScripts/blob/master/Jupyter/2018-09-13-predicting-football-results-with-statistical-modelling-dixon-coles-and-time-weighting.ipynb\n",
    "\n",
    "# https://fivethirtyeight.com/methodology/how-our-club-soccer-predictions-work/"
   ]
  },
  {
   "cell_type": "markdown",
   "id": "9de23fe3-aa2f-468e-b482-65c2d91d9912",
   "metadata": {},
   "source": [
    "## Data\n",
    "\n",
    "We'll initially pull the match results for the 2022/23 season from [football-data.co.uk](football-data.co.uk). This code is pretty much the same as last time."
   ]
  },
  {
   "cell_type": "code",
   "execution_count": 10,
   "id": "a9d9f575-3f4d-4608-aadc-a605d22a7409",
   "metadata": {},
   "outputs": [
    {
     "data": {
      "text/html": [
       "<div>\n",
       "<style scoped>\n",
       "    .dataframe tbody tr th:only-of-type {\n",
       "        vertical-align: middle;\n",
       "    }\n",
       "\n",
       "    .dataframe tbody tr th {\n",
       "        vertical-align: top;\n",
       "    }\n",
       "\n",
       "    .dataframe thead th {\n",
       "        text-align: right;\n",
       "    }\n",
       "</style>\n",
       "<table border=\"1\" class=\"dataframe\">\n",
       "  <thead>\n",
       "    <tr style=\"text-align: right;\">\n",
       "      <th></th>\n",
       "      <th>HomeTeam</th>\n",
       "      <th>AwayTeam</th>\n",
       "      <th>HomeGoals</th>\n",
       "      <th>AwayGoals</th>\n",
       "    </tr>\n",
       "  </thead>\n",
       "  <tbody>\n",
       "    <tr>\n",
       "      <th>0</th>\n",
       "      <td>Milan</td>\n",
       "      <td>Udinese</td>\n",
       "      <td>4</td>\n",
       "      <td>2</td>\n",
       "    </tr>\n",
       "    <tr>\n",
       "      <th>1</th>\n",
       "      <td>Sampdoria</td>\n",
       "      <td>Atalanta</td>\n",
       "      <td>0</td>\n",
       "      <td>2</td>\n",
       "    </tr>\n",
       "    <tr>\n",
       "      <th>2</th>\n",
       "      <td>Lecce</td>\n",
       "      <td>Inter</td>\n",
       "      <td>1</td>\n",
       "      <td>2</td>\n",
       "    </tr>\n",
       "    <tr>\n",
       "      <th>3</th>\n",
       "      <td>Monza</td>\n",
       "      <td>Torino</td>\n",
       "      <td>1</td>\n",
       "      <td>2</td>\n",
       "    </tr>\n",
       "    <tr>\n",
       "      <th>4</th>\n",
       "      <td>Fiorentina</td>\n",
       "      <td>Cremonese</td>\n",
       "      <td>3</td>\n",
       "      <td>2</td>\n",
       "    </tr>\n",
       "  </tbody>\n",
       "</table>\n",
       "</div>"
      ],
      "text/plain": [
       "     HomeTeam   AwayTeam  HomeGoals  AwayGoals\n",
       "0       Milan    Udinese          4          2\n",
       "1   Sampdoria   Atalanta          0          2\n",
       "2       Lecce      Inter          1          2\n",
       "3       Monza     Torino          1          2\n",
       "4  Fiorentina  Cremonese          3          2"
      ]
     },
     "execution_count": 10,
     "metadata": {},
     "output_type": "execute_result"
    }
   ],
   "source": [
    "# https://github.com/dashee87/blogScripts/blob/master/Jupyter/2017-06-04-predicting-football-results-with-statistical-modelling.ipynb\n",
    "\n",
    "import pandas as pd\n",
    "import matplotlib.pyplot as plt\n",
    "import numpy as np\n",
    "import seaborn as sns\n",
    "from scipy.stats import poisson,skellam\n",
    "from scipy.optimize import minimize\n",
    "\n",
    "sa_2223 = pd.read_csv(\"https://www.football-data.co.uk/mmz4281/2223/I1.csv\")\n",
    "sa_2223 = sa_2223[['HomeTeam','AwayTeam','FTHG','FTAG']]\n",
    "sa_2223 = sa_2223.rename(columns={'FTHG': 'HomeGoals', 'FTAG': 'AwayGoals'})\n",
    "sa_2223.head()"
   ]
  },
  {
   "cell_type": "markdown",
   "id": "2f6ceabd-fd56-4f68-bc12-285384d38049",
   "metadata": {},
   "source": [
    "## Basic Poisson Model\n",
    "\n",
    "I won't spend too long on this model, as it was the subject of the [previous post](https://dashee87.github.io/football/python/predicting-football-results-with-statistical-modelling/). \n",
    "\n",
    "Essentially, you treat the number of goals scored by each team as two independent Poisson distributions (henceforth called the Basic Poisson (BP) model). The shape of each distribution is determined by the average number of goals scored by that team. A little reminder on the mathematical definition of the Poisson distribution:\n",
    "\n",
    "$$\n",
    "P\\left( x \\right) = \\frac{e^{-\\lambda} \\lambda ^x }{x!}, \\lambda>0\n",
    "$$\n",
    "\n",
    "In our case, $\\lambda$ represents the team's average or expected goal scoring rate. The Poisson distribution is a decent approximation of a team's scoring frequency. All of the model's discussed here agree on this point; the disagreement centres on how to calculate $\\lambda_{home}$ and $\\lambda_{away}$."
   ]
  },
  {
   "cell_type": "markdown",
   "id": "8aa212f3-ffe5-4eb2-aca6-70e300bf53fe",
   "metadata": {},
   "source": [
    "\n",
    "- **$\\lambda_{home}$**: This is the average number of goals the home team is expected to score in a match. It's calculated from historical data on how many goals the team typically scores when playing at home.\n",
    "- **$\\lambda_{away}$**: Similarly, this is the average number of goals the away team is expected to score, based on their historical performance in away games.\n",
    "\n",
    "While there's general agreement on using the Poisson distribution to model goal-scoring, the debate often lies in how to best estimate $\\lambda_{home}$ and $\\lambda_{away}$ — the average scoring rates for the home and away teams, respectively. This estimation can be influenced by many factors, including:\n",
    "\n",
    "- **Team Strength**: How good the teams are offensively and defensively.\n",
    "- **Recent Form**: How well the teams have been playing recently.\n",
    "- **Head-to-Head History**: Historical performance in matches between the two teams.\n",
    "- **Player Availability**: Injuries, suspensions, and other factors affecting team composition."
   ]
  },
  {
   "cell_type": "code",
   "execution_count": 11,
   "id": "bd6c9149-07b1-49c9-ab63-70013d981eb6",
   "metadata": {},
   "outputs": [
    {
     "data": {
      "image/png": "[encoded data removed]",
      "text/plain": [
       "<Figure size 720x432 with 1 Axes>"
      ]
     },
     "metadata": {
      "needs_background": "light"
     },
     "output_type": "display_data"
    }
   ],
   "source": [
    "# construct Poisson for each mean goals value\n",
    "poisson_pred = np.column_stack([[poisson.pmf(i, sa_2223[['HomeGoals', 'AwayGoals']].mean(numeric_only=True)[j]) for i in range(8)] for j in range(2)])\n",
    "# Set the figure size for a larger plot\n",
    "plt.figure(figsize=(10, 6))  # Adjust the size as needed\n",
    "\n",
    "# Plot histogram of actual goals\n",
    "plt.hist(sa_2223[['HomeGoals', 'AwayGoals']].values, bins=range(9), \n",
    "         alpha=0.7, label=['Home', 'Away'], density=True, color=[\"#FFA07A\", \"#20B2AA\"])\n",
    "\n",
    "# Add lines for the Poisson distributions\n",
    "pois1, = plt.plot([i-0.5 for i in range(1,9)], poisson_pred[:,0],\n",
    "                  linestyle='-', marker='o',label=\"Home\", color = '#CD5C5C')\n",
    "pois2, = plt.plot([i-0.5 for i in range(1,9)], poisson_pred[:,1],\n",
    "                  linestyle='-', marker='o',label=\"Away\", color = '#006400')\n",
    "\n",
    "# Customize the legend\n",
    "leg = plt.legend(loc='upper right', fontsize=13, ncol=2)\n",
    "leg.set_title(\"Actual           Poisson         \", prop = {'size':'14', 'weight':'bold'})\n",
    "\n",
    "# Set ticks, labels, and title\n",
    "plt.xticks([i for i in range(9)], [i for i in range(9)])\n",
    "plt.xlabel(\"Goals per Match\", size=13)\n",
    "plt.ylabel(\"Proportion of Matches\", size=13)\n",
    "plt.title(\"Number of Goals per Match (Serie A 2022/23 Season)\", size=14, fontweight='bold')\n",
    "plt.ylim([-0.004, 0.4])\n",
    "\n",
    "# Tight layout for a neat presentation\n",
    "plt.tight_layout()\n",
    "\n",
    "# Save the figure as a PDF\n",
    "plt.savefig('goals_per_match_serie_a_2223.pdf', bbox_inches='tight')\n",
    "\n",
    "# Display the plot\n",
    "plt.show()"
   ]
  },
  {
   "attachments": {
    "a81042bb-bda7-46e4-a21a-ac1b465ddd0a.png": {
     "image/png": "[encoded data removed]"
    }
   },
   "cell_type": "markdown",
   "id": "1e08b315-d1ce-450f-8f19-fab5c3d743ca",
   "metadata": {},
   "source": [
    "We can formulate the model in mathematical terms:\n",
    "$$\n",
    "P\\left(X_{i,j} = x, Y_{j,i} = y \\right) = \\frac{e^{-\\lambda} \\lambda^x }{x!} \\frac{e^{-\\mu} \\mu^y }{y!}\n",
    "\\\\ \\text{where } \\quad \\lambda = \\alpha_i \\beta_j \\gamma \\quad \\mu = \\alpha_j \\beta_i\n",
    "$$\n",
    "\n",
    "\n",
    "![Screenshot 2024-02-20 at 15.47.05.png](attachment:a81042bb-bda7-46e4-a21a-ac1b465ddd0a.png)\n",
    "\n",
    "In this equation, $i$ and $j$ refer to the home and away teams, respectively; $\\alpha$ and $\\beta$ denote each team's attack and defensive strength, respectively, while $\\gamma$ represents the home advantage factor. So, we need to calculate $\\alpha$ and $\\beta$ for each team, as well as $\\gamma$ (the home field advantage term- it's the same value for every team). "
   ]
  },
  {
   "cell_type": "markdown",
   "id": "7a6f2640-7889-49fd-af79-d8c1d9e69d7e",
   "metadata": {},
   "source": [
    "## Building A Model"
   ]
  },
  {
   "cell_type": "code",
   "execution_count": 12,
   "id": "7344964b-70c6-4d9f-aede-6ae017c2eb20",
   "metadata": {
    "scrolled": true
   },
   "outputs": [
    {
     "data": {
      "text/html": [
       "<table class=\"simpletable\">\n",
       "<caption>Generalized Linear Model Regression Results</caption>\n",
       "<tr>\n",
       "  <th>Dep. Variable:</th>         <td>goals</td>      <th>  No. Observations:  </th>  <td>   760</td> \n",
       "</tr>\n",
       "<tr>\n",
       "  <th>Model:</th>                  <td>GLM</td>       <th>  Df Residuals:      </th>  <td>   720</td> \n",
       "</tr>\n",
       "<tr>\n",
       "  <th>Model Family:</th>         <td>Poisson</td>     <th>  Df Model:          </th>  <td>    39</td> \n",
       "</tr>\n",
       "<tr>\n",
       "  <th>Link Function:</th>          <td>Log</td>       <th>  Scale:             </th> <td>  1.0000</td>\n",
       "</tr>\n",
       "<tr>\n",
       "  <th>Method:</th>                <td>IRLS</td>       <th>  Log-Likelihood:    </th> <td> -1028.8</td>\n",
       "</tr>\n",
       "<tr>\n",
       "  <th>Date:</th>            <td>Thu, 22 Feb 2024</td> <th>  Deviance:          </th> <td>  735.38</td>\n",
       "</tr>\n",
       "<tr>\n",
       "  <th>Time:</th>                <td>09:17:32</td>     <th>  Pearson chi2:      </th>  <td>  635.</td> \n",
       "</tr>\n",
       "<tr>\n",
       "  <th>No. Iterations:</th>          <td>5</td>        <th>  Pseudo R-squ. (CS):</th>  <td>0.1741</td> \n",
       "</tr>\n",
       "<tr>\n",
       "  <th>Covariance Type:</th>     <td>nonrobust</td>    <th>                     </th>     <td> </td>   \n",
       "</tr>\n",
       "</table>\n",
       "<table class=\"simpletable\">\n",
       "<tr>\n",
       "             <td></td>                <th>coef</th>     <th>std err</th>      <th>z</th>      <th>P>|z|</th>  <th>[0.025</th>    <th>0.975]</th>  \n",
       "</tr>\n",
       "<tr>\n",
       "  <th>Intercept</th>               <td>    0.4509</td> <td>    0.196</td> <td>    2.301</td> <td> 0.021</td> <td>    0.067</td> <td>    0.835</td>\n",
       "</tr>\n",
       "<tr>\n",
       "  <th>team[T.Bologna]</th>         <td>   -0.2190</td> <td>    0.185</td> <td>   -1.185</td> <td> 0.236</td> <td>   -0.581</td> <td>    0.143</td>\n",
       "</tr>\n",
       "<tr>\n",
       "  <th>team[T.Cremonese]</th>       <td>   -0.5851</td> <td>    0.208</td> <td>   -2.819</td> <td> 0.005</td> <td>   -0.992</td> <td>   -0.178</td>\n",
       "</tr>\n",
       "<tr>\n",
       "  <th>team[T.Empoli]</th>          <td>   -0.5793</td> <td>    0.206</td> <td>   -2.817</td> <td> 0.005</td> <td>   -0.982</td> <td>   -0.176</td>\n",
       "</tr>\n",
       "<tr>\n",
       "  <th>team[T.Fiorentina]</th>      <td>   -0.2256</td> <td>    0.185</td> <td>   -1.221</td> <td> 0.222</td> <td>   -0.588</td> <td>    0.137</td>\n",
       "</tr>\n",
       "<tr>\n",
       "  <th>team[T.Inter]</th>           <td>    0.0667</td> <td>    0.171</td> <td>    0.389</td> <td> 0.697</td> <td>   -0.269</td> <td>    0.402</td>\n",
       "</tr>\n",
       "<tr>\n",
       "  <th>team[T.Juventus]</th>        <td>   -0.1812</td> <td>    0.182</td> <td>   -0.996</td> <td> 0.319</td> <td>   -0.538</td> <td>    0.175</td>\n",
       "</tr>\n",
       "<tr>\n",
       "  <th>team[T.Lazio]</th>           <td>   -0.1153</td> <td>    0.179</td> <td>   -0.645</td> <td> 0.519</td> <td>   -0.465</td> <td>    0.235</td>\n",
       "</tr>\n",
       "<tr>\n",
       "  <th>team[T.Lecce]</th>           <td>   -0.6971</td> <td>    0.213</td> <td>   -3.266</td> <td> 0.001</td> <td>   -1.116</td> <td>   -0.279</td>\n",
       "</tr>\n",
       "<tr>\n",
       "  <th>team[T.Milan]</th>           <td>   -0.0364</td> <td>    0.176</td> <td>   -0.207</td> <td> 0.836</td> <td>   -0.381</td> <td>    0.308</td>\n",
       "</tr>\n",
       "<tr>\n",
       "  <th>team[T.Monza]</th>           <td>   -0.3151</td> <td>    0.190</td> <td>   -1.659</td> <td> 0.097</td> <td>   -0.688</td> <td>    0.057</td>\n",
       "</tr>\n",
       "<tr>\n",
       "  <th>team[T.Napoli]</th>          <td>    0.1326</td> <td>    0.168</td> <td>    0.789</td> <td> 0.430</td> <td>   -0.197</td> <td>    0.462</td>\n",
       "</tr>\n",
       "<tr>\n",
       "  <th>team[T.Roma]</th>            <td>   -0.2894</td> <td>    0.188</td> <td>   -1.541</td> <td> 0.123</td> <td>   -0.657</td> <td>    0.079</td>\n",
       "</tr>\n",
       "<tr>\n",
       "  <th>team[T.Salernitana]</th>     <td>   -0.3042</td> <td>    0.190</td> <td>   -1.601</td> <td> 0.109</td> <td>   -0.677</td> <td>    0.068</td>\n",
       "</tr>\n",
       "<tr>\n",
       "  <th>team[T.Sampdoria]</th>       <td>   -0.9894</td> <td>    0.239</td> <td>   -4.146</td> <td> 0.000</td> <td>   -1.457</td> <td>   -0.522</td>\n",
       "</tr>\n",
       "<tr>\n",
       "  <th>team[T.Sassuolo]</th>        <td>   -0.3264</td> <td>    0.191</td> <td>   -1.707</td> <td> 0.088</td> <td>   -0.701</td> <td>    0.048</td>\n",
       "</tr>\n",
       "<tr>\n",
       "  <th>team[T.Spezia]</th>          <td>   -0.7426</td> <td>    0.218</td> <td>   -3.406</td> <td> 0.001</td> <td>   -1.170</td> <td>   -0.315</td>\n",
       "</tr>\n",
       "<tr>\n",
       "  <th>team[T.Torino]</th>          <td>   -0.4609</td> <td>    0.198</td> <td>   -2.332</td> <td> 0.020</td> <td>   -0.848</td> <td>   -0.073</td>\n",
       "</tr>\n",
       "<tr>\n",
       "  <th>team[T.Udinese]</th>         <td>   -0.3406</td> <td>    0.191</td> <td>   -1.782</td> <td> 0.075</td> <td>   -0.715</td> <td>    0.034</td>\n",
       "</tr>\n",
       "<tr>\n",
       "  <th>team[T.Verona]</th>          <td>   -0.7459</td> <td>    0.218</td> <td>   -3.421</td> <td> 0.001</td> <td>   -1.173</td> <td>   -0.319</td>\n",
       "</tr>\n",
       "<tr>\n",
       "  <th>opponent[T.Bologna]</th>     <td>    0.0064</td> <td>    0.203</td> <td>    0.031</td> <td> 0.975</td> <td>   -0.392</td> <td>    0.405</td>\n",
       "</tr>\n",
       "<tr>\n",
       "  <th>opponent[T.Cremonese]</th>   <td>    0.3311</td> <td>    0.188</td> <td>    1.759</td> <td> 0.079</td> <td>   -0.038</td> <td>    0.700</td>\n",
       "</tr>\n",
       "<tr>\n",
       "  <th>opponent[T.Empoli]</th>      <td>   -0.0109</td> <td>    0.203</td> <td>   -0.054</td> <td> 0.957</td> <td>   -0.410</td> <td>    0.388</td>\n",
       "</tr>\n",
       "<tr>\n",
       "  <th>opponent[T.Fiorentina]</th>  <td>   -0.1246</td> <td>    0.210</td> <td>   -0.593</td> <td> 0.554</td> <td>   -0.537</td> <td>    0.288</td>\n",
       "</tr>\n",
       "<tr>\n",
       "  <th>opponent[T.Inter]</th>       <td>   -0.1285</td> <td>    0.212</td> <td>   -0.607</td> <td> 0.544</td> <td>   -0.543</td> <td>    0.286</td>\n",
       "</tr>\n",
       "<tr>\n",
       "  <th>opponent[T.Juventus]</th>    <td>   -0.3867</td> <td>    0.226</td> <td>   -1.708</td> <td> 0.088</td> <td>   -0.831</td> <td>    0.057</td>\n",
       "</tr>\n",
       "<tr>\n",
       "  <th>opponent[T.Lazio]</th>       <td>   -0.4779</td> <td>    0.233</td> <td>   -2.051</td> <td> 0.040</td> <td>   -0.935</td> <td>   -0.021</td>\n",
       "</tr>\n",
       "<tr>\n",
       "  <th>opponent[T.Lecce]</th>       <td>   -0.0785</td> <td>    0.207</td> <td>   -0.380</td> <td> 0.704</td> <td>   -0.483</td> <td>    0.326</td>\n",
       "</tr>\n",
       "<tr>\n",
       "  <th>opponent[T.Milan]</th>       <td>   -0.1126</td> <td>    0.210</td> <td>   -0.535</td> <td> 0.592</td> <td>   -0.525</td> <td>    0.300</td>\n",
       "</tr>\n",
       "<tr>\n",
       "  <th>opponent[T.Monza]</th>       <td>    0.0605</td> <td>    0.201</td> <td>    0.302</td> <td> 0.763</td> <td>   -0.332</td> <td>    0.454</td>\n",
       "</tr>\n",
       "<tr>\n",
       "  <th>opponent[T.Napoli]</th>      <td>   -0.5286</td> <td>    0.238</td> <td>   -2.220</td> <td> 0.026</td> <td>   -0.995</td> <td>   -0.062</td>\n",
       "</tr>\n",
       "<tr>\n",
       "  <th>opponent[T.Roma]</th>        <td>   -0.2518</td> <td>    0.217</td> <td>   -1.158</td> <td> 0.247</td> <td>   -0.678</td> <td>    0.174</td>\n",
       "</tr>\n",
       "<tr>\n",
       "  <th>opponent[T.Salernitana]</th> <td>    0.2370</td> <td>    0.193</td> <td>    1.230</td> <td> 0.219</td> <td>   -0.141</td> <td>    0.615</td>\n",
       "</tr>\n",
       "<tr>\n",
       "  <th>opponent[T.Sampdoria]</th>   <td>    0.3467</td> <td>    0.187</td> <td>    1.853</td> <td> 0.064</td> <td>   -0.020</td> <td>    0.714</td>\n",
       "</tr>\n",
       "<tr>\n",
       "  <th>opponent[T.Sassuolo]</th>    <td>    0.2196</td> <td>    0.193</td> <td>    1.136</td> <td> 0.256</td> <td>   -0.159</td> <td>    0.598</td>\n",
       "</tr>\n",
       "<tr>\n",
       "  <th>opponent[T.Spezia]</th>      <td>    0.2184</td> <td>    0.193</td> <td>    1.134</td> <td> 0.257</td> <td>   -0.159</td> <td>    0.596</td>\n",
       "</tr>\n",
       "<tr>\n",
       "  <th>opponent[T.Torino]</th>      <td>   -0.1842</td> <td>    0.213</td> <td>   -0.865</td> <td> 0.387</td> <td>   -0.602</td> <td>    0.233</td>\n",
       "</tr>\n",
       "<tr>\n",
       "  <th>opponent[T.Udinese]</th>     <td>   -0.0208</td> <td>    0.204</td> <td>   -0.102</td> <td> 0.919</td> <td>   -0.422</td> <td>    0.380</td>\n",
       "</tr>\n",
       "<tr>\n",
       "  <th>opponent[T.Verona]</th>      <td>    0.1687</td> <td>    0.195</td> <td>    0.867</td> <td> 0.386</td> <td>   -0.213</td> <td>    0.550</td>\n",
       "</tr>\n",
       "<tr>\n",
       "  <th>home</th>                    <td>    0.2061</td> <td>    0.064</td> <td>    3.199</td> <td> 0.001</td> <td>    0.080</td> <td>    0.332</td>\n",
       "</tr>\n",
       "</table>"
      ],
      "text/latex": [
       "\\begin{center}\n",
       "\\begin{tabular}{lclc}\n",
       "\\toprule\n",
       "\\textbf{Dep. Variable:}          &      goals       & \\textbf{  No. Observations:  } &      760    \\\\\n",
       "\\textbf{Model:}                  &       GLM        & \\textbf{  Df Residuals:      } &      720    \\\\\n",
       "\\textbf{Model Family:}           &     Poisson      & \\textbf{  Df Model:          } &       39    \\\\\n",
       "\\textbf{Link Function:}          &       Log        & \\textbf{  Scale:             } &    1.0000   \\\\\n",
       "\\textbf{Method:}                 &       IRLS       & \\textbf{  Log-Likelihood:    } &   -1028.8   \\\\\n",
       "\\textbf{Date:}                   & Thu, 22 Feb 2024 & \\textbf{  Deviance:          } &    735.38   \\\\\n",
       "\\textbf{Time:}                   &     09:17:32     & \\textbf{  Pearson chi2:      } &     635.    \\\\\n",
       "\\textbf{No. Iterations:}         &        5         & \\textbf{  Pseudo R-squ. (CS):} &   0.1741    \\\\\n",
       "\\textbf{Covariance Type:}        &    nonrobust     & \\textbf{                     } &             \\\\\n",
       "\\bottomrule\n",
       "\\end{tabular}\n",
       "\\begin{tabular}{lcccccc}\n",
       "                                 & \\textbf{coef} & \\textbf{std err} & \\textbf{z} & \\textbf{P$> |$z$|$} & \\textbf{[0.025} & \\textbf{0.975]}  \\\\\n",
       "\\midrule\n",
       "\\textbf{Intercept}               &       0.4509  &        0.196     &     2.301  &         0.021        &        0.067    &        0.835     \\\\\n",
       "\\textbf{team[T.Bologna]}         &      -0.2190  &        0.185     &    -1.185  &         0.236        &       -0.581    &        0.143     \\\\\n",
       "\\textbf{team[T.Cremonese]}       &      -0.5851  &        0.208     &    -2.819  &         0.005        &       -0.992    &       -0.178     \\\\\n",
       "\\textbf{team[T.Empoli]}          &      -0.5793  &        0.206     &    -2.817  &         0.005        &       -0.982    &       -0.176     \\\\\n",
       "\\textbf{team[T.Fiorentina]}      &      -0.2256  &        0.185     &    -1.221  &         0.222        &       -0.588    &        0.137     \\\\\n",
       "\\textbf{team[T.Inter]}           &       0.0667  &        0.171     &     0.389  &         0.697        &       -0.269    &        0.402     \\\\\n",
       "\\textbf{team[T.Juventus]}        &      -0.1812  &        0.182     &    -0.996  &         0.319        &       -0.538    &        0.175     \\\\\n",
       "\\textbf{team[T.Lazio]}           &      -0.1153  &        0.179     &    -0.645  &         0.519        &       -0.465    &        0.235     \\\\\n",
       "\\textbf{team[T.Lecce]}           &      -0.6971  &        0.213     &    -3.266  &         0.001        &       -1.116    &       -0.279     \\\\\n",
       "\\textbf{team[T.Milan]}           &      -0.0364  &        0.176     &    -0.207  &         0.836        &       -0.381    &        0.308     \\\\\n",
       "\\textbf{team[T.Monza]}           &      -0.3151  &        0.190     &    -1.659  &         0.097        &       -0.688    &        0.057     \\\\\n",
       "\\textbf{team[T.Napoli]}          &       0.1326  &        0.168     &     0.789  &         0.430        &       -0.197    &        0.462     \\\\\n",
       "\\textbf{team[T.Roma]}            &      -0.2894  &        0.188     &    -1.541  &         0.123        &       -0.657    &        0.079     \\\\\n",
       "\\textbf{team[T.Salernitana]}     &      -0.3042  &        0.190     &    -1.601  &         0.109        &       -0.677    &        0.068     \\\\\n",
       "\\textbf{team[T.Sampdoria]}       &      -0.9894  &        0.239     &    -4.146  &         0.000        &       -1.457    &       -0.522     \\\\\n",
       "\\textbf{team[T.Sassuolo]}        &      -0.3264  &        0.191     &    -1.707  &         0.088        &       -0.701    &        0.048     \\\\\n",
       "\\textbf{team[T.Spezia]}          &      -0.7426  &        0.218     &    -3.406  &         0.001        &       -1.170    &       -0.315     \\\\\n",
       "\\textbf{team[T.Torino]}          &      -0.4609  &        0.198     &    -2.332  &         0.020        &       -0.848    &       -0.073     \\\\\n",
       "\\textbf{team[T.Udinese]}         &      -0.3406  &        0.191     &    -1.782  &         0.075        &       -0.715    &        0.034     \\\\\n",
       "\\textbf{team[T.Verona]}          &      -0.7459  &        0.218     &    -3.421  &         0.001        &       -1.173    &       -0.319     \\\\\n",
       "\\textbf{opponent[T.Bologna]}     &       0.0064  &        0.203     &     0.031  &         0.975        &       -0.392    &        0.405     \\\\\n",
       "\\textbf{opponent[T.Cremonese]}   &       0.3311  &        0.188     &     1.759  &         0.079        &       -0.038    &        0.700     \\\\\n",
       "\\textbf{opponent[T.Empoli]}      &      -0.0109  &        0.203     &    -0.054  &         0.957        &       -0.410    &        0.388     \\\\\n",
       "\\textbf{opponent[T.Fiorentina]}  &      -0.1246  &        0.210     &    -0.593  &         0.554        &       -0.537    &        0.288     \\\\\n",
       "\\textbf{opponent[T.Inter]}       &      -0.1285  &        0.212     &    -0.607  &         0.544        &       -0.543    &        0.286     \\\\\n",
       "\\textbf{opponent[T.Juventus]}    &      -0.3867  &        0.226     &    -1.708  &         0.088        &       -0.831    &        0.057     \\\\\n",
       "\\textbf{opponent[T.Lazio]}       &      -0.4779  &        0.233     &    -2.051  &         0.040        &       -0.935    &       -0.021     \\\\\n",
       "\\textbf{opponent[T.Lecce]}       &      -0.0785  &        0.207     &    -0.380  &         0.704        &       -0.483    &        0.326     \\\\\n",
       "\\textbf{opponent[T.Milan]}       &      -0.1126  &        0.210     &    -0.535  &         0.592        &       -0.525    &        0.300     \\\\\n",
       "\\textbf{opponent[T.Monza]}       &       0.0605  &        0.201     &     0.302  &         0.763        &       -0.332    &        0.454     \\\\\n",
       "\\textbf{opponent[T.Napoli]}      &      -0.5286  &        0.238     &    -2.220  &         0.026        &       -0.995    &       -0.062     \\\\\n",
       "\\textbf{opponent[T.Roma]}        &      -0.2518  &        0.217     &    -1.158  &         0.247        &       -0.678    &        0.174     \\\\\n",
       "\\textbf{opponent[T.Salernitana]} &       0.2370  &        0.193     &     1.230  &         0.219        &       -0.141    &        0.615     \\\\\n",
       "\\textbf{opponent[T.Sampdoria]}   &       0.3467  &        0.187     &     1.853  &         0.064        &       -0.020    &        0.714     \\\\\n",
       "\\textbf{opponent[T.Sassuolo]}    &       0.2196  &        0.193     &     1.136  &         0.256        &       -0.159    &        0.598     \\\\\n",
       "\\textbf{opponent[T.Spezia]}      &       0.2184  &        0.193     &     1.134  &         0.257        &       -0.159    &        0.596     \\\\\n",
       "\\textbf{opponent[T.Torino]}      &      -0.1842  &        0.213     &    -0.865  &         0.387        &       -0.602    &        0.233     \\\\\n",
       "\\textbf{opponent[T.Udinese]}     &      -0.0208  &        0.204     &    -0.102  &         0.919        &       -0.422    &        0.380     \\\\\n",
       "\\textbf{opponent[T.Verona]}      &       0.1687  &        0.195     &     0.867  &         0.386        &       -0.213    &        0.550     \\\\\n",
       "\\textbf{home}                    &       0.2061  &        0.064     &     3.199  &         0.001        &        0.080    &        0.332     \\\\\n",
       "\\bottomrule\n",
       "\\end{tabular}\n",
       "%\\caption{Generalized Linear Model Regression Results}\n",
       "\\end{center}"
      ],
      "text/plain": [
       "<class 'statsmodels.iolib.summary.Summary'>\n",
       "\"\"\"\n",
       "                 Generalized Linear Model Regression Results                  \n",
       "==============================================================================\n",
       "Dep. Variable:                  goals   No. Observations:                  760\n",
       "Model:                            GLM   Df Residuals:                      720\n",
       "Model Family:                 Poisson   Df Model:                           39\n",
       "Link Function:                    Log   Scale:                          1.0000\n",
       "Method:                          IRLS   Log-Likelihood:                -1028.8\n",
       "Date:                Thu, 22 Feb 2024   Deviance:                       735.38\n",
       "Time:                        09:17:32   Pearson chi2:                     635.\n",
       "No. Iterations:                     5   Pseudo R-squ. (CS):             0.1741\n",
       "Covariance Type:            nonrobust                                         \n",
       "===========================================================================================\n",
       "                              coef    std err          z      P>|z|      [0.025      0.975]\n",
       "-------------------------------------------------------------------------------------------\n",
       "Intercept                   0.4509      0.196      2.301      0.021       0.067       0.835\n",
       "team[T.Bologna]            -0.2190      0.185     -1.185      0.236      -0.581       0.143\n",
       "team[T.Cremonese]          -0.5851      0.208     -2.819      0.005      -0.992      -0.178\n",
       "team[T.Empoli]             -0.5793      0.206     -2.817      0.005      -0.982      -0.176\n",
       "team[T.Fiorentina]         -0.2256      0.185     -1.221      0.222      -0.588       0.137\n",
       "team[T.Inter]               0.0667      0.171      0.389      0.697      -0.269       0.402\n",
       "team[T.Juventus]           -0.1812      0.182     -0.996      0.319      -0.538       0.175\n",
       "team[T.Lazio]              -0.1153      0.179     -0.645      0.519      -0.465       0.235\n",
       "team[T.Lecce]              -0.6971      0.213     -3.266      0.001      -1.116      -0.279\n",
       "team[T.Milan]              -0.0364      0.176     -0.207      0.836      -0.381       0.308\n",
       "team[T.Monza]              -0.3151      0.190     -1.659      0.097      -0.688       0.057\n",
       "team[T.Napoli]              0.1326      0.168      0.789      0.430      -0.197       0.462\n",
       "team[T.Roma]               -0.2894      0.188     -1.541      0.123      -0.657       0.079\n",
       "team[T.Salernitana]        -0.3042      0.190     -1.601      0.109      -0.677       0.068\n",
       "team[T.Sampdoria]          -0.9894      0.239     -4.146      0.000      -1.457      -0.522\n",
       "team[T.Sassuolo]           -0.3264      0.191     -1.707      0.088      -0.701       0.048\n",
       "team[T.Spezia]             -0.7426      0.218     -3.406      0.001      -1.170      -0.315\n",
       "team[T.Torino]             -0.4609      0.198     -2.332      0.020      -0.848      -0.073\n",
       "team[T.Udinese]            -0.3406      0.191     -1.782      0.075      -0.715       0.034\n",
       "team[T.Verona]             -0.7459      0.218     -3.421      0.001      -1.173      -0.319\n",
       "opponent[T.Bologna]         0.0064      0.203      0.031      0.975      -0.392       0.405\n",
       "opponent[T.Cremonese]       0.3311      0.188      1.759      0.079      -0.038       0.700\n",
       "opponent[T.Empoli]         -0.0109      0.203     -0.054      0.957      -0.410       0.388\n",
       "opponent[T.Fiorentina]     -0.1246      0.210     -0.593      0.554      -0.537       0.288\n",
       "opponent[T.Inter]          -0.1285      0.212     -0.607      0.544      -0.543       0.286\n",
       "opponent[T.Juventus]       -0.3867      0.226     -1.708      0.088      -0.831       0.057\n",
       "opponent[T.Lazio]          -0.4779      0.233     -2.051      0.040      -0.935      -0.021\n",
       "opponent[T.Lecce]          -0.0785      0.207     -0.380      0.704      -0.483       0.326\n",
       "opponent[T.Milan]          -0.1126      0.210     -0.535      0.592      -0.525       0.300\n",
       "opponent[T.Monza]           0.0605      0.201      0.302      0.763      -0.332       0.454\n",
       "opponent[T.Napoli]         -0.5286      0.238     -2.220      0.026      -0.995      -0.062\n",
       "opponent[T.Roma]           -0.2518      0.217     -1.158      0.247      -0.678       0.174\n",
       "opponent[T.Salernitana]     0.2370      0.193      1.230      0.219      -0.141       0.615\n",
       "opponent[T.Sampdoria]       0.3467      0.187      1.853      0.064      -0.020       0.714\n",
       "opponent[T.Sassuolo]        0.2196      0.193      1.136      0.256      -0.159       0.598\n",
       "opponent[T.Spezia]          0.2184      0.193      1.134      0.257      -0.159       0.596\n",
       "opponent[T.Torino]         -0.1842      0.213     -0.865      0.387      -0.602       0.233\n",
       "opponent[T.Udinese]        -0.0208      0.204     -0.102      0.919      -0.422       0.380\n",
       "opponent[T.Verona]          0.1687      0.195      0.867      0.386      -0.213       0.550\n",
       "home                        0.2061      0.064      3.199      0.001       0.080       0.332\n",
       "===========================================================================================\n",
       "\"\"\""
      ]
     },
     "execution_count": 12,
     "metadata": {},
     "output_type": "execute_result"
    }
   ],
   "source": [
    "# importing the tools required for the Poisson regression model\n",
    "import statsmodels.api as sm\n",
    "import statsmodels.formula.api as smf\n",
    "\n",
    "goal_model_data = pd.concat([sa_2223[['HomeTeam','AwayTeam','HomeGoals']].assign(home=1).rename(\n",
    "            columns={'HomeTeam':'team', 'AwayTeam':'opponent','HomeGoals':'goals'}),\n",
    "           sa_2223[['AwayTeam','HomeTeam','AwayGoals']].assign(home=0).rename(\n",
    "            columns={'AwayTeam':'team', 'HomeTeam':'opponent','AwayGoals':'goals'})])\n",
    "\n",
    "poisson_model = smf.glm(formula=\"goals ~ home + team + opponent\", data=goal_model_data, \n",
    "                        family=sm.families.Poisson()).fit()\n",
    "\n",
    "poisson_model.summary()"
   ]
  },
  {
   "cell_type": "markdown",
   "id": "4da4df5c-75cb-4172-8219-0eb92fa4a5bd",
   "metadata": {},
   "source": [
    "## Making Predictions\n",
    "\n",
    "Let's start making some predictions about future games. \n",
    "\n",
    "We simply pass our teams into poisson_model and it'll return the expected average number of goals for your team (we need to run it twice- we calculate the expected average number of goals for each team separately).\n",
    "\n",
    "So let's see how many goals we expect Milan and Atalanta to score."
   ]
  },
  {
   "cell_type": "markdown",
   "id": "900ae192-fb4e-4f00-8309-d4553bb64383",
   "metadata": {},
   "source": [
    "### Milan vs Atalanta "
   ]
  },
  {
   "cell_type": "code",
   "execution_count": 13,
   "id": "dfedeec4-bbd0-4cfb-9dbc-792a4faa2f57",
   "metadata": {},
   "outputs": [
    {
     "data": {
      "text/plain": [
       "1    1.860068\n",
       "dtype: float64"
      ]
     },
     "execution_count": 13,
     "metadata": {},
     "output_type": "execute_result"
    }
   ],
   "source": [
    "# predicts the number of goals Milan is expected to score when playing against Atalanta at home\n",
    "poisson_model.predict(pd.DataFrame(data={'team': 'Milan', 'opponent': 'Atalanta',\n",
    "                                       'home':1},index=[1]))"
   ]
  },
  {
   "cell_type": "code",
   "execution_count": 14,
   "id": "4e8a5db5-bfda-4819-a0d7-419f814d4765",
   "metadata": {},
   "outputs": [
    {
     "data": {
      "text/plain": [
       "1    1.402626\n",
       "dtype: float64"
      ]
     },
     "execution_count": 14,
     "metadata": {},
     "output_type": "execute_result"
    }
   ],
   "source": [
    "# predicts how many goals Atalanta might score when they are away against Milan\n",
    "poisson_model.predict(pd.DataFrame(data={'team': 'Atalanta', 'opponent': 'Milan',\n",
    "                                       'home':0},index=[1]))"
   ]
  },
  {
   "cell_type": "markdown",
   "id": "07fb78dd-8c17-4652-8d7a-17f245caa2c3",
   "metadata": {},
   "source": [
    "Here our model predicts that Milan would be expected to score 1.86 goals against Atalanta, while Atalanta is expected to score 1.40 goals. "
   ]
  },
  {
   "cell_type": "code",
   "execution_count": 15,
   "id": "76af01c1-337a-4c75-a920-476c7ac6ae95",
   "metadata": {},
   "outputs": [],
   "source": [
    "def simulate_match(foot_model, homeTeam, awayTeam, max_goals=10):\n",
    "    # predicts the number of goals homeTeam is expected to score when playing against awayTeam\n",
    "    home_goals_avg = foot_model.predict(pd.DataFrame(data={'team': homeTeam, \n",
    "                                                            'opponent': awayTeam,'home':1},\n",
    "                                                      index=[1])).values[0]\n",
    "    # predicts how many goals awayTeam might score when they are against homeTeam\n",
    "    away_goals_avg = foot_model.predict(pd.DataFrame(data={'team': awayTeam, \n",
    "                                                            'opponent': homeTeam,'home':0},\n",
    "                                                      index=[1])).values[0]\n",
    "    # Calculating the Poisson Distribution for Predicted Averages\n",
    "    team_pred = [[poisson.pmf(i, team_avg) for i in range(0, max_goals+1)] for team_avg in [home_goals_avg, away_goals_avg]]\n",
    "    # Calculating the Match Outcome Probabilities\n",
    "    return(np.outer(np.array(team_pred[0]), np.array(team_pred[1])))"
   ]
  },
  {
   "cell_type": "code",
   "execution_count": 16,
   "id": "2e2dc368-1fd1-429f-a3ac-377054bfaf58",
   "metadata": {},
   "outputs": [],
   "source": [
    "mil_ata = simulate_match(poisson_model, 'Milan', 'Atalanta', max_goals=10)"
   ]
  },
  {
   "cell_type": "code",
   "execution_count": 17,
   "id": "981f04e8-c2d5-4415-89d6-725c8a86a526",
   "metadata": {},
   "outputs": [
    {
     "data": {
      "text/plain": [
       "array([[0.03828509, 0.05369968, 0.03766029, 0.01760777, 0.00617428],\n",
       "       [0.07121288, 0.09988507, 0.07005072, 0.03275166, 0.01148459],\n",
       "       [0.06623041, 0.09289653, 0.06514956, 0.03046017, 0.01068106],\n",
       "       [0.04106437, 0.05759796, 0.04039421, 0.018886  , 0.0066225 ],\n",
       "       [0.01909563, 0.02678404, 0.018784  , 0.00878231, 0.00307958]])"
      ]
     },
     "execution_count": 17,
     "metadata": {},
     "output_type": "execute_result"
    }
   ],
   "source": [
    "mil_ata[0:5, 0:5]"
   ]
  },
  {
   "cell_type": "code",
   "execution_count": 34,
   "id": "7df5f1c3-99fe-433a-bce0-2e84502fd407",
   "metadata": {},
   "outputs": [
    {
     "data": {
      "image/png": "[encoded data removed]",
      "text/plain": [
       "<Figure size 360x360 with 1 Axes>"
      ]
     },
     "metadata": {
      "needs_background": "light"
     },
     "output_type": "display_data"
    }
   ],
   "source": [
    "from matplotlib.colors import ListedColormap\n",
    "import matplotlib.pyplot as plt\n",
    "import numpy as np\n",
    "\n",
    "def display_match_matrix(matrix, colour_matrix, colour_map, subtitle=\"\", heatmap=False, alpha=0.8):\n",
    "    fig, ax1 = plt.subplots(1, figsize=(5, 5))\n",
    "    if heatmap:\n",
    "        # Display the matrix as a heatmap\n",
    "        ax1.matshow(matrix, alpha=alpha)\n",
    "    else:\n",
    "        # Display the matrix with specified colours\n",
    "        ax1.matshow(colour_matrix, cmap=colour_map, alpha=alpha)\n",
    "    ax1.tick_params(axis='both', which='both', length=0)\n",
    "    ax1.grid(which='major', axis='both', linestyle='')\n",
    "    ax1.set_xlabel('Away Team Goals', fontsize=12)\n",
    "    ax1.set_ylabel('Home Team Goals', fontsize=12)\n",
    "    ax1.xaxis.set_label_position('top')\n",
    "    \n",
    "    nrows, ncols = matrix.shape\n",
    "    for i in range(nrows):\n",
    "        for j in range(ncols):\n",
    "            c = matrix[i, j]\n",
    "            ax1.text(j, i, str(round(c, 4)), va='center', ha='center', size=13)\n",
    "    \n",
    "    plt.figtext(0.5, 0.05, subtitle, ha='center', fontsize=14, fontweight='bold')\n",
    "    plt.show()\n",
    "\n",
    "matrix = simulate_match(poisson_model, 'Milan', 'Atalanta', max_goals=5)\n",
    "display_match_matrix(matrix, matrix, ListedColormap(['w']), heatmap=True, alpha=0.6, subtitle=\"Match Score Probability Matrix\")\n"
   ]
  },
  {
   "cell_type": "markdown",
   "id": "b643e2fb-7ec1-4704-bb33-c94a3a2d60ba",
   "metadata": {},
   "source": [
    "The Matrix displays the heatmap showing the probabilities of all possible scorelines between Milan and Atalanta."
   ]
  },
  {
   "cell_type": "code",
   "execution_count": 47,
   "id": "f72daed9-0f50-4d76-a1b1-02481f73f48a",
   "metadata": {},
   "outputs": [
    {
     "data": {
      "image/png": "[encoded data removed]",
      "text/plain": [
       "<Figure size 360x360 with 1 Axes>"
      ]
     },
     "metadata": {
      "needs_background": "light"
     },
     "output_type": "display_data"
    },
    {
     "data": {
      "image/png": "[encoded data removed]",
      "text/plain": [
       "<Figure size 360x360 with 1 Axes>"
      ]
     },
     "metadata": {
      "needs_background": "light"
     },
     "output_type": "display_data"
    },
    {
     "data": {
      "image/png": "[encoded data removed]",
      "text/plain": [
       "<Figure size 360x360 with 1 Axes>"
      ]
     },
     "metadata": {
      "needs_background": "light"
     },
     "output_type": "display_data"
    },
    {
     "data": {
      "image/png": "[encoded data removed]",
      "text/plain": [
       "<Figure size 360x360 with 1 Axes>"
      ]
     },
     "metadata": {
      "needs_background": "light"
     },
     "output_type": "display_data"
    },
    {
     "data": {
      "image/png": "[encoded data removed]",
      "text/plain": [
       "<Figure size 360x360 with 1 Axes>"
      ]
     },
     "metadata": {
      "needs_background": "light"
     },
     "output_type": "display_data"
    }
   ],
   "source": [
    "def matrix_gif(matrix, colour_matrix, colour_map, subtitle=\"\", heatmap=False, alpha=0.8):\n",
    "    fig, ax1 = plt.subplots(1, figsize=(5,5))\n",
    "    if heatmap:\n",
    "        ax1.matshow(matrix, alpha=alpha)\n",
    "    else:\n",
    "        ax1.matshow(colour_matrix, cmap=colour_map, alpha=alpha)\n",
    "    ax1.tick_params(axis=u'both', which=u'both',length=0)\n",
    "    ax1.grid(which='major', axis='both', linestyle='')\n",
    "    ax1.set_xlabel('Away Team Goals', fontsize=12)\n",
    "    ax1.set_ylabel('Home Team Goals', fontsize=12)\n",
    "    ax1.xaxis.set_label_position('top')\n",
    "    nrows, ncols = matrix.shape\n",
    "    for i in range(nrows):\n",
    "        for j in range(ncols):\n",
    "            c = matrix[i][j]\n",
    "            ax1.text(j, i, str(round(c,4)), va='center', ha='center', size=13)\n",
    "    plt.figtext(0.5, 0.05, subtitle, horizontalalignment='center',\n",
    "                fontsize=14, multialignment='left', fontweight='bold')\n",
    "    return fig\n",
    "\n",
    "cmap = ListedColormap(['w', '#04f5ff', '#00ff85', '#e90052'])\n",
    "matrix = simulate_match(poisson_model, 'Milan', 'Atalanta', max_goals=5)\n",
    "matn = len(matrix)\n",
    "matrix_gif(matrix, matrix, ListedColormap(['w']), heatmap=True, \n",
    "           alpha=0.6, subtitle=\"Match Score Probability Matrix\").savefig(\"match_matrix_0.png\")\n",
    "plt.close()\n",
    "for t,(mat,colour,subtitle) in enumerate(zip([np.zeros((matn, matn)), np.tril(np.ones((matn,matn)),-1),\n",
    "                            np.triu(np.ones((matn,matn))*2,1), np.diag([3]*matn),\n",
    "                                             np.array([0 if i+j<3 else 1 for i in range(matn) for j in range(matn)]).reshape(matn,matn)],\n",
    "                          ['w', '#04f5ff', '#00ff85', '#e90052','#EAF205'],\n",
    "                                   ['Match Score Probability Matrix', 'Home Win', 'Away Win', 'Draw', 'Over 2.5 goals'])):\n",
    "    matrix_gif(matrix, mat, ListedColormap(['w'] + [colour]), heatmap=False, \n",
    "               alpha=0.6, subtitle=subtitle).savefig(\"match_matrix_{}.png\".format(t+1))\n",
    "    #plt.close()"
   ]
  },
  {
   "cell_type": "markdown",
   "id": "d9eebfa6-964d-486d-936e-27e6972cb71d",
   "metadata": {},
   "source": [
    "First [published by Maher in 1982](http://www.90minut.pl/misc/maher.pdf), the BP model still serves a good starting point from which you can add features that more closely reflect the reality. That brings us onto the Dixon Coles (DC) model."
   ]
  },
  {
   "cell_type": "markdown",
   "id": "24968be1-cb4a-4334-8e69-cb2676696e5f",
   "metadata": {},
   "source": [
    "## Dixon-Coles Model\n",
    "\n",
    "In their 1997 paper, Mark Dixon and Stuart Coles proposed two specific improvements to the BP model:\n",
    "* **Introduce an interaction term to correct underestimated frequency of low scoring matches**\n",
    "* **Apply time decay component so that recent matches are weighted more strongly**\n",
    "\n",
    "The authors claim that low score results (0-0, 1-0, 0-1 and 1-1) are inherently under-reported by the BP model. In the paper, they provide some analysis that supports their case- though I wouldn't call their approach particularly rigorous. "
   ]
  },
  {
   "cell_type": "code",
   "execution_count": 67,
   "id": "d55b3be4-42f7-4c51-8bb2-afe13312d682",
   "metadata": {},
   "outputs": [],
   "source": [
    "def poiss_actual_diff(football_url, max_goals):\n",
    "    sa_2223 = pd.read_csv(football_url)\n",
    "    sa_2223 = sa_2223[['HomeTeam','AwayTeam','FTHG','FTAG']]\n",
    "    sa_2223 = sa_2223.rename(columns={'FTHG': 'HomeGoals', 'FTAG': 'AwayGoals'})\n",
    "    team_pred = [[poisson.pmf(i, team_avg) for i in range(0, max_goals)] \\\n",
    "                 for team_avg in [sa_2223['HomeGoals'].mean(), sa_2223['AwayGoals'].mean()]]\n",
    "    return np.outer(np.array(team_pred[0]), np.array(team_pred[1])) - \\\n",
    "        np.array([sum((sa_2223['HomeGoals']==i) & (sa_2223['AwayGoals']==j)) \n",
    "                  for i in range(max_goals) for j in range(max_goals)]).reshape((6,6))/len(sa_2223)"
   ]
  },
  {
   "cell_type": "code",
   "execution_count": 68,
   "id": "a3af6bdd-a517-48a8-957c-e7aacd40fa35",
   "metadata": {
    "scrolled": true
   },
   "outputs": [],
   "source": [
    "# url example for 22/23 season: https://www.football-data.co.uk/mmz4281/2223/I1.csv\n",
    "\n",
    "year_arrays = []\n",
    "for year in range(2005,2023):\n",
    "    year_arrays.append(poiss_actual_diff(\"https://www.football-data.co.uk/mmz4281/{}{}/I1.csv\".format(\n",
    "        str(year)[-2:], str(year+1)[-2:]),6))"
   ]
  },
  {
   "cell_type": "code",
   "execution_count": 69,
   "id": "4ad11ac8-f6e1-4173-a79e-8378428c48d2",
   "metadata": {
    "scrolled": true
   },
   "outputs": [
    {
     "data": {
      "text/plain": [
       "18"
      ]
     },
     "execution_count": 69,
     "metadata": {},
     "output_type": "execute_result"
    }
   ],
   "source": [
    "len(year_arrays)"
   ]
  },
  {
   "cell_type": "markdown",
   "id": "9285263d-757f-45bd-a9cd-02f1348ccb78",
   "metadata": {},
   "source": [
    "The matrix below shows the average difference between actual and model predicted scorelines for the 2005/06 season all the way up to the 2022/2023 season. Green cells imply the model underestimated those scorelines, while red cells suggest overestimation- the colour strength indicates the level of disagreement."
   ]
  },
  {
   "cell_type": "code",
   "execution_count": 70,
   "id": "24c4005d-1360-4668-8712-235537e225ec",
   "metadata": {},
   "outputs": [
    {
     "data": {
      "image/png": "[encoded data removed]",
      "text/plain": [
       "<Figure size 360x360 with 2 Axes>"
      ]
     },
     "metadata": {
      "needs_background": "light"
     },
     "output_type": "display_data"
    }
   ],
   "source": [
    "cmap = sns.diverging_palette(10, 133, as_cmap=True)\n",
    "\n",
    "fig, ax = plt.subplots(figsize=(5,5))  \n",
    "with sns.axes_style(\"white\"):\n",
    "    ax = sns.heatmap(np.mean(year_arrays, axis=0), annot=True, fmt='.4f', cmap=cmap, vmin=-0.013, vmax=.013, center=0.00,\n",
    "                square=True, linewidths=.5, annot_kws={\"size\": 11}, cbar_kws={\"shrink\": .8})\n",
    "    ax.tick_params(axis=u'both', which=u'both',length=0)\n",
    "    ax.grid(which='major', axis='both', linestyle='')\n",
    "    ax.set_xlabel('Away Team Goals', fontsize=13)\n",
    "    ax.set_ylabel('Home Team Goals', fontsize=13)\n",
    "    ax.xaxis.set_label_position('top')\n",
    "    ax.xaxis.set_ticks_position('top')\n",
    "    plt.figtext(0.45, 0.1, 'Actual Proportion - Model Probability', horizontalalignment='center',\n",
    "                fontsize=14, multialignment='left', fontweight='bold')\n",
    "plt.tight_layout()\n",
    "plt.show()"
   ]
  },
  {
   "cell_type": "markdown",
   "id": "d6b342af-e352-4ba6-96af-a3b3d89c369c",
   "metadata": {},
   "source": [
    "There does seem to be an issue around low scoring draws, though it is less apparent with 1-0 and 0-1 results. The Dixon-Coles (DC) model applies a correction to the BP model. It can be written in these mathematical terms:\n",
    "\n",
    "$$\n",
    "P\\left(X_{i,j} = x, Y_{j,i} = y \\right) = \\tau_{\\lambda, \\mu}(x) \\frac{e^{-\\lambda} \\lambda^x }{x!} \\frac{e^{-\\mu} \\mu^y }{y!}\n",
    "\\\\ \\text{where } \\quad \\lambda = \\alpha_i \\beta_j \\gamma \\quad \\mu = \\alpha_j \\beta_i\n",
    "\\\\\n",
    "\\tau_{\\lambda, \\mu}(x, y) =\n",
    "  \\begin{cases}\n",
    "                                   1 - \\lambda \\mu \\rho & \\text{if $x = y = 0$} \\\\\n",
    "                                   1 - \\lambda \\rho & \\text{if $x=0$, $y=1$} \\\\\n",
    "                                   1 + \\mu \\rho & \\text{if $x=0$, $y=1$} \\\\\n",
    "                                   1 - \\rho & \\text{if $x = y = 1$} \\\\\n",
    "                                   1 & \\text{otherwise} \\\\\n",
    "  \\end{cases}\n",
    "$$"
   ]
  },
  {
   "cell_type": "markdown",
   "id": "c79198be-badd-4e66-a003-fb411ba29351",
   "metadata": {},
   "source": [
    "### **Key Features of the Dixon-Coles Model:**\n",
    "[Modelling Association Football Scores and Inefficiencies in the Football Betting Market](https://www.jstor.org/stable/2986290)\n",
    "\n",
    "- **Adjustment for Low Scoring Matches:** The model introduces a correction factor to the Poisson distribution to better predict the occurrence of low-scoring games (e.g., 0-0 draws), which the basic Poisson model tends to underestimate.\n",
    "\n",
    "- **Team-Specific Parameters:** It incorporates team-specific attack and defense parameters, along with a home-field advantage parameter, to more accurately reflect the strengths and weaknesses of each team.\n",
    "\n",
    "- **Tau Parameter:** A key innovation of the Dixon-Coles model is the introduction of the tau $(\\tau)$ parameter, which adjusts the expected number of goals to account for the interaction between the attacking strength of one team and the defensive strength of the opponent. This adjustment is particularly significant in matches where a strong attack meets a strong defense, or vice versa."
   ]
  },
  {
   "cell_type": "markdown",
   "id": "793a9cc5-ee15-40e7-8922-768332b3e4c9",
   "metadata": {},
   "source": [
    "The key difference over the BP model is the addition of the $\\tau$ (tau) function. It is highly dependent on the $\\rho$ (rho) parameter, which controls the strength of the correction (note: setting $\\rho$=0 equates to the standard BP model). We can easily convert $\\tau_{\\lambda, \\mu}(x, y)$ to Python code."
   ]
  },
  {
   "cell_type": "code",
   "execution_count": 18,
   "id": "87158b71-0218-4427-a8f6-74ef5bed2c45",
   "metadata": {},
   "outputs": [],
   "source": [
    "def rho_correction(x, y, lambda_x, mu_y, rho):\n",
    "    if x==0 and y==0:\n",
    "        return 1- (lambda_x * mu_y * rho)\n",
    "    elif x==0 and y==1:\n",
    "        return 1 + (lambda_x * rho)\n",
    "    elif x==1 and y==0:\n",
    "        return 1 + (mu_y * rho)\n",
    "    elif x==1 and y==1:\n",
    "        return 1 - rho\n",
    "    else:\n",
    "        return 1.0"
   ]
  },
  {
   "cell_type": "markdown",
   "id": "cc207eff-4413-4014-bc3e-5b776b94681d",
   "metadata": {},
   "source": [
    "When creating a more complex model to predict football match outcomes, like the number of goals scored by each team, we need to dive deeper into the mathematics behind statistical modeling. This involves using a method known as [Maximum Likelihood Estimation](https://en.wikipedia.org/wiki/Maximum_likelihood_estimation) (MLE). MLE helps us find the best parameters (coefficients) for our model based on the actual match data we have.\n",
    "\n",
    "### Understanding Maximum Likelihood Estimation (MLE)\n",
    "\n",
    "- **What is MLE?** Maximum Likelihood Estimation is a **statistical method used to estimate the parameters of a model**. The goal is to find the set of parameters that makes the observed data most likely to occur.\n",
    "- **Why MLE?** We use MLE because it's a powerful way to account for how different factors (like team strengths and home advantage) influence the number of goals scored in a match. It's especially useful when the relationship between these factors and outcomes is complex.\n",
    "\n",
    "### The Likelihood Function\n",
    "\n",
    "$$\n",
    "L(\\alpha_i, \\beta_i, \\rho, \\gamma, i=1,\\dots,n) = \\prod_{k=1}^{N} \\tau_{\\lambda_k,\\mu_k}(x_k, y_k) \\ \\frac{e^{-\\lambda} \\lambda^{x_k} }{x_k!} \\frac{e^{-\\mu} \\mu^{y_k} }{y_k!}\n",
    "\\\\ \\text{where } \\quad \\lambda_k = \\alpha_{i(k)} \\beta_{j(k)} \\gamma \\quad \\mu_k = \\alpha_{j(k)} \\beta_{i(k)}\n",
    "$$\n",
    "\n",
    "When predicting football scores, we're interested in a specific likelihood function. This function calculates the probability of observing the actual match scores given our model's parameters. Here's a breakdown of the key components:\n",
    "\n",
    "- In this equation, $i(k)$ and $j(k)$ respectively denote the indices of the home and away teams in match $k$. \n",
    "- **Matches Indexed**: We look at each match one by one, indexed from $k=1$ to $k=N$, where $N$ is the total number of matches.\n",
    "- **Scores**: For each match $k$, we have the actual scores ($x_k$, $y_k$), where $x_k$ is the number of goals scored by the home team and $y_k$ by the away team.\n",
    "- **Parameters**: $\\alpha_i$ and $\\beta_i$ represent the attacking and defensive strengths of team $i$, $\\rho$ accounts for the interaction between the teams' attack and defense, and $\\gamma$ represents the home team advantage.\n",
    "\n",
    "### The Formula\n",
    "\n",
    "- **Goal Rates ($\\lambda_k$ and $\\mu_k$)**: For each match, we calculate the expected goal rates for the home ($\\lambda_k$) and away ($\\mu_k$) teams based on our model's parameters. These rates depend on the teams' attacking and defensive strengths, as well as the home advantage.\n",
    "- **Probability of Scores**: The likelihood of observing the actual scores is calculated using the Poisson distribution formula, adjusted for the expected goal rates.\n",
    "\n",
    "### Maximizing the Log-Likelihood\n",
    "\n",
    "- **Why Log-Likelihood?** We maximize the log of the likelihood function instead of the likelihood itself because it simplifies the calculations, improves numerical stability, and all without changing which parameters are considered the best (since the logarithm is a strictly increasing function).\n",
    "- **Logarithmic Properties**: We leverage the property that $\\log(a \\cdot b) = \\log(a) + \\log(b)$ to transform the product of probabilities into a sum, making it easier to work with.\n",
    "\n",
    "### Python Implementation"
   ]
  },
  {
   "cell_type": "code",
   "execution_count": 19,
   "id": "fec1504a-7dc0-4cf9-953f-aa7d4fce13ef",
   "metadata": {},
   "outputs": [],
   "source": [
    "def dc_log_like(x, y, alpha_x, beta_x, alpha_y, beta_y, rho, gamma):\n",
    "    lambda_x, mu_y = np.exp(alpha_x + beta_y + gamma), np.exp(alpha_y + beta_x) \n",
    "    return (np.log(rho_correction(x, y, lambda_x, mu_y, rho)) + \n",
    "            np.log(poisson.pmf(x, lambda_x)) + np.log(poisson.pmf(y, mu_y)))"
   ]
  },
  {
   "cell_type": "markdown",
   "id": "56d3e875-d0f3-42f7-84fa-30c220fec0cb",
   "metadata": {},
   "source": [
    "`dc_log_like` is a function that applies the principles of Maximum Likelihood Estimation to find the best-fitting parameters for a model predicting football match scores.\n",
    "This function calculates the **[log-likelihood](https://en.wikipedia.org/wiki/Likelihood_function)** of observing a given match outcome (the number of goals scored by the home and away teams) **based on certain parameters**. Let's break down the function and its components for clarity:\n",
    "\n",
    "### Function Purpose and Parameters\n",
    "\n",
    "- **Purpose**: The `dc_log_like` function calculates the log-likelihood, which **is a measure used to evaluate how well our model's parameters fit the actual match data**.\n",
    "- **Parameters**:\n",
    "  - `x`, `y`: The actual number of goals scored by the home and away teams, respectively, in a given match.\n",
    "  - `alpha_x`, `beta_x`: Parameters representing the attacking strength of the home team and the defensive strength of the away team, respectively.\n",
    "  - `alpha_y`, `beta_y`: Parameters representing the attacking strength of the away team and the defensive strength of the home team, respectively.\n",
    "  - `rho`: A parameter that adjusts for the correlation between the home and away teams' goal-scoring processes.\n",
    "  - `gamma`: A parameter representing the home team advantage.\n",
    "\n",
    "### Transformations of $\\lambda$ and $\\mu$\n",
    "\n",
    "- **$\\lambda$ and $\\mu$ Calculation**: The function transforms $\\lambda$ and $\\mu$, the expected number of goals to be scored by the home and away teams, using the exponential function. This ensures that $\\lambda$ and $\\mu$ are always positive, which is a requirement for the Poisson distribution used to model goal-scoring.\n",
    "  - $\\lambda = \\exp(\\alpha_i + \\beta_j + \\gamma)$: <font color=\"green\">Expected goals for the home team</font>, combining the home team's attack strength, away team's defense strength, and home advantage.\n",
    "  - $\\mu = \\exp(\\alpha_j + \\beta_i)$: <font color=\"red\">Expected goals for the away team</font>, combining the away team's attack strength and home team's defense strength.\n",
    "\n",
    "### Calculating Log-Likelihood\n",
    "\n",
    "- The function calculates the log-likelihood for a match outcome by summing three components:\n",
    "  1. **`rho_correction`**: A term that adjusts the log-likelihood based on the correlation between the home and away teams' scoring, ensuring the model accounts for interactions between team strengths.\n",
    "  2. **Poisson PMF for Home Goals (`x`)**: The log of the probability mass function (PMF) of the Poisson distribution for the home team's goals, based on $\\lambda$.\n",
    "  3. **Poisson PMF for Away Goals (`y`)**: The log of the PMF of the Poisson distribution for the away team's goals, based on $\\mu$.\n",
    "\n",
    "### Why Use Exponential Transformations?\n",
    "\n",
    "- The exponential transformation of $\\lambda$ and $\\mu$ through the parameters ($\\alpha$ and $\\beta$ for attacking and defensive strengths, and $\\gamma$ for home advantage) guarantees that the expected goals ($\\lambda$ and $\\mu$) are always positive. This is crucial because the Poisson distribution cannot handle non-positive rates ($\\lambda$ and $\\mu$), and having them ensures the model's compatibility with the underlying statistical assumptions.\n",
    "- This approach also facilitates the convergence of the optimization algorithm used to maximize the log-likelihood function, as it operates within the valid domain of the Poisson distribution.\n",
    "- This approach directly applies the properties of logarithms to transform the product of probabilities into a sum of log-probabilities, $\\log(a \\cdot b) = \\log(a) + \\log(b)$ making the computation more stable and straightforward."
   ]
  },
  {
   "cell_type": "markdown",
   "id": "7a08c867-8864-40c7-93db-82daa193855d",
   "metadata": {},
   "source": [
    "We're now ready to find the parameters that maximise the log likelihood function. Basically, you design a function that takes a set of model parameters as an argument. You set some initial values and potentially include some constraints and select the appropriate optimisation algorithm. \n",
    "\n",
    "I've opted for scipy's [minimise function](https://docs.scipy.org/doc/scipy/reference/generated/scipy.optimize.minimize.html) (a possible alternative is [fmin](https://docs.scipy.org/doc/scipy/reference/generated/scipy.optimize.fmin.html)- note: the functions  seek to minimise the negative log-likelihood). It employs a process analogous to gradient descent, so that the algorithm iteratively converges to the optimal parameter set. The computation can be quite slow as it's forced to approximate the derivatives. If you're not as lazy as me, you could potentially speed it up by [manually constructing the partial derivatives](https://projekter.aau.dk/projekter/files/14466581/AssessingTheNumberOfGoalsInSoccerMatches.pdf#page=61). \n"
   ]
  },
  {
   "cell_type": "code",
   "execution_count": 20,
   "id": "bfaa7047-35e5-48df-b43e-32be4f240dba",
   "metadata": {},
   "outputs": [],
   "source": [
    "from scipy.optimize import minimize"
   ]
  },
  {
   "cell_type": "markdown",
   "id": "739f2add-7dff-47e8-89e7-3100aabb4a63",
   "metadata": {},
   "source": [
    "In line with the original Dixon Coles paper and the [opisthokonta blog](https://opisthokonta.net/?p=890), I've added the constraint that $\\frac{1}{n}\\sum_{i} \\alpha_{i}=1$ (i.e. the average attack strength value is 1). This step isn't strictly necessary, but it means that it should return a unique solution (otherwise, the model would suffer from overparamterisation and each execution would return different coefficients)."
   ]
  },
  {
   "cell_type": "markdown",
   "id": "aa124def-1b4e-4c30-b74c-090e55312767",
   "metadata": {},
   "source": [
    "Okay, we're ready to find the coefficients that maximise the log-likelihood function for the 2022/2023 Serie A season."
   ]
  },
  {
   "cell_type": "code",
   "execution_count": 21,
   "id": "398fa03d-24a4-4a25-b417-f15ff3b92629",
   "metadata": {},
   "outputs": [],
   "source": [
    "def solve_parameters(dataset, debug = False, init_vals=None, options={'disp': True, 'maxiter':100},\n",
    "                     constraints = [{'type':'eq', 'fun': lambda x: sum(x[:20])-20}] , **kwargs):\n",
    "    teams = np.sort(dataset['HomeTeam'].unique())\n",
    "    # check for no weirdness in dataset\n",
    "    away_teams = np.sort(dataset['AwayTeam'].unique())\n",
    "    if not np.array_equal(teams, away_teams):\n",
    "        raise ValueError(\"Something's not right\")\n",
    "    n_teams = len(teams)\n",
    "    if init_vals is None:\n",
    "        # random initialisation of model parameters\n",
    "        init_vals = np.concatenate((np.random.uniform(0,1,(n_teams)), # attack strength\n",
    "                                      np.random.uniform(0,-1,(n_teams)), # defence strength\n",
    "                                      np.array([0, 1.0]) # rho (score correction), gamma (home advantage)\n",
    "                                     ))\n",
    "    def dc_log_like(x, y, alpha_x, beta_x, alpha_y, beta_y, rho, gamma):\n",
    "        lambda_x, mu_y = np.exp(alpha_x + beta_y + gamma), np.exp(alpha_y + beta_x) \n",
    "        return (np.log(rho_correction(x, y, lambda_x, mu_y, rho)) + \n",
    "                np.log(poisson.pmf(x, lambda_x)) + np.log(poisson.pmf(y, mu_y)))\n",
    "\n",
    "    def estimate_paramters(params):\n",
    "        score_coefs = dict(zip(teams, params[:n_teams]))\n",
    "        defend_coefs = dict(zip(teams, params[n_teams:(2*n_teams)]))\n",
    "        rho, gamma = params[-2:]\n",
    "        log_like = [dc_log_like(row.HomeGoals, row.AwayGoals, score_coefs[row.HomeTeam], defend_coefs[row.HomeTeam],\n",
    "                     score_coefs[row.AwayTeam], defend_coefs[row.AwayTeam], rho, gamma) for row in dataset.itertuples()]\n",
    "        return -sum(log_like)\n",
    "    opt_output = minimize(estimate_paramters, init_vals, options=options, constraints = constraints, **kwargs)\n",
    "    if debug:\n",
    "        # sort of hacky way to investigate the output of the optimisation process\n",
    "        return opt_output\n",
    "    else:\n",
    "        return dict(zip([\"attack_\"+team for team in teams] + \n",
    "                        [\"defence_\"+team for team in teams] +\n",
    "                        ['rho', 'home_adv'],\n",
    "                        opt_output.x)) "
   ]
  },
  {
   "cell_type": "markdown",
   "id": "1cc8a8e6-3e1e-4ed2-9477-c86b0fccda73",
   "metadata": {},
   "source": [
    "This code segment is crucial for fine-tuning the model's parameters to best fit the actual match outcomes. By optimizing these parameters, the model can more accurately predict the number of goals scored by home and away teams in future matches, taking into account factors like team strengths and home advantage.\n",
    "\n",
    "It's based on the methodology from the Dixon-Coles paper and seeks to maximize the log-likelihood function, indicating the best fit of the model to the actual match data. Let's break down the code into parts:\n",
    "\n",
    "### `solve_parameters` Function Parameters\n",
    "\n",
    "- **`dataset`**: This is the primary dataset containing the football match data. It should include columns for `HomeTeam`, `AwayTeam`, `FTHG` (Full Time Home Goals), and `FTAG` (Full Time Away Goals). The dataset is used to calculate the log-likelihood based on actual match outcomes and the parameters being optimized.\n",
    "\n",
    "- **`debug`**: A boolean flag that, when set to `True`, changes the function's behavior to return the full output from the optimization process instead of just the optimized parameters. This is useful for debugging or in-depth analysis.\n",
    "\n",
    "- **`init_vals`**: An array of initial values for the parameters to be optimized. If not provided, the function initializes these values randomly. Proper initialization can help the optimization algorithm converge more quickly and to a better solution.\n",
    "\n",
    "- **`options`**: A dictionary of options for the optimization algorithm. Common options include `disp`, which controls whether the optimization process is displayed to the console, and `maxiter`, which sets the maximum number of iterations the optimizer will perform.\n",
    "\n",
    "- **`constraints`**: A list of constraints on the parameters. In this case, a constraint is used to ensure that the average attack strength across all teams is normalized to 1. This constraint helps to prevent overparameterization, where the model might otherwise return different sets of coefficients that all fit the data equally well.\n",
    "\n",
    "- **`**kwargs`**: Additional keyword arguments that can be passed to the optimization function. This allows for customization and flexibility in specifying optimization settings.\n",
    "\n",
    "### Setting Up for Optimization\n",
    "\n",
    "1. **Preparing the Dataset**:\n",
    "   - The code starts by ensuring that the list of teams playing at home (`HomeTeam`) matches the list of teams playing away (`AwayTeam`). If they don't match, something is wrong with the dataset, and an error is raised.\n",
    "\n",
    "2. **Initialization**:\n",
    "   - If no initial values are provided for the parameters (`init_vals`), the code initializes them randomly. The parameters include attack strength for each team, defense strength for each team, a correction factor (`rho`), and a home advantage factor (`gamma`).\n",
    "   - Attack and defense strengths are initialized with random values, where attack strengths are positive (indicating the ability to score goals) and defense strengths are negative (indicating the ability to concede fewer goals).\n",
    "\n",
    "### Defining the Objective Function\n",
    "\n",
    "- **`estimate_paramters` Function**:\n",
    "  - This function calculates the total negative log-likelihood for the entire dataset given a set of model parameters. The negative sign is used because most optimization algorithms are designed to minimize a function, but we want to maximize the log-likelihood.\n",
    "  - It converts the parameter array into more meaningful names, associating the first part with attack strengths and the second part with defense strengths of the teams, followed by `rho` and `gamma`.\n",
    "  - For each match in the dataset, it calculates the match's contribution to the log-likelihood using the `dc_log_like` function and sums these values to get the total log-likelihood.\n",
    "\n",
    "### Optimization\n",
    "\n",
    "- **Minimizing the Negative Log-Likelihood**:\n",
    "  - The `minimize` function from `scipy.optimize` library is called with the objective function `estimate_paramters`, the initial parameter values `init_vals`, additional options (`options`), and constraints (`constraints`).\n",
    "  - The constraints ensure that the average attack strength value across all teams is 1. **This is a normalization step that helps achieve a unique solution, addressing the potential issue of overparameterization where the model could return different coefficients for different runs**.\n",
    "\n",
    "### Handling the Optimization Output\n",
    "\n",
    "- **Debug Mode**: If `debug` is set to True, the function returns the raw output of the optimization process. This is useful for diagnosing issues or understanding the optimization in detail.\n",
    "- **Standard Mode**: Otherwise, it returns a dictionary mapping each parameter (attack and defense strengths for each team, `rho`, and `gamma`) to its optimized value. This dictionary provides a clear and usable summary of the model parameters."
   ]
  },
  {
   "cell_type": "code",
   "execution_count": 22,
   "id": "9e2a2ef1-dab8-4c8b-9e33-3590c6ca14fe",
   "metadata": {},
   "outputs": [
    {
     "name": "stderr",
     "output_type": "stream",
     "text": [
      "/var/folders/p6/h_lrqd2j2s928n737d4n28s80000gn/T/ipykernel_31658/744053136.py:18: RuntimeWarning: divide by zero encountered in log\n",
      "  np.log(poisson.pmf(x, lambda_x)) + np.log(poisson.pmf(y, mu_y)))\n",
      "/var/folders/p6/h_lrqd2j2s928n737d4n28s80000gn/T/ipykernel_31658/744053136.py:17: RuntimeWarning: invalid value encountered in log\n",
      "  return (np.log(rho_correction(x, y, lambda_x, mu_y, rho)) +\n"
     ]
    },
    {
     "name": "stdout",
     "output_type": "stream",
     "text": [
      "Optimization terminated successfully    (Exit mode 0)\n",
      "            Current function value: 1028.7643881511563\n",
      "            Iterations: 50\n",
      "            Function evaluations: 2227\n",
      "            Gradient evaluations: 50\n"
     ]
    }
   ],
   "source": [
    "params = solve_parameters(sa_2223)"
   ]
  },
  {
   "cell_type": "markdown",
   "id": "68a3a9a4-0f39-45f1-9112-4744f859ba99",
   "metadata": {},
   "source": [
    "### Optimization Output Summary\n",
    "\n",
    "- **Current function value**: This is the minimized value of the negative log-likelihood function, at 1028.7643886516407. The lower this value, the better the fit of the model to the data, although this value alone doesn't tell us everything about the model's quality.\n",
    "- **Iterations**: The optimization process took 43 iterations to converge, indicating the number of steps the optimizer needed to find the minimum.\n",
    "- **Function evaluations**: The function was evaluated 1913 times, reflecting how many times the optimizer calculated the log-likelihood to guide its search.\n",
    "- **Gradient evaluations**: There were 43 gradient evaluations, which is related to how the optimizer used the gradient of the log-likelihood function to find the direction of "
   ]
  },
  {
   "cell_type": "code",
   "execution_count": 23,
   "id": "675d15a0-88e5-4a30-a0f9-5298ee7a7033",
   "metadata": {
    "scrolled": true
   },
   "outputs": [
    {
     "data": {
      "text/plain": [
       "{'attack_Atalanta': 1.3476321112204899,\n",
       " 'attack_Bologna': 1.1284772218098633,\n",
       " 'attack_Cremonese': 0.7637389940804583,\n",
       " 'attack_Empoli': 0.7683900530117932,\n",
       " 'attack_Fiorentina': 1.121867138418756,\n",
       " 'attack_Inter': 1.413409103273481,\n",
       " 'attack_Juventus': 1.165675798134925,\n",
       " 'attack_Lazio': 1.233040218089662,\n",
       " 'attack_Lecce': 0.6493744607213933,\n",
       " 'attack_Milan': 1.3123204726295883,\n",
       " 'attack_Monza': 1.0318254486784102,\n",
       " 'attack_Napoli': 1.480527022950035,\n",
       " 'attack_Roma': 1.0580012913880827,\n",
       " 'attack_Salernitana': 1.0440010787494944,\n",
       " 'attack_Sampdoria': 0.3593437403736327,\n",
       " 'attack_Sassuolo': 1.0222330245084144,\n",
       " 'attack_Spezia': 0.6054426875097848,\n",
       " 'attack_Torino': 0.8852790760557968,\n",
       " 'attack_Udinese': 1.0079865011850229,\n",
       " 'attack_Verona': 0.6014345572109154,\n",
       " 'defence_Atalanta': -0.8971129486996857,\n",
       " 'defence_Bologna': -0.8901220799795184,\n",
       " 'defence_Cremonese': -0.564889834152995,\n",
       " 'defence_Empoli': -0.9086989889941428,\n",
       " 'defence_Fiorentina': -1.0213444781010763,\n",
       " 'defence_Inter': -1.0263546751378905,\n",
       " 'defence_Juventus': -1.2855720936268442,\n",
       " 'defence_Lazio': -1.3751870765211025,\n",
       " 'defence_Lecce': -0.9754465170011108,\n",
       " 'defence_Milan': -1.0088155896249815,\n",
       " 'defence_Monza': -0.8373349587439135,\n",
       " 'defence_Napoli': -1.425506903202207,\n",
       " 'defence_Roma': -1.1498079263995524,\n",
       " 'defence_Salernitana': -0.659660587180766,\n",
       " 'defence_Sampdoria': -0.5496841900053646,\n",
       " 'defence_Sassuolo': -0.6778245800211657,\n",
       " 'defence_Spezia': -0.6783023335975916,\n",
       " 'defence_Torino': -1.0823575649045956,\n",
       " 'defence_Udinese': -0.9167115666185809,\n",
       " 'defence_Verona': -0.7281087187268163,\n",
       " 'rho': -0.01062642454190893,\n",
       " 'home_adv': 0.20607680746714407}"
      ]
     },
     "execution_count": 23,
     "metadata": {},
     "output_type": "execute_result"
    }
   ],
   "source": [
    "params"
   ]
  },
  {
   "cell_type": "code",
   "execution_count": 24,
   "id": "25b51a7d-e398-49ea-87f0-f818be161976",
   "metadata": {
    "scrolled": true
   },
   "outputs": [
    {
     "data": {
      "text/plain": [
       "dict"
      ]
     },
     "execution_count": 24,
     "metadata": {},
     "output_type": "execute_result"
    }
   ],
   "source": [
    "type(params)"
   ]
  },
  {
   "cell_type": "code",
   "execution_count": 25,
   "id": "31f93867-0b80-4f59-8268-28d2897880dc",
   "metadata": {
    "scrolled": true
   },
   "outputs": [
    {
     "name": "stdout",
     "output_type": "stream",
     "text": [
      "Attack Strengths:\n"
     ]
    },
    {
     "data": {
      "text/html": [
       "<div>\n",
       "<style scoped>\n",
       "    .dataframe tbody tr th:only-of-type {\n",
       "        vertical-align: middle;\n",
       "    }\n",
       "\n",
       "    .dataframe tbody tr th {\n",
       "        vertical-align: top;\n",
       "    }\n",
       "\n",
       "    .dataframe thead th {\n",
       "        text-align: right;\n",
       "    }\n",
       "</style>\n",
       "<table border=\"1\" class=\"dataframe\">\n",
       "  <thead>\n",
       "    <tr style=\"text-align: right;\">\n",
       "      <th></th>\n",
       "      <th>Parameter</th>\n",
       "      <th>Value</th>\n",
       "    </tr>\n",
       "  </thead>\n",
       "  <tbody>\n",
       "    <tr>\n",
       "      <th>0</th>\n",
       "      <td>attack_Atalanta</td>\n",
       "      <td>1.347632</td>\n",
       "    </tr>\n",
       "    <tr>\n",
       "      <th>1</th>\n",
       "      <td>attack_Bologna</td>\n",
       "      <td>1.128477</td>\n",
       "    </tr>\n",
       "    <tr>\n",
       "      <th>2</th>\n",
       "      <td>attack_Cremonese</td>\n",
       "      <td>0.763739</td>\n",
       "    </tr>\n",
       "    <tr>\n",
       "      <th>3</th>\n",
       "      <td>attack_Empoli</td>\n",
       "      <td>0.768390</td>\n",
       "    </tr>\n",
       "    <tr>\n",
       "      <th>4</th>\n",
       "      <td>attack_Fiorentina</td>\n",
       "      <td>1.121867</td>\n",
       "    </tr>\n",
       "    <tr>\n",
       "      <th>5</th>\n",
       "      <td>attack_Inter</td>\n",
       "      <td>1.413409</td>\n",
       "    </tr>\n",
       "    <tr>\n",
       "      <th>6</th>\n",
       "      <td>attack_Juventus</td>\n",
       "      <td>1.165676</td>\n",
       "    </tr>\n",
       "    <tr>\n",
       "      <th>7</th>\n",
       "      <td>attack_Lazio</td>\n",
       "      <td>1.233040</td>\n",
       "    </tr>\n",
       "    <tr>\n",
       "      <th>8</th>\n",
       "      <td>attack_Lecce</td>\n",
       "      <td>0.649374</td>\n",
       "    </tr>\n",
       "    <tr>\n",
       "      <th>9</th>\n",
       "      <td>attack_Milan</td>\n",
       "      <td>1.312320</td>\n",
       "    </tr>\n",
       "    <tr>\n",
       "      <th>10</th>\n",
       "      <td>attack_Monza</td>\n",
       "      <td>1.031825</td>\n",
       "    </tr>\n",
       "    <tr>\n",
       "      <th>11</th>\n",
       "      <td>attack_Napoli</td>\n",
       "      <td>1.480527</td>\n",
       "    </tr>\n",
       "    <tr>\n",
       "      <th>12</th>\n",
       "      <td>attack_Roma</td>\n",
       "      <td>1.058001</td>\n",
       "    </tr>\n",
       "    <tr>\n",
       "      <th>13</th>\n",
       "      <td>attack_Salernitana</td>\n",
       "      <td>1.044001</td>\n",
       "    </tr>\n",
       "    <tr>\n",
       "      <th>14</th>\n",
       "      <td>attack_Sampdoria</td>\n",
       "      <td>0.359344</td>\n",
       "    </tr>\n",
       "    <tr>\n",
       "      <th>15</th>\n",
       "      <td>attack_Sassuolo</td>\n",
       "      <td>1.022233</td>\n",
       "    </tr>\n",
       "    <tr>\n",
       "      <th>16</th>\n",
       "      <td>attack_Spezia</td>\n",
       "      <td>0.605443</td>\n",
       "    </tr>\n",
       "    <tr>\n",
       "      <th>17</th>\n",
       "      <td>attack_Torino</td>\n",
       "      <td>0.885279</td>\n",
       "    </tr>\n",
       "    <tr>\n",
       "      <th>18</th>\n",
       "      <td>attack_Udinese</td>\n",
       "      <td>1.007987</td>\n",
       "    </tr>\n",
       "    <tr>\n",
       "      <th>19</th>\n",
       "      <td>attack_Verona</td>\n",
       "      <td>0.601435</td>\n",
       "    </tr>\n",
       "  </tbody>\n",
       "</table>\n",
       "</div>"
      ],
      "text/plain": [
       "             Parameter     Value\n",
       "0      attack_Atalanta  1.347632\n",
       "1       attack_Bologna  1.128477\n",
       "2     attack_Cremonese  0.763739\n",
       "3        attack_Empoli  0.768390\n",
       "4    attack_Fiorentina  1.121867\n",
       "5         attack_Inter  1.413409\n",
       "6      attack_Juventus  1.165676\n",
       "7         attack_Lazio  1.233040\n",
       "8         attack_Lecce  0.649374\n",
       "9         attack_Milan  1.312320\n",
       "10        attack_Monza  1.031825\n",
       "11       attack_Napoli  1.480527\n",
       "12         attack_Roma  1.058001\n",
       "13  attack_Salernitana  1.044001\n",
       "14    attack_Sampdoria  0.359344\n",
       "15     attack_Sassuolo  1.022233\n",
       "16       attack_Spezia  0.605443\n",
       "17       attack_Torino  0.885279\n",
       "18      attack_Udinese  1.007987\n",
       "19       attack_Verona  0.601435"
      ]
     },
     "metadata": {},
     "output_type": "display_data"
    },
    {
     "name": "stdout",
     "output_type": "stream",
     "text": [
      "\n",
      "Defense Strengths:\n"
     ]
    },
    {
     "data": {
      "text/html": [
       "<div>\n",
       "<style scoped>\n",
       "    .dataframe tbody tr th:only-of-type {\n",
       "        vertical-align: middle;\n",
       "    }\n",
       "\n",
       "    .dataframe tbody tr th {\n",
       "        vertical-align: top;\n",
       "    }\n",
       "\n",
       "    .dataframe thead th {\n",
       "        text-align: right;\n",
       "    }\n",
       "</style>\n",
       "<table border=\"1\" class=\"dataframe\">\n",
       "  <thead>\n",
       "    <tr style=\"text-align: right;\">\n",
       "      <th></th>\n",
       "      <th>Parameter</th>\n",
       "      <th>Value</th>\n",
       "    </tr>\n",
       "  </thead>\n",
       "  <tbody>\n",
       "    <tr>\n",
       "      <th>0</th>\n",
       "      <td>defence_Atalanta</td>\n",
       "      <td>-0.897113</td>\n",
       "    </tr>\n",
       "    <tr>\n",
       "      <th>1</th>\n",
       "      <td>defence_Bologna</td>\n",
       "      <td>-0.890122</td>\n",
       "    </tr>\n",
       "    <tr>\n",
       "      <th>2</th>\n",
       "      <td>defence_Cremonese</td>\n",
       "      <td>-0.564890</td>\n",
       "    </tr>\n",
       "    <tr>\n",
       "      <th>3</th>\n",
       "      <td>defence_Empoli</td>\n",
       "      <td>-0.908699</td>\n",
       "    </tr>\n",
       "    <tr>\n",
       "      <th>4</th>\n",
       "      <td>defence_Fiorentina</td>\n",
       "      <td>-1.021344</td>\n",
       "    </tr>\n",
       "    <tr>\n",
       "      <th>5</th>\n",
       "      <td>defence_Inter</td>\n",
       "      <td>-1.026355</td>\n",
       "    </tr>\n",
       "    <tr>\n",
       "      <th>6</th>\n",
       "      <td>defence_Juventus</td>\n",
       "      <td>-1.285572</td>\n",
       "    </tr>\n",
       "    <tr>\n",
       "      <th>7</th>\n",
       "      <td>defence_Lazio</td>\n",
       "      <td>-1.375187</td>\n",
       "    </tr>\n",
       "    <tr>\n",
       "      <th>8</th>\n",
       "      <td>defence_Lecce</td>\n",
       "      <td>-0.975447</td>\n",
       "    </tr>\n",
       "    <tr>\n",
       "      <th>9</th>\n",
       "      <td>defence_Milan</td>\n",
       "      <td>-1.008816</td>\n",
       "    </tr>\n",
       "    <tr>\n",
       "      <th>10</th>\n",
       "      <td>defence_Monza</td>\n",
       "      <td>-0.837335</td>\n",
       "    </tr>\n",
       "    <tr>\n",
       "      <th>11</th>\n",
       "      <td>defence_Napoli</td>\n",
       "      <td>-1.425507</td>\n",
       "    </tr>\n",
       "    <tr>\n",
       "      <th>12</th>\n",
       "      <td>defence_Roma</td>\n",
       "      <td>-1.149808</td>\n",
       "    </tr>\n",
       "    <tr>\n",
       "      <th>13</th>\n",
       "      <td>defence_Salernitana</td>\n",
       "      <td>-0.659661</td>\n",
       "    </tr>\n",
       "    <tr>\n",
       "      <th>14</th>\n",
       "      <td>defence_Sampdoria</td>\n",
       "      <td>-0.549684</td>\n",
       "    </tr>\n",
       "    <tr>\n",
       "      <th>15</th>\n",
       "      <td>defence_Sassuolo</td>\n",
       "      <td>-0.677825</td>\n",
       "    </tr>\n",
       "    <tr>\n",
       "      <th>16</th>\n",
       "      <td>defence_Spezia</td>\n",
       "      <td>-0.678302</td>\n",
       "    </tr>\n",
       "    <tr>\n",
       "      <th>17</th>\n",
       "      <td>defence_Torino</td>\n",
       "      <td>-1.082358</td>\n",
       "    </tr>\n",
       "    <tr>\n",
       "      <th>18</th>\n",
       "      <td>defence_Udinese</td>\n",
       "      <td>-0.916712</td>\n",
       "    </tr>\n",
       "    <tr>\n",
       "      <th>19</th>\n",
       "      <td>defence_Verona</td>\n",
       "      <td>-0.728109</td>\n",
       "    </tr>\n",
       "  </tbody>\n",
       "</table>\n",
       "</div>"
      ],
      "text/plain": [
       "              Parameter     Value\n",
       "0      defence_Atalanta -0.897113\n",
       "1       defence_Bologna -0.890122\n",
       "2     defence_Cremonese -0.564890\n",
       "3        defence_Empoli -0.908699\n",
       "4    defence_Fiorentina -1.021344\n",
       "5         defence_Inter -1.026355\n",
       "6      defence_Juventus -1.285572\n",
       "7         defence_Lazio -1.375187\n",
       "8         defence_Lecce -0.975447\n",
       "9         defence_Milan -1.008816\n",
       "10        defence_Monza -0.837335\n",
       "11       defence_Napoli -1.425507\n",
       "12         defence_Roma -1.149808\n",
       "13  defence_Salernitana -0.659661\n",
       "14    defence_Sampdoria -0.549684\n",
       "15     defence_Sassuolo -0.677825\n",
       "16       defence_Spezia -0.678302\n",
       "17       defence_Torino -1.082358\n",
       "18      defence_Udinese -0.916712\n",
       "19       defence_Verona -0.728109"
      ]
     },
     "metadata": {},
     "output_type": "display_data"
    },
    {
     "name": "stdout",
     "output_type": "stream",
     "text": [
      "\n",
      "Other Parameters:\n"
     ]
    },
    {
     "data": {
      "text/html": [
       "<div>\n",
       "<style scoped>\n",
       "    .dataframe tbody tr th:only-of-type {\n",
       "        vertical-align: middle;\n",
       "    }\n",
       "\n",
       "    .dataframe tbody tr th {\n",
       "        vertical-align: top;\n",
       "    }\n",
       "\n",
       "    .dataframe thead th {\n",
       "        text-align: right;\n",
       "    }\n",
       "</style>\n",
       "<table border=\"1\" class=\"dataframe\">\n",
       "  <thead>\n",
       "    <tr style=\"text-align: right;\">\n",
       "      <th></th>\n",
       "      <th>Parameter</th>\n",
       "      <th>Value</th>\n",
       "    </tr>\n",
       "  </thead>\n",
       "  <tbody>\n",
       "    <tr>\n",
       "      <th>0</th>\n",
       "      <td>rho</td>\n",
       "      <td>-0.010626</td>\n",
       "    </tr>\n",
       "    <tr>\n",
       "      <th>1</th>\n",
       "      <td>home_adv</td>\n",
       "      <td>0.206077</td>\n",
       "    </tr>\n",
       "  </tbody>\n",
       "</table>\n",
       "</div>"
      ],
      "text/plain": [
       "  Parameter     Value\n",
       "0       rho -0.010626\n",
       "1  home_adv  0.206077"
      ]
     },
     "metadata": {},
     "output_type": "display_data"
    }
   ],
   "source": [
    "# Convert the parameters dictionary into a DataFrame for better visualization\n",
    "params_df = pd.DataFrame(list(params.items()), columns=['Parameter', 'Value'])\n",
    "\n",
    "# Separate attack, defense, and other parameters for better organization\n",
    "attack_params = params_df[params_df['Parameter'].str.contains('attack')].reset_index(drop=True)\n",
    "defense_params = params_df[params_df['Parameter'].str.contains('defence')].reset_index(drop=True)\n",
    "other_params = params_df[~params_df['Parameter'].str.contains('attack|defence')].reset_index(drop=True)\n",
    "\n",
    "# Display the DataFrames\n",
    "print(\"Attack Strengths:\")\n",
    "display(attack_params)\n",
    "print(\"\\nDefense Strengths:\")\n",
    "display(defense_params)\n",
    "print(\"\\nOther Parameters:\")\n",
    "display(other_params)"
   ]
  },
  {
   "cell_type": "markdown",
   "id": "c2e74483-429e-4ce9-8054-f653d10a84ab",
   "metadata": {},
   "source": [
    "### Model Parameters\n",
    "\n",
    "The parameters found through optimization represent the attack and defense strengths of each team in Serie A, along with a correction factor (`rho`) and home advantage (`home_adv`). \n",
    "\n",
    "- **Attack Strength (`attack_X`)**: Higher values indicate a stronger attacking capability. For example, Napoli with 1.4805310113352097 suggests they're expected to score more goals on average compared to other teams.\n",
    "  \n",
    "- **Defense Strength (`defence_X`)**: These are negative values because they represent the ability to prevent goals. More negative values indicate stronger defense. Juventus' value of -1.285607439014629 suggests a strong defensive performance.\n",
    "  \n",
    "- **Correction Factor (`rho`)**: The `rho` parameter, at -0.010619124548212464, adjusts for the dependency between the home and away teams' goal-scoring. It's part of the Dixon-Coles model adjustments for low-scoring matches.\n",
    "  \n",
    "- **Home Advantage (`home_adv`)**: The positive value of 0.20608244483127802 indicates that there is a home advantage factor, meaning teams are generally more likely to score more goals when playing at home."
   ]
  },
  {
   "cell_type": "code",
   "execution_count": 83,
   "id": "27fd1454-8de3-4cc4-abf6-4cb31777ed4c",
   "metadata": {},
   "outputs": [
    {
     "data": {
      "text/html": [
       "<div>\n",
       "<style scoped>\n",
       "    .dataframe tbody tr th:only-of-type {\n",
       "        vertical-align: middle;\n",
       "    }\n",
       "\n",
       "    .dataframe tbody tr th {\n",
       "        vertical-align: top;\n",
       "    }\n",
       "\n",
       "    .dataframe thead th {\n",
       "        text-align: right;\n",
       "    }\n",
       "</style>\n",
       "<table border=\"1\" class=\"dataframe\">\n",
       "  <thead>\n",
       "    <tr style=\"text-align: right;\">\n",
       "      <th></th>\n",
       "      <th>Team</th>\n",
       "      <th>Attack</th>\n",
       "      <th>Defence</th>\n",
       "    </tr>\n",
       "  </thead>\n",
       "  <tbody>\n",
       "    <tr>\n",
       "      <th>0</th>\n",
       "      <td>Atalanta</td>\n",
       "      <td>1.347653</td>\n",
       "      <td>-0.897070</td>\n",
       "    </tr>\n",
       "    <tr>\n",
       "      <th>1</th>\n",
       "      <td>Bologna</td>\n",
       "      <td>1.128484</td>\n",
       "      <td>-0.890190</td>\n",
       "    </tr>\n",
       "    <tr>\n",
       "      <th>2</th>\n",
       "      <td>Cremonese</td>\n",
       "      <td>0.763699</td>\n",
       "      <td>-0.564938</td>\n",
       "    </tr>\n",
       "    <tr>\n",
       "      <th>3</th>\n",
       "      <td>Empoli</td>\n",
       "      <td>0.768396</td>\n",
       "      <td>-0.908684</td>\n",
       "    </tr>\n",
       "    <tr>\n",
       "      <th>4</th>\n",
       "      <td>Fiorentina</td>\n",
       "      <td>1.121882</td>\n",
       "      <td>-1.021348</td>\n",
       "    </tr>\n",
       "    <tr>\n",
       "      <th>5</th>\n",
       "      <td>Inter</td>\n",
       "      <td>1.413396</td>\n",
       "      <td>-1.026375</td>\n",
       "    </tr>\n",
       "    <tr>\n",
       "      <th>6</th>\n",
       "      <td>Juventus</td>\n",
       "      <td>1.165633</td>\n",
       "      <td>-1.285607</td>\n",
       "    </tr>\n",
       "    <tr>\n",
       "      <th>7</th>\n",
       "      <td>Lazio</td>\n",
       "      <td>1.233036</td>\n",
       "      <td>-1.375235</td>\n",
       "    </tr>\n",
       "    <tr>\n",
       "      <th>8</th>\n",
       "      <td>Lecce</td>\n",
       "      <td>0.649401</td>\n",
       "      <td>-0.975448</td>\n",
       "    </tr>\n",
       "    <tr>\n",
       "      <th>9</th>\n",
       "      <td>Milan</td>\n",
       "      <td>1.312302</td>\n",
       "      <td>-1.008788</td>\n",
       "    </tr>\n",
       "    <tr>\n",
       "      <th>10</th>\n",
       "      <td>Monza</td>\n",
       "      <td>1.031804</td>\n",
       "      <td>-0.837349</td>\n",
       "    </tr>\n",
       "    <tr>\n",
       "      <th>11</th>\n",
       "      <td>Napoli</td>\n",
       "      <td>1.480531</td>\n",
       "      <td>-1.425483</td>\n",
       "    </tr>\n",
       "    <tr>\n",
       "      <th>12</th>\n",
       "      <td>Roma</td>\n",
       "      <td>1.057974</td>\n",
       "      <td>-1.149715</td>\n",
       "    </tr>\n",
       "    <tr>\n",
       "      <th>13</th>\n",
       "      <td>Salernitana</td>\n",
       "      <td>1.044079</td>\n",
       "      <td>-0.659645</td>\n",
       "    </tr>\n",
       "    <tr>\n",
       "      <th>14</th>\n",
       "      <td>Sampdoria</td>\n",
       "      <td>0.359342</td>\n",
       "      <td>-0.549691</td>\n",
       "    </tr>\n",
       "    <tr>\n",
       "      <th>15</th>\n",
       "      <td>Sassuolo</td>\n",
       "      <td>1.022312</td>\n",
       "      <td>-0.677817</td>\n",
       "    </tr>\n",
       "    <tr>\n",
       "      <th>16</th>\n",
       "      <td>Spezia</td>\n",
       "      <td>0.605420</td>\n",
       "      <td>-0.678294</td>\n",
       "    </tr>\n",
       "    <tr>\n",
       "      <th>17</th>\n",
       "      <td>Torino</td>\n",
       "      <td>0.885347</td>\n",
       "      <td>-1.082378</td>\n",
       "    </tr>\n",
       "    <tr>\n",
       "      <th>18</th>\n",
       "      <td>Udinese</td>\n",
       "      <td>1.007923</td>\n",
       "      <td>-0.916760</td>\n",
       "    </tr>\n",
       "    <tr>\n",
       "      <th>19</th>\n",
       "      <td>Verona</td>\n",
       "      <td>0.601388</td>\n",
       "      <td>-0.728113</td>\n",
       "    </tr>\n",
       "  </tbody>\n",
       "</table>\n",
       "</div>"
      ],
      "text/plain": [
       "           Team    Attack   Defence\n",
       "0      Atalanta  1.347653 -0.897070\n",
       "1       Bologna  1.128484 -0.890190\n",
       "2     Cremonese  0.763699 -0.564938\n",
       "3        Empoli  0.768396 -0.908684\n",
       "4    Fiorentina  1.121882 -1.021348\n",
       "5         Inter  1.413396 -1.026375\n",
       "6      Juventus  1.165633 -1.285607\n",
       "7         Lazio  1.233036 -1.375235\n",
       "8         Lecce  0.649401 -0.975448\n",
       "9         Milan  1.312302 -1.008788\n",
       "10        Monza  1.031804 -0.837349\n",
       "11       Napoli  1.480531 -1.425483\n",
       "12         Roma  1.057974 -1.149715\n",
       "13  Salernitana  1.044079 -0.659645\n",
       "14    Sampdoria  0.359342 -0.549691\n",
       "15     Sassuolo  1.022312 -0.677817\n",
       "16       Spezia  0.605420 -0.678294\n",
       "17       Torino  0.885347 -1.082378\n",
       "18      Udinese  1.007923 -0.916760\n",
       "19       Verona  0.601388 -0.728113"
      ]
     },
     "execution_count": 83,
     "metadata": {},
     "output_type": "execute_result"
    }
   ],
   "source": [
    "# Extract team names from the keys\n",
    "teams = sorted(set(key.split('_')[1] for key in params if key.startswith('attack')))\n",
    "\n",
    "# Create a list of dictionaries for creating the DataFrame\n",
    "data = []\n",
    "for team in teams:\n",
    "    attack_key = f\"attack_{team}\"\n",
    "    defence_key = f\"defence_{team}\"\n",
    "    data.append({\n",
    "        \"Team\": team,\n",
    "        \"Attack\": params.get(attack_key, None),\n",
    "        \"Defence\": params.get(defence_key, None)\n",
    "    })\n",
    "\n",
    "# Create the DataFrame\n",
    "df = pd.DataFrame(data)\n",
    "\n",
    "# Display the table\n",
    "df"
   ]
  },
  {
   "cell_type": "markdown",
   "id": "bdd976fd-54aa-4b10-a823-83a5deff78a9",
   "metadata": {},
   "source": [
    "### Interpretation\n",
    "\n",
    "- Teams like Napoli, Inter, and Milan show high attacking strength, suggesting they were among the most potent offenses in Serie A that season.\n",
    "- Teams like Juventus, Lazio, and Napoli also show strong defensive capabilities, indicating they were effective at preventing their opponents from scoring.\n",
    "- The `rho` value is very close to zero, suggesting that the correction for low-scoring matches has a minor adjustment effect in this model configuration.\n",
    "- The positive `home_adv` value quantifies the home advantage effect, consistent with the common understanding that teams perform better at home."
   ]
  },
  {
   "cell_type": "code",
   "execution_count": null,
   "id": "f823905c-b826-4d64-8871-47cd9ee32130",
   "metadata": {},
   "outputs": [],
   "source": []
  },
  {
   "cell_type": "markdown",
   "id": "cc1848d4-c01a-4181-a35e-0c350fd24e54",
   "metadata": {},
   "source": [
    "We can now start making some predictions by constructing match score matrices based on these model parameters. This part is quite similar to BP model, except for the correction applied to the 0-0, 1-0, 0-1 and 1-1 matrix elements."
   ]
  },
  {
   "cell_type": "code",
   "execution_count": 26,
   "id": "1721abb9-28d6-47cd-8741-a5eec9f873a4",
   "metadata": {},
   "outputs": [],
   "source": [
    "def calc_means(param_dict, homeTeam, awayTeam):\n",
    "    return [np.exp(param_dict['attack_'+homeTeam] + param_dict['defence_'+awayTeam] + param_dict['home_adv']),\n",
    "            np.exp(param_dict['defence_'+homeTeam] + param_dict['attack_'+awayTeam])]\n",
    "\n",
    "def dixon_coles_simulate_match(params_dict, homeTeam, awayTeam, max_goals=10):\n",
    "    team_avgs = calc_means(params_dict, homeTeam, awayTeam)\n",
    "    team_pred = [[poisson.pmf(i, team_avg) for i in range(0, max_goals+1)] for team_avg in team_avgs]\n",
    "    output_matrix = np.outer(np.array(team_pred[0]), np.array(team_pred[1]))\n",
    "    correction_matrix = np.array([[rho_correction(home_goals, away_goals, team_avgs[0],\n",
    "                                                   team_avgs[1], params['rho']) for away_goals in range(2)]\n",
    "                                   for home_goals in range(2)])\n",
    "    output_matrix[:2,:2] = output_matrix[:2,:2] * correction_matrix\n",
    "    return output_matrix"
   ]
  },
  {
   "cell_type": "markdown",
   "id": "84996edd-306c-4703-ab1b-4c8332f644fa",
   "metadata": {},
   "source": [
    "### Function Definitions\n",
    "\n",
    "#### **`calc_means` Function**:\n",
    "   - Calculates the expected number of goals (`lambda` for the home team and `mu` for the away team) using the model parameters for a given match between a home team and an away team.\n",
    "   - It uses the exponential function to ensure the expected goals are positive and based on the model parameters for attack and defense strengths, as well as home advantage.\n",
    "\n",
    "#### **`dixon_coles_simulate_match` Function**:\n",
    "   - Simulates the match outcome probabilities between two teams up to a specified number of goals (`max_goals`), using either team's expected goal rates.\n",
    "   - It first calculates the match score probabilities using the Poisson distribution for both teams.\n",
    "   - Then, it applies a correction to the probabilities of low-scoring outcomes (0-0, 1-0, 0-1, and 1-1) using a custom `rho_correction` function, which adjusts these probabilities based on the `rho` parameter to better fit actual match data.\n",
    "   - The corrected probabilities for these specific outcomes rSerie Aace the original probabilities in the output matrix."
   ]
  },
  {
   "cell_type": "code",
   "execution_count": 85,
   "id": "66911ae1-0bbf-4b1d-8658-f2dcdcc3056b",
   "metadata": {},
   "outputs": [],
   "source": [
    "mil_ata_dc = dixon_coles_simulate_match(params, 'Milan', 'Atalanta', max_goals=10)"
   ]
  },
  {
   "cell_type": "code",
   "execution_count": 87,
   "id": "076c1690-f583-431f-a3bb-306a1b8147de",
   "metadata": {},
   "outputs": [
    {
     "name": "stdout",
     "output_type": "stream",
     "text": [
      "Milan Win\n",
      "Basic Poisson: 0.48330; Dixon-Coles: 0.48238\n",
      "Atalanta Win\n",
      "Basic Poisson: 0.29106; Dixon-Coles: 0.28995\n",
      "Draw\n",
      "Basic Poisson: 0.22563; Dixon-Coles: 0.22766\n"
     ]
    }
   ],
   "source": [
    "# [Simple Poisson, Dixon-Coles]\n",
    "print(\"Milan Win\")\n",
    "print('; '.join(\"{0}: {1:.5f}\".format(model, prob) for model,prob in \n",
    "          zip([\"Basic Poisson\", \"Dixon-Coles\"], list(map(lambda x:np.sum(np.tril(x, -1)), [mil_ata, mil_ata_dc])))))\n",
    "print(\"Atalanta Win\")\n",
    "print('; '.join(\"{0}: {1:.5f}\".format(model, prob) for model,prob in \n",
    "          zip([\"Basic Poisson\", \"Dixon-Coles\"], list(map(lambda x:np.sum(np.triu(x, 1)), [mil_ata, mil_ata_dc])))))\n",
    "print(\"Draw\")\n",
    "print('; '.join(\"{0}: {1:.5f}\".format(model, prob) for model,prob in \n",
    "          zip([\"Basic Poisson\", \"Dixon-Coles\"], list(map(lambda x:np.sum(np.diag(x)), [mil_ata, mil_ata_dc])))))"
   ]
  },
  {
   "cell_type": "code",
   "execution_count": 91,
   "id": "195cf093-076e-4579-bc6e-9de719cb7d00",
   "metadata": {},
   "outputs": [
    {
     "data": {
      "image/png": "[encoded data removed]",
      "text/plain": [
       "<Figure size 360x360 with 2 Axes>"
      ]
     },
     "metadata": {
      "needs_background": "light"
     },
     "output_type": "display_data"
    }
   ],
   "source": [
    "cmap = sns.diverging_palette(10, 133, as_cmap=True)\n",
    "\n",
    "fig, ax = plt.subplots(figsize=(5,5))    \n",
    "with sns.axes_style(\"white\"):\n",
    "    ax = sns.heatmap(simulate_match(poisson_model, 'Milan', 'Atalanta', max_goals=5) - \\\n",
    "                     dixon_coles_simulate_match(params, 'Milan', 'Atalanta', max_goals=5), \n",
    "                     annot=True, fmt='.4f', cmap=cmap, vmin=-0.013, vmax=.013, center=0.00,\n",
    "                     square=True, linewidths=.5, annot_kws={\"size\": 11}, cbar_kws={\"shrink\": .8})\n",
    "    ax.tick_params(axis=u'both', which=u'both',length=0)\n",
    "    ax.grid(which='major', axis='both', linestyle='')\n",
    "    ax.set_xlabel('Away Team Goals', fontsize=13)\n",
    "    ax.set_ylabel('Home Team Goals', fontsize=13)\n",
    "    ax.xaxis.set_label_position('top')\n",
    "    ax.xaxis.set_ticks_position('top')\n",
    "    plt.figtext(0.45, 0.07, '  BP Probs - DC Probs \\n     Milan v Atalanta', horizontalalignment='center',\n",
    "                fontsize=14, multialignment='left', fontweight='bold')\n",
    "plt.tight_layout()\n",
    "plt.show()"
   ]
  },
  {
   "cell_type": "markdown",
   "id": "345a7e75-890f-4732-8496-27a53f4a0aac",
   "metadata": {},
   "source": [
    "### Heatmap Visualization\n",
    "\n",
    "- The heatmap compares the probabilities of different match outcomes (number of goals scored by each team) as predicted by the Basic Poisson model and the Dixon-Coles model. It subtracts the DC model probabilities from the BP model probabilities for each possible scoreline.\n",
    "- The colors in the heatmap indicate the direction and magnitude of this difference:\n",
    "  - **<font color=\"red\">Reddish Squares</font>**: Indicate outcomes where the BP model predicted a higher probability than the DC model. In this case, the 0-0 and 1-1 outcomes are slightly red, meaning the BP model overestimated the likelihood of these low-scoring draws compared to the DC model.\n",
    "  - **<font color=\"green\">Greenish Squares**: Indicate outcomes where the DC model predicted a higher probability than the BP model. The 0-1 and 1-0 outcomes are slightly green, meaning the DC model gives these one-goal margin outcomes a slightly higher probability than the BP model.\n",
    "\n",
    "In one way, this is a good plot. The correction was only intended to have an effect on 4 specific match results (0-0, 1-0, 0-1 and 1-1) and that's what has happened. On the other hand, that was alot of hard work to essentially tweak the existing model. And that's without even considering whether it was a beneficial adjustment. Without exploring that point any further, I'm going to discuss the second advancement introduced by the DC model."
   ]
  },
  {
   "cell_type": "markdown",
   "id": "586b41fa-31aa-4fe5-a293-4a68bed706b0",
   "metadata": {},
   "source": [
    "## Dixon-Coles Time Decay Model\n",
    "\n",
    "In the 2022/23 English Premier League season, Crystal Palace had a rough start, losing their first seven games, during which they didn't score any goals and conceded 17. This dismal performance was attributed to Ronald De Boer's attempt to shift the team towards a more possession-oriented style of play. However, after Roy Hodgson took over as manager, the team reverted to its traditional counter-attacking approach. This change helped Crystal Palace recover from their poor start, finishing the season in 11th place, a respectable position considering their early struggles.\n",
    "\n",
    "When predicting the outcome of a Crystal Palace match in January 2018, it makes sense to lessen the impact of those early-season losses from August and September 2017. This is where incorporating a time component into the adjusted Poisson model becomes valuable. The challenging aspect is determining the best method to reduce the influence of those earlier games. The Dixon-Coles paper proposes two specific methods for adjusting the weighting of past matches."
   ]
  },
  {
   "cell_type": "code",
   "execution_count": 96,
   "id": "677105ae-3599-4ba2-a60e-0f5c96626cf2",
   "metadata": {},
   "outputs": [
    {
     "data": {
      "image/png": "[encoded data removed]",
      "text/plain": [
       "<Figure size 720x360 with 2 Axes>"
      ]
     },
     "metadata": {
      "needs_background": "light"
     },
     "output_type": "display_data"
    }
   ],
   "source": [
    "fig,(ax1,ax2) = plt.subplots(2, 1, figsize=(10,5))\n",
    "\n",
    "ax1.plot(range(1000), [0 if y >600 else 1 for y in range(1000)], label='Step Function Component', color='#38003c', marker='')\n",
    "ax2.plot(range(1000), np.exp([y*-0.005 for y in range(1000)]), label='Exponential Decay Component 1', color='#07F2F2', marker='')\n",
    "ax2.plot(range(1000), np.exp([y*-0.003 for y in range(1000)]), label='Exponential Decay Component 2', color='#05F26C', marker='')\n",
    "ax2.plot(range(1000), np.exp([y*-0.001 for y in range(1000)]), label='Exponential Decay Component 3', color='#e90052', marker='')\n",
    "\n",
    "ax1.set_ylim([-0.05,1.05])\n",
    "ax2.set_ylim([-0.05,1.05])\n",
    "ax1.set_xlim([-0.5,1000])\n",
    "ax2.set_xlim([-0.5,1000])\n",
    "ax1.set_xticklabels([])\n",
    "ax2.xaxis.set_tick_params(labelsize=12)\n",
    "ax1.yaxis.set_tick_params(labelsize=12)\n",
    "ax2.yaxis.set_tick_params(labelsize=12)\n",
    "ax1.set_title(\"Time Decay Weighting Functions\",size=14,fontweight='bold')\n",
    "ax2.set_xlabel(\"Number of Days Ago\",size=13)\n",
    "ax1.set_ylabel(\"ϕ(t)\",size=13)\n",
    "ax2.set_ylabel(\"ϕ(t)\",size=13)\n",
    "ax1.text(830, 0.5, '1     $t \\leq \\mathregular{t_0}$\\n0     $t > \\mathregular{t_0}$',\n",
    "        verticalalignment='bottom', horizontalalignment='left',\n",
    "        color='black', fontsize=15)\n",
    "ax1.text(800, 0.5, '{',\n",
    "        verticalalignment='bottom', horizontalalignment='left',\n",
    "        color='black', fontsize=44)\n",
    "ax1.text(730, 0.62, 'ϕ(t)  = ',\n",
    "        verticalalignment='bottom', horizontalalignment='left',\n",
    "        color='black', fontsize=15)\n",
    "ax2.text(730, 0.62, 'ϕ(t)  =   exp(−ξt)',\n",
    "        verticalalignment='bottom', horizontalalignment='left',\n",
    "        color='black', fontsize=15)\n",
    "ax2.text(250, 0.8, 'ξ = 0.001',\n",
    "        verticalalignment='bottom', horizontalalignment='left',\n",
    "        color='#e90052', fontsize=15)\n",
    "ax2.text(250, 0.5, 'ξ = 0.003',\n",
    "        verticalalignment='bottom', horizontalalignment='left',\n",
    "        color='#05F26C', fontsize=15)\n",
    "ax2.text(250, 0.0, 'ξ = 0.005',\n",
    "        verticalalignment='bottom', horizontalalignment='left',\n",
    "        color='#07F2F2', fontsize=15)\n",
    "plt.tight_layout()\n",
    "plt.show()"
   ]
  },
  {
   "cell_type": "markdown",
   "id": "16eae3a3-e4a1-4e58-9ce9-2957fc16b073",
   "metadata": {},
   "source": [
    "### Plotting on the First Subplot: Step Function (`ax1`)\n",
    "\n",
    "- The first plot shows a step function that is 1 for `t <= 600` and 0 for `t > 600`. This might represent a scenario where an event has full impact for the first 600 units of time and no impact thereafter.\n",
    "- `ax1.plot(range(1000), [0 if y >600 else 1 for y in range(1000)], label='Component 1', color='#38003c', marker='')` plots this step function across a range of 0 to 999 on the x-axis.\n",
    "\n",
    "### Plotting on the Second Subplot: Exponential Decay Function (`ax2`)\n",
    "\n",
    "- The second subplot displays three exponential decay functions with different decay rates (`ξ = 0.005`, `0.003`, and `0.001`). These functions model how the impact of an event decreases exponentially over time.\n",
    "- Three `ax2.plot(...)` calls draw these exponential functions using different colors to distinguish between the decay rates."
   ]
  },
  {
   "cell_type": "markdown",
   "id": "bd50d028-7fa6-4bb6-9acf-ebdc32a68a88",
   "metadata": {},
   "source": [
    "The Dixon-Coles model introduces two main approaches for adjusting the weight of past matches, enhancing prediction accuracy:\n",
    "\n",
    "1. **Fixed Time Window Approach:** This method considers only the matches within a predefined period, such as the current season.\n",
    "2. **Negative Exponential Weighting:** This approach applies a decreasing weight to matches based on how far back in time they occurred, using a negative exponential function to discount the influence of older matches more heavily.\n",
    "\n",
    "## Mathematical Model\n",
    "\n",
    "The refined model incorporates a time-dependent weighting factor to adjust the influence of past matches, defined as follows:\n",
    "\n",
    "$$\n",
    "L(\\alpha_i, \\beta_i, \\rho, \\gamma, i=1,\\dots,n) = \\prod_{k \\in A_t}\\left\\{\\tau_{\\lambda_k,\\mu_k}(x_k, y_k) \\frac{e^{-\\lambda} \\lambda^{x_k} }{x_k!} \\frac{e^{-\\mu} \\mu^{y_k} }{y_k!}\\right\\}^{\\phi(t-t_k)}\n",
    "$$\n",
    "\n",
    "Where:\n",
    "- $t_k$ is the time when match $k$ was played.\n",
    "- $A_t = \\{k: t_k < t\\}$ represents the set of matches played before time $t$.\n",
    "- $\\alpha$, $\\beta$, and $\\gamma$ are parameters as defined in the original model.\n",
    "- $\\tau$ adjusts for the interaction between attacking and defensive strengths.\n",
    "- $\\phi$ is a non-increasing function that weights matches based on the time elapsed since they were played. Per the Dixon-Coles paper, $\\phi(t)$ is set as a negative exponential function with rate $\\xi$, which controls how past matches are weighted.\n",
    "\n",
    "## Parameter Estimation\n",
    "\n",
    "Optimizing this model involves fixing $\\xi$ and estimating the remaining parameters to maximize the likelihood function. Directly maximizing the likelihood can be impractical for various reasons, including the ease of trivial maximization by simply increasing $\\xi$. Therefore, we use a log-likelihood function, benefiting from the property that $\\log(a^b) = b\\log(a)$. When $\\xi=0$, the model defaults to a standard non-time-weighted log-likelihood function."
   ]
  },
  {
   "cell_type": "code",
   "execution_count": 27,
   "id": "a314deeb-2a95-408e-8397-31754566f411",
   "metadata": {},
   "outputs": [],
   "source": [
    "def dc_log_like_decay(x, y, alpha_x, beta_x, alpha_y, beta_y, rho, gamma, t, xi=0):\n",
    "    lambda_x, mu_y = np.exp(alpha_x + beta_y + gamma), np.exp(alpha_y + beta_x) \n",
    "    return  np.exp(-xi*t) * (np.log(rho_correction(x, y, lambda_x, mu_y, rho)) + \n",
    "                              np.log(poisson.pmf(x, lambda_x)) + np.log(poisson.pmf(y, mu_y)))"
   ]
  },
  {
   "cell_type": "markdown",
   "id": "7a5525ad-cce0-4792-8f55-4be22be9f90a",
   "metadata": {},
   "source": [
    "## Optimizing the Time Decay Parameter $(\\xi)$\n",
    "\n",
    "The goal is to identify the optimal value of $(\\xi)$ that enhances the predictive accuracy of the model, focusing on the actual match results rather than just the scores. The model's effectiveness is measured by its ability to predict match outcomes (home win, draw, away win) with the highest probability.\n",
    "\n",
    "### Methodology\n",
    "\n",
    "To achieve this, we employ a criterion that assesses predictions based on the likelihood of the observed match outcomes. This is formalized as maximizing the sum $(S(\\xi))$:\n",
    "\n",
    "$$\n",
    "S(\\xi) = \\sum^{N}_{k=1} (\\delta^{H}_{k} \\log p^{H}_{k} + \\delta^{A}_{k} \\log p^{A}_{k} + \\delta^{D}_{k} \\log p^{D}_{k})\n",
    "$$\n",
    "\n",
    "In this equation:\n",
    "- $(\\delta^{H}_{k}, \\delta^{A}_{k}, \\delta^{D}_{k})$ indicate whether the match $(k)$ resulted in a home win, away win, or draw, respectively (1 if true, 0 otherwise).\n",
    "- $(p^{H}_{k}, p^{A}_{k}, p^{D}_{k})$ represent the probabilities of each match outcome (home win, away win, draw).\n",
    "\n",
    "For instance, the probability of a home win ($(p^{H}_{k})$) is calculated as the sum of probabilities for all score combinations where the home team scores more than the away team:\n",
    "\n",
    "$$\n",
    "p^{H}_{k} = \\sum_{l,m \\in B_H} P(X_k = l, Y_k = m), \\text{where } B_H = \\{(l,m): l>m\\}\n",
    "$$\n",
    "\n",
    "### Predictive Accuracy Assessment\n",
    "\n",
    "To assess the model's accuracy:\n",
    "1. A validation set approach is used, analogous to machine learning, selecting fixtures (e.g., on the 13th January 2023) and predicting their outcomes based on all prior season results.\n",
    "2. The model is updated and reassessed for each subsequent set of fixtures, including newly played matches in the model's data.\n",
    "3. This iterative process is repeated throughout the season, summing up the predictions to calculate the predicted profile log-likelihood for the given $(\\xi)$.\n",
    "\n",
    "### Computational Efficiency\n",
    "\n",
    "To expedite computations:\n",
    "1. Focus is placed on predicting fixtures in the last 100 days of the 2022/23 Serie A season to avoid unreliable early-season predictions.\n",
    "2. Match days are grouped into sets of three consecutive days to minimize the frequency of model updates, considering the typical scheduling of matches."
   ]
  },
  {
   "cell_type": "markdown",
   "id": "439d178a-16b7-4a6e-92c9-d4b545342940",
   "metadata": {},
   "source": [
    "We need to make some slight adjustments to the `sa_2223` dataframe to include columns that represent the number of days since the completion of that fixture as well as the match result (home, away or draw)."
   ]
  },
  {
   "cell_type": "code",
   "execution_count": 28,
   "id": "a446f2cd-8a17-4d21-8906-f0f8e56b0418",
   "metadata": {},
   "outputs": [
    {
     "data": {
      "text/html": [
       "<div>\n",
       "<style scoped>\n",
       "    .dataframe tbody tr th:only-of-type {\n",
       "        vertical-align: middle;\n",
       "    }\n",
       "\n",
       "    .dataframe tbody tr th {\n",
       "        vertical-align: top;\n",
       "    }\n",
       "\n",
       "    .dataframe thead th {\n",
       "        text-align: right;\n",
       "    }\n",
       "</style>\n",
       "<table border=\"1\" class=\"dataframe\">\n",
       "  <thead>\n",
       "    <tr style=\"text-align: right;\">\n",
       "      <th></th>\n",
       "      <th>HomeTeam</th>\n",
       "      <th>AwayTeam</th>\n",
       "      <th>HomeGoals</th>\n",
       "      <th>AwayGoals</th>\n",
       "      <th>FTR</th>\n",
       "      <th>time_diff</th>\n",
       "    </tr>\n",
       "  </thead>\n",
       "  <tbody>\n",
       "    <tr>\n",
       "      <th>0</th>\n",
       "      <td>Milan</td>\n",
       "      <td>Udinese</td>\n",
       "      <td>4</td>\n",
       "      <td>2</td>\n",
       "      <td>H</td>\n",
       "      <td>295</td>\n",
       "    </tr>\n",
       "    <tr>\n",
       "      <th>1</th>\n",
       "      <td>Sampdoria</td>\n",
       "      <td>Atalanta</td>\n",
       "      <td>0</td>\n",
       "      <td>2</td>\n",
       "      <td>A</td>\n",
       "      <td>295</td>\n",
       "    </tr>\n",
       "    <tr>\n",
       "      <th>2</th>\n",
       "      <td>Lecce</td>\n",
       "      <td>Inter</td>\n",
       "      <td>1</td>\n",
       "      <td>2</td>\n",
       "      <td>A</td>\n",
       "      <td>295</td>\n",
       "    </tr>\n",
       "    <tr>\n",
       "      <th>3</th>\n",
       "      <td>Monza</td>\n",
       "      <td>Torino</td>\n",
       "      <td>1</td>\n",
       "      <td>2</td>\n",
       "      <td>A</td>\n",
       "      <td>295</td>\n",
       "    </tr>\n",
       "    <tr>\n",
       "      <th>4</th>\n",
       "      <td>Fiorentina</td>\n",
       "      <td>Cremonese</td>\n",
       "      <td>3</td>\n",
       "      <td>2</td>\n",
       "      <td>H</td>\n",
       "      <td>294</td>\n",
       "    </tr>\n",
       "  </tbody>\n",
       "</table>\n",
       "</div>"
      ],
      "text/plain": [
       "     HomeTeam   AwayTeam  HomeGoals  AwayGoals FTR  time_diff\n",
       "0       Milan    Udinese          4          2   H        295\n",
       "1   Sampdoria   Atalanta          0          2   A        295\n",
       "2       Lecce      Inter          1          2   A        295\n",
       "3       Monza     Torino          1          2   A        295\n",
       "4  Fiorentina  Cremonese          3          2   H        294"
      ]
     },
     "execution_count": 28,
     "metadata": {},
     "output_type": "execute_result"
    }
   ],
   "source": [
    "sa_2223 = pd.read_csv(\"https://www.football-data.co.uk/mmz4281/2223/I1.csv\")\n",
    "sa_2223['Date'] = pd.to_datetime(sa_2223['Date'],  format='%d/%m/%Y')\n",
    "sa_2223['time_diff'] = (max(sa_2223['Date']) - sa_2223['Date']).dt.days\n",
    "sa_2223 = sa_2223[['HomeTeam','AwayTeam','FTHG','FTAG', 'FTR', 'time_diff']]\n",
    "sa_2223 = sa_2223.rename(columns={'FTHG': 'HomeGoals', 'FTAG': 'AwayGoals'})\n",
    "sa_2223.head()"
   ]
  },
  {
   "cell_type": "markdown",
   "id": "ea98d955-3fe5-43e3-9b1c-48bfbdb24494",
   "metadata": {},
   "source": [
    "The code calculates the `time_diff` column, representing the number of days between each match date and the most recent match in the dataset. This is useful for analyses that consider how recent a match is.\n",
    "\n",
    "- The DataFrame is then filtered to include only the columns of interest (`HomeTeam`, `AwayTeam`, `HomeGoals`, `AwayGoals`, `FTR`, and `time_diff`) and renames `FTHG` and `FTAG` to `HomeGoals` and `AwayGoals`, respectively, for clarity."
   ]
  },
  {
   "cell_type": "markdown",
   "id": "0d88cbc0-f907-487f-9fb9-eeff046e564b",
   "metadata": {},
   "source": [
    "With this dataframe, we're now ready to compare different values of $\\xi$. To speed up this process even further, I made the code parallelisable and ran it across my computer's multiple (4) cores (see [Python file](https://github.com/dashee87/blogScripts/blob/master/Python/2018-09-13-dixon-coles-and-time-weighting/dixon_coles_decay_xi_1season.py))."
   ]
  },
  {
   "cell_type": "markdown",
   "id": "a15adbfd-c2d7-4344-85a7-38749bb43852",
   "metadata": {},
   "source": [
    "Here's an example of how you would build a model for a given value of $\\xi$."
   ]
  },
  {
   "cell_type": "code",
   "execution_count": 34,
   "id": "a15c0d6c-1ace-478d-ab0f-e984d76bc629",
   "metadata": {},
   "outputs": [],
   "source": [
    "def solve_parameters_decay(dataset, xi=0.001, debug = False, init_vals=None, options={'disp': True, 'maxiter':100},\n",
    "                     constraints = [{'type':'eq', 'fun': lambda x: sum(x[:20])-20}] , **kwargs):\n",
    "    teams = np.sort(dataset['HomeTeam'].unique())\n",
    "    # check for no weirdness in dataset\n",
    "    away_teams = np.sort(dataset['AwayTeam'].unique())\n",
    "    if not np.array_equal(teams, away_teams):\n",
    "        raise ValueError(\"something not right\")\n",
    "    n_teams = len(teams)\n",
    "    if init_vals is None:\n",
    "        # random initialisation of model parameters\n",
    "        init_vals = np.concatenate((np.random.uniform(0,1,(n_teams)), # attack strength\n",
    "                                      np.random.uniform(0,-1,(n_teams)), # defence strength\n",
    "                                      np.array([0,1.0]) # rho (score correction), gamma (home advantage)\n",
    "                                     ))\n",
    "        \n",
    "    def dc_log_like_decay(x, y, alpha_x, beta_x, alpha_y, beta_y, rho, gamma, t, xi=xi):\n",
    "        lambda_x, mu_y = np.exp(alpha_x + beta_y + gamma), np.exp(alpha_y + beta_x) \n",
    "        return  np.exp(-xi*t) * (np.log(rho_correction(x, y, lambda_x, mu_y, rho)) + \n",
    "                                  np.log(poisson.pmf(x, lambda_x)) + np.log(poisson.pmf(y, mu_y)))\n",
    "\n",
    "    def estimate_paramters(params):\n",
    "        score_coefs = dict(zip(teams, params[:n_teams]))\n",
    "        defend_coefs = dict(zip(teams, params[n_teams:(2*n_teams)]))\n",
    "        rho, gamma = params[-2:]\n",
    "        log_like = [dc_log_like_decay(row.HomeGoals, row.AwayGoals, score_coefs[row.HomeTeam], defend_coefs[row.HomeTeam],\n",
    "                                      score_coefs[row.AwayTeam], defend_coefs[row.AwayTeam], \n",
    "                                      rho, gamma, row.time_diff, xi=xi) for row in dataset.itertuples()]\n",
    "        return -sum(log_like)\n",
    "    opt_output = minimize(estimate_paramters, init_vals, options=options, constraints = constraints)\n",
    "    if debug:\n",
    "        # sort of hacky way to investigate the output of the optimisation process\n",
    "        return opt_output\n",
    "    else:\n",
    "        return dict(zip([\"attack_\"+team for team in teams] + \n",
    "                        [\"defence_\"+team for team in teams] +\n",
    "                        ['rho', 'home_adv'],\n",
    "                        opt_output.x)) "
   ]
  },
  {
   "cell_type": "code",
   "execution_count": 8,
   "id": "a4d27d8f-2b5c-4576-a5d1-bef83feeff29",
   "metadata": {
    "collapsed": true,
    "jupyter": {
     "outputs_hidden": true
    }
   },
   "outputs": [
    {
     "ename": "NameError",
     "evalue": "name 'rho_correction' is not defined",
     "output_type": "error",
     "traceback": [
      "\u001b[0;31m---------------------------------------------------------------------------\u001b[0m",
      "\u001b[0;31mNameError\u001b[0m                                 Traceback (most recent call last)",
      "\u001b[0;32m/var/folders/p6/h_lrqd2j2s928n737d4n28s80000gn/T/ipykernel_31658/3493296130.py\u001b[0m in \u001b[0;36m<module>\u001b[0;34m\u001b[0m\n\u001b[0;32m----> 1\u001b[0;31m \u001b[0mparams_xi\u001b[0m\u001b[0;34m=\u001b[0m \u001b[0msolve_parameters_decay\u001b[0m\u001b[0;34m(\u001b[0m\u001b[0msa_2223\u001b[0m\u001b[0;34m,\u001b[0m \u001b[0mxi\u001b[0m\u001b[0;34m=\u001b[0m\u001b[0;36m0.0018\u001b[0m\u001b[0;34m)\u001b[0m\u001b[0;34m\u001b[0m\u001b[0;34m\u001b[0m\u001b[0m\n\u001b[0m",
      "\u001b[0;32m/var/folders/p6/h_lrqd2j2s928n737d4n28s80000gn/T/ipykernel_31658/1602507443.py\u001b[0m in \u001b[0;36msolve_parameters_decay\u001b[0;34m(dataset, xi, debug, init_vals, options, constraints, **kwargs)\u001b[0m\n\u001b[1;32m     27\u001b[0m                                       rho, gamma, row.time_diff, xi=xi) for row in dataset.itertuples()]\n\u001b[1;32m     28\u001b[0m         \u001b[0;32mreturn\u001b[0m \u001b[0;34m-\u001b[0m\u001b[0msum\u001b[0m\u001b[0;34m(\u001b[0m\u001b[0mlog_like\u001b[0m\u001b[0;34m)\u001b[0m\u001b[0;34m\u001b[0m\u001b[0;34m\u001b[0m\u001b[0m\n\u001b[0;32m---> 29\u001b[0;31m     \u001b[0mopt_output\u001b[0m \u001b[0;34m=\u001b[0m \u001b[0mminimize\u001b[0m\u001b[0;34m(\u001b[0m\u001b[0mestimate_paramters\u001b[0m\u001b[0;34m,\u001b[0m \u001b[0minit_vals\u001b[0m\u001b[0;34m,\u001b[0m \u001b[0moptions\u001b[0m\u001b[0;34m=\u001b[0m\u001b[0moptions\u001b[0m\u001b[0;34m,\u001b[0m \u001b[0mconstraints\u001b[0m \u001b[0;34m=\u001b[0m \u001b[0mconstraints\u001b[0m\u001b[0;34m)\u001b[0m\u001b[0;34m\u001b[0m\u001b[0;34m\u001b[0m\u001b[0m\n\u001b[0m\u001b[1;32m     30\u001b[0m     \u001b[0;32mif\u001b[0m \u001b[0mdebug\u001b[0m\u001b[0;34m:\u001b[0m\u001b[0;34m\u001b[0m\u001b[0;34m\u001b[0m\u001b[0m\n\u001b[1;32m     31\u001b[0m         \u001b[0;31m# sort of hacky way to investigate the output of the optimisation process\u001b[0m\u001b[0;34m\u001b[0m\u001b[0;34m\u001b[0m\u001b[0m\n",
      "\u001b[0;32m~/opt/miniconda3/lib/python3.9/site-packages/scipy/optimize/_minimize.py\u001b[0m in \u001b[0;36mminimize\u001b[0;34m(fun, x0, args, method, jac, hess, hessp, bounds, constraints, tol, callback, options)\u001b[0m\n\u001b[1;32m    720\u001b[0m                                bounds=bounds, **options)\n\u001b[1;32m    721\u001b[0m     \u001b[0;32melif\u001b[0m \u001b[0mmeth\u001b[0m \u001b[0;34m==\u001b[0m \u001b[0;34m'slsqp'\u001b[0m\u001b[0;34m:\u001b[0m\u001b[0;34m\u001b[0m\u001b[0;34m\u001b[0m\u001b[0m\n\u001b[0;32m--> 722\u001b[0;31m         res = _minimize_slsqp(fun, x0, args, jac, bounds,\n\u001b[0m\u001b[1;32m    723\u001b[0m                               constraints, callback=callback, **options)\n\u001b[1;32m    724\u001b[0m     \u001b[0;32melif\u001b[0m \u001b[0mmeth\u001b[0m \u001b[0;34m==\u001b[0m \u001b[0;34m'trust-constr'\u001b[0m\u001b[0;34m:\u001b[0m\u001b[0;34m\u001b[0m\u001b[0;34m\u001b[0m\u001b[0m\n",
      "\u001b[0;32m~/opt/miniconda3/lib/python3.9/site-packages/scipy/optimize/_slsqp_py.py\u001b[0m in \u001b[0;36m_minimize_slsqp\u001b[0;34m(func, x0, args, jac, bounds, constraints, maxiter, ftol, iprint, disp, eps, callback, finite_diff_rel_step, **unknown_options)\u001b[0m\n\u001b[1;32m    381\u001b[0m \u001b[0;34m\u001b[0m\u001b[0m\n\u001b[1;32m    382\u001b[0m     \u001b[0;31m# ScalarFunction provides function and gradient evaluation\u001b[0m\u001b[0;34m\u001b[0m\u001b[0;34m\u001b[0m\u001b[0m\n\u001b[0;32m--> 383\u001b[0;31m     sf = _prepare_scalar_function(func, x, jac=jac, args=args, epsilon=eps,\n\u001b[0m\u001b[1;32m    384\u001b[0m                                   \u001b[0mfinite_diff_rel_step\u001b[0m\u001b[0;34m=\u001b[0m\u001b[0mfinite_diff_rel_step\u001b[0m\u001b[0;34m,\u001b[0m\u001b[0;34m\u001b[0m\u001b[0;34m\u001b[0m\u001b[0m\n\u001b[1;32m    385\u001b[0m                                   bounds=new_bounds)\n",
      "\u001b[0;32m~/opt/miniconda3/lib/python3.9/site-packages/scipy/optimize/_optimize.py\u001b[0m in \u001b[0;36m_prepare_scalar_function\u001b[0;34m(fun, x0, jac, args, bounds, epsilon, finite_diff_rel_step, hess)\u001b[0m\n\u001b[1;32m    400\u001b[0m     \u001b[0;31m# ScalarFunction caches. Reuse of fun(x) during grad\u001b[0m\u001b[0;34m\u001b[0m\u001b[0;34m\u001b[0m\u001b[0m\n\u001b[1;32m    401\u001b[0m     \u001b[0;31m# calculation reduces overall function evaluations.\u001b[0m\u001b[0;34m\u001b[0m\u001b[0;34m\u001b[0m\u001b[0m\n\u001b[0;32m--> 402\u001b[0;31m     sf = ScalarFunction(fun, x0, args, grad, hess,\n\u001b[0m\u001b[1;32m    403\u001b[0m                         finite_diff_rel_step, bounds, epsilon=epsilon)\n\u001b[1;32m    404\u001b[0m \u001b[0;34m\u001b[0m\u001b[0m\n",
      "\u001b[0;32m~/opt/miniconda3/lib/python3.9/site-packages/scipy/optimize/_differentiable_functions.py\u001b[0m in \u001b[0;36m__init__\u001b[0;34m(self, fun, x0, args, grad, hess, finite_diff_rel_step, finite_diff_bounds, epsilon)\u001b[0m\n\u001b[1;32m    164\u001b[0m \u001b[0;34m\u001b[0m\u001b[0m\n\u001b[1;32m    165\u001b[0m         \u001b[0mself\u001b[0m\u001b[0;34m.\u001b[0m\u001b[0m_update_fun_impl\u001b[0m \u001b[0;34m=\u001b[0m \u001b[0mupdate_fun\u001b[0m\u001b[0;34m\u001b[0m\u001b[0;34m\u001b[0m\u001b[0m\n\u001b[0;32m--> 166\u001b[0;31m         \u001b[0mself\u001b[0m\u001b[0;34m.\u001b[0m\u001b[0m_update_fun\u001b[0m\u001b[0;34m(\u001b[0m\u001b[0;34m)\u001b[0m\u001b[0;34m\u001b[0m\u001b[0;34m\u001b[0m\u001b[0m\n\u001b[0m\u001b[1;32m    167\u001b[0m \u001b[0;34m\u001b[0m\u001b[0m\n\u001b[1;32m    168\u001b[0m         \u001b[0;31m# Gradient evaluation\u001b[0m\u001b[0;34m\u001b[0m\u001b[0;34m\u001b[0m\u001b[0m\n",
      "\u001b[0;32m~/opt/miniconda3/lib/python3.9/site-packages/scipy/optimize/_differentiable_functions.py\u001b[0m in \u001b[0;36m_update_fun\u001b[0;34m(self)\u001b[0m\n\u001b[1;32m    260\u001b[0m     \u001b[0;32mdef\u001b[0m \u001b[0m_update_fun\u001b[0m\u001b[0;34m(\u001b[0m\u001b[0mself\u001b[0m\u001b[0;34m)\u001b[0m\u001b[0;34m:\u001b[0m\u001b[0;34m\u001b[0m\u001b[0;34m\u001b[0m\u001b[0m\n\u001b[1;32m    261\u001b[0m         \u001b[0;32mif\u001b[0m \u001b[0;32mnot\u001b[0m \u001b[0mself\u001b[0m\u001b[0;34m.\u001b[0m\u001b[0mf_updated\u001b[0m\u001b[0;34m:\u001b[0m\u001b[0;34m\u001b[0m\u001b[0;34m\u001b[0m\u001b[0m\n\u001b[0;32m--> 262\u001b[0;31m             \u001b[0mself\u001b[0m\u001b[0;34m.\u001b[0m\u001b[0m_update_fun_impl\u001b[0m\u001b[0;34m(\u001b[0m\u001b[0;34m)\u001b[0m\u001b[0;34m\u001b[0m\u001b[0;34m\u001b[0m\u001b[0m\n\u001b[0m\u001b[1;32m    263\u001b[0m             \u001b[0mself\u001b[0m\u001b[0;34m.\u001b[0m\u001b[0mf_updated\u001b[0m \u001b[0;34m=\u001b[0m \u001b[0;32mTrue\u001b[0m\u001b[0;34m\u001b[0m\u001b[0;34m\u001b[0m\u001b[0m\n\u001b[1;32m    264\u001b[0m \u001b[0;34m\u001b[0m\u001b[0m\n",
      "\u001b[0;32m~/opt/miniconda3/lib/python3.9/site-packages/scipy/optimize/_differentiable_functions.py\u001b[0m in \u001b[0;36mupdate_fun\u001b[0;34m()\u001b[0m\n\u001b[1;32m    161\u001b[0m \u001b[0;34m\u001b[0m\u001b[0m\n\u001b[1;32m    162\u001b[0m         \u001b[0;32mdef\u001b[0m \u001b[0mupdate_fun\u001b[0m\u001b[0;34m(\u001b[0m\u001b[0;34m)\u001b[0m\u001b[0;34m:\u001b[0m\u001b[0;34m\u001b[0m\u001b[0;34m\u001b[0m\u001b[0m\n\u001b[0;32m--> 163\u001b[0;31m             \u001b[0mself\u001b[0m\u001b[0;34m.\u001b[0m\u001b[0mf\u001b[0m \u001b[0;34m=\u001b[0m \u001b[0mfun_wrapped\u001b[0m\u001b[0;34m(\u001b[0m\u001b[0mself\u001b[0m\u001b[0;34m.\u001b[0m\u001b[0mx\u001b[0m\u001b[0;34m)\u001b[0m\u001b[0;34m\u001b[0m\u001b[0;34m\u001b[0m\u001b[0m\n\u001b[0m\u001b[1;32m    164\u001b[0m \u001b[0;34m\u001b[0m\u001b[0m\n\u001b[1;32m    165\u001b[0m         \u001b[0mself\u001b[0m\u001b[0;34m.\u001b[0m\u001b[0m_update_fun_impl\u001b[0m \u001b[0;34m=\u001b[0m \u001b[0mupdate_fun\u001b[0m\u001b[0;34m\u001b[0m\u001b[0;34m\u001b[0m\u001b[0m\n",
      "\u001b[0;32m~/opt/miniconda3/lib/python3.9/site-packages/scipy/optimize/_differentiable_functions.py\u001b[0m in \u001b[0;36mfun_wrapped\u001b[0;34m(x)\u001b[0m\n\u001b[1;32m    143\u001b[0m             \u001b[0;31m# Overwriting results in undefined behaviour because\u001b[0m\u001b[0;34m\u001b[0m\u001b[0;34m\u001b[0m\u001b[0m\n\u001b[1;32m    144\u001b[0m             \u001b[0;31m# fun(self.x) will change self.x, with the two no longer linked.\u001b[0m\u001b[0;34m\u001b[0m\u001b[0;34m\u001b[0m\u001b[0m\n\u001b[0;32m--> 145\u001b[0;31m             \u001b[0mfx\u001b[0m \u001b[0;34m=\u001b[0m \u001b[0mfun\u001b[0m\u001b[0;34m(\u001b[0m\u001b[0mnp\u001b[0m\u001b[0;34m.\u001b[0m\u001b[0mcopy\u001b[0m\u001b[0;34m(\u001b[0m\u001b[0mx\u001b[0m\u001b[0;34m)\u001b[0m\u001b[0;34m,\u001b[0m \u001b[0;34m*\u001b[0m\u001b[0margs\u001b[0m\u001b[0;34m)\u001b[0m\u001b[0;34m\u001b[0m\u001b[0;34m\u001b[0m\u001b[0m\n\u001b[0m\u001b[1;32m    146\u001b[0m             \u001b[0;31m# Make sure the function returns a true scalar\u001b[0m\u001b[0;34m\u001b[0m\u001b[0;34m\u001b[0m\u001b[0m\n\u001b[1;32m    147\u001b[0m             \u001b[0;32mif\u001b[0m \u001b[0;32mnot\u001b[0m \u001b[0mnp\u001b[0m\u001b[0;34m.\u001b[0m\u001b[0misscalar\u001b[0m\u001b[0;34m(\u001b[0m\u001b[0mfx\u001b[0m\u001b[0;34m)\u001b[0m\u001b[0;34m:\u001b[0m\u001b[0;34m\u001b[0m\u001b[0;34m\u001b[0m\u001b[0m\n",
      "\u001b[0;32m/var/folders/p6/h_lrqd2j2s928n737d4n28s80000gn/T/ipykernel_31658/1602507443.py\u001b[0m in \u001b[0;36mestimate_paramters\u001b[0;34m(params)\u001b[0m\n\u001b[1;32m     23\u001b[0m         \u001b[0mdefend_coefs\u001b[0m \u001b[0;34m=\u001b[0m \u001b[0mdict\u001b[0m\u001b[0;34m(\u001b[0m\u001b[0mzip\u001b[0m\u001b[0;34m(\u001b[0m\u001b[0mteams\u001b[0m\u001b[0;34m,\u001b[0m \u001b[0mparams\u001b[0m\u001b[0;34m[\u001b[0m\u001b[0mn_teams\u001b[0m\u001b[0;34m:\u001b[0m\u001b[0;34m(\u001b[0m\u001b[0;36m2\u001b[0m\u001b[0;34m*\u001b[0m\u001b[0mn_teams\u001b[0m\u001b[0;34m)\u001b[0m\u001b[0;34m]\u001b[0m\u001b[0;34m)\u001b[0m\u001b[0;34m)\u001b[0m\u001b[0;34m\u001b[0m\u001b[0;34m\u001b[0m\u001b[0m\n\u001b[1;32m     24\u001b[0m         \u001b[0mrho\u001b[0m\u001b[0;34m,\u001b[0m \u001b[0mgamma\u001b[0m \u001b[0;34m=\u001b[0m \u001b[0mparams\u001b[0m\u001b[0;34m[\u001b[0m\u001b[0;34m-\u001b[0m\u001b[0;36m2\u001b[0m\u001b[0;34m:\u001b[0m\u001b[0;34m]\u001b[0m\u001b[0;34m\u001b[0m\u001b[0;34m\u001b[0m\u001b[0m\n\u001b[0;32m---> 25\u001b[0;31m         log_like = [dc_log_like_decay(row.HomeGoals, row.AwayGoals, score_coefs[row.HomeTeam], defend_coefs[row.HomeTeam],\n\u001b[0m\u001b[1;32m     26\u001b[0m                                       \u001b[0mscore_coefs\u001b[0m\u001b[0;34m[\u001b[0m\u001b[0mrow\u001b[0m\u001b[0;34m.\u001b[0m\u001b[0mAwayTeam\u001b[0m\u001b[0;34m]\u001b[0m\u001b[0;34m,\u001b[0m \u001b[0mdefend_coefs\u001b[0m\u001b[0;34m[\u001b[0m\u001b[0mrow\u001b[0m\u001b[0;34m.\u001b[0m\u001b[0mAwayTeam\u001b[0m\u001b[0;34m]\u001b[0m\u001b[0;34m,\u001b[0m\u001b[0;34m\u001b[0m\u001b[0;34m\u001b[0m\u001b[0m\n\u001b[1;32m     27\u001b[0m                                       rho, gamma, row.time_diff, xi=xi) for row in dataset.itertuples()]\n",
      "\u001b[0;32m/var/folders/p6/h_lrqd2j2s928n737d4n28s80000gn/T/ipykernel_31658/1602507443.py\u001b[0m in \u001b[0;36m<listcomp>\u001b[0;34m(.0)\u001b[0m\n\u001b[1;32m     23\u001b[0m         \u001b[0mdefend_coefs\u001b[0m \u001b[0;34m=\u001b[0m \u001b[0mdict\u001b[0m\u001b[0;34m(\u001b[0m\u001b[0mzip\u001b[0m\u001b[0;34m(\u001b[0m\u001b[0mteams\u001b[0m\u001b[0;34m,\u001b[0m \u001b[0mparams\u001b[0m\u001b[0;34m[\u001b[0m\u001b[0mn_teams\u001b[0m\u001b[0;34m:\u001b[0m\u001b[0;34m(\u001b[0m\u001b[0;36m2\u001b[0m\u001b[0;34m*\u001b[0m\u001b[0mn_teams\u001b[0m\u001b[0;34m)\u001b[0m\u001b[0;34m]\u001b[0m\u001b[0;34m)\u001b[0m\u001b[0;34m)\u001b[0m\u001b[0;34m\u001b[0m\u001b[0;34m\u001b[0m\u001b[0m\n\u001b[1;32m     24\u001b[0m         \u001b[0mrho\u001b[0m\u001b[0;34m,\u001b[0m \u001b[0mgamma\u001b[0m \u001b[0;34m=\u001b[0m \u001b[0mparams\u001b[0m\u001b[0;34m[\u001b[0m\u001b[0;34m-\u001b[0m\u001b[0;36m2\u001b[0m\u001b[0;34m:\u001b[0m\u001b[0;34m]\u001b[0m\u001b[0;34m\u001b[0m\u001b[0;34m\u001b[0m\u001b[0m\n\u001b[0;32m---> 25\u001b[0;31m         log_like = [dc_log_like_decay(row.HomeGoals, row.AwayGoals, score_coefs[row.HomeTeam], defend_coefs[row.HomeTeam],\n\u001b[0m\u001b[1;32m     26\u001b[0m                                       \u001b[0mscore_coefs\u001b[0m\u001b[0;34m[\u001b[0m\u001b[0mrow\u001b[0m\u001b[0;34m.\u001b[0m\u001b[0mAwayTeam\u001b[0m\u001b[0;34m]\u001b[0m\u001b[0;34m,\u001b[0m \u001b[0mdefend_coefs\u001b[0m\u001b[0;34m[\u001b[0m\u001b[0mrow\u001b[0m\u001b[0;34m.\u001b[0m\u001b[0mAwayTeam\u001b[0m\u001b[0;34m]\u001b[0m\u001b[0;34m,\u001b[0m\u001b[0;34m\u001b[0m\u001b[0;34m\u001b[0m\u001b[0m\n\u001b[1;32m     27\u001b[0m                                       rho, gamma, row.time_diff, xi=xi) for row in dataset.itertuples()]\n",
      "\u001b[0;32m/var/folders/p6/h_lrqd2j2s928n737d4n28s80000gn/T/ipykernel_31658/1602507443.py\u001b[0m in \u001b[0;36mdc_log_like_decay\u001b[0;34m(x, y, alpha_x, beta_x, alpha_y, beta_y, rho, gamma, t, xi)\u001b[0m\n\u001b[1;32m     16\u001b[0m     \u001b[0;32mdef\u001b[0m \u001b[0mdc_log_like_decay\u001b[0m\u001b[0;34m(\u001b[0m\u001b[0mx\u001b[0m\u001b[0;34m,\u001b[0m \u001b[0my\u001b[0m\u001b[0;34m,\u001b[0m \u001b[0malpha_x\u001b[0m\u001b[0;34m,\u001b[0m \u001b[0mbeta_x\u001b[0m\u001b[0;34m,\u001b[0m \u001b[0malpha_y\u001b[0m\u001b[0;34m,\u001b[0m \u001b[0mbeta_y\u001b[0m\u001b[0;34m,\u001b[0m \u001b[0mrho\u001b[0m\u001b[0;34m,\u001b[0m \u001b[0mgamma\u001b[0m\u001b[0;34m,\u001b[0m \u001b[0mt\u001b[0m\u001b[0;34m,\u001b[0m \u001b[0mxi\u001b[0m\u001b[0;34m=\u001b[0m\u001b[0mxi\u001b[0m\u001b[0;34m)\u001b[0m\u001b[0;34m:\u001b[0m\u001b[0;34m\u001b[0m\u001b[0;34m\u001b[0m\u001b[0m\n\u001b[1;32m     17\u001b[0m         \u001b[0mlambda_x\u001b[0m\u001b[0;34m,\u001b[0m \u001b[0mmu_y\u001b[0m \u001b[0;34m=\u001b[0m \u001b[0mnp\u001b[0m\u001b[0;34m.\u001b[0m\u001b[0mexp\u001b[0m\u001b[0;34m(\u001b[0m\u001b[0malpha_x\u001b[0m \u001b[0;34m+\u001b[0m \u001b[0mbeta_y\u001b[0m \u001b[0;34m+\u001b[0m \u001b[0mgamma\u001b[0m\u001b[0;34m)\u001b[0m\u001b[0;34m,\u001b[0m \u001b[0mnp\u001b[0m\u001b[0;34m.\u001b[0m\u001b[0mexp\u001b[0m\u001b[0;34m(\u001b[0m\u001b[0malpha_y\u001b[0m \u001b[0;34m+\u001b[0m \u001b[0mbeta_x\u001b[0m\u001b[0;34m)\u001b[0m\u001b[0;34m\u001b[0m\u001b[0;34m\u001b[0m\u001b[0m\n\u001b[0;32m---> 18\u001b[0;31m         return  np.exp(-xi*t) * (np.log(rho_correction(x, y, lambda_x, mu_y, rho)) + \n\u001b[0m\u001b[1;32m     19\u001b[0m                                   np.log(poisson.pmf(x, lambda_x)) + np.log(poisson.pmf(y, mu_y)))\n\u001b[1;32m     20\u001b[0m \u001b[0;34m\u001b[0m\u001b[0m\n",
      "\u001b[0;31mNameError\u001b[0m: name 'rho_correction' is not defined"
     ]
    }
   ],
   "source": [
    "params_xi= solve_parameters_decay(sa_2223, xi=0.0018)"
   ]
  },
  {
   "cell_type": "code",
   "execution_count": 9,
   "id": "dea00882-14b7-414a-9d1c-e28949365136",
   "metadata": {
    "scrolled": true
   },
   "outputs": [
    {
     "ename": "NameError",
     "evalue": "name 'params_xi' is not defined",
     "output_type": "error",
     "traceback": [
      "\u001b[0;31m---------------------------------------------------------------------------\u001b[0m",
      "\u001b[0;31mNameError\u001b[0m                                 Traceback (most recent call last)",
      "\u001b[0;32m/var/folders/p6/h_lrqd2j2s928n737d4n28s80000gn/T/ipykernel_31658/2736268082.py\u001b[0m in \u001b[0;36m<module>\u001b[0;34m\u001b[0m\n\u001b[0;32m----> 1\u001b[0;31m \u001b[0mparams_xi\u001b[0m\u001b[0;34m\u001b[0m\u001b[0;34m\u001b[0m\u001b[0m\n\u001b[0m",
      "\u001b[0;31mNameError\u001b[0m: name 'params_xi' is not defined"
     ]
    }
   ],
   "source": [
    "params_xi"
   ]
  },
  {
   "cell_type": "markdown",
   "id": "b81f052d-1513-4c3b-8f56-30afa85df02c",
   "metadata": {},
   "source": [
    "This Python code is designed to evaluate the performance of a time-decaying football match prediction model across different values of the decay parameter, `xi`. It aims to find the optimal `xi` value that maximizes the predictive accuracy of the model over a dataset containing Serie A matches for the 2022/2023 season. The code performs the following steps:"
   ]
  },
  {
   "cell_type": "code",
   "execution_count": 33,
   "id": "41034e4a-4e59-486c-a687-97c9496343c5",
   "metadata": {},
   "outputs": [],
   "source": [
    "def get_1x2_probs(match_score_matrix):\n",
    "    return dict({\"H\":np.sum(np.tril(match_score_matrix, -1)), \n",
    "                 \"A\":np.sum(np.triu(match_score_matrix, 1)), \"D\":np.sum(np.diag(match_score_matrix))})\n",
    "    \n",
    "# Wrap np.log calls to handle 0 or negative inputs safely\n",
    "def safe_log(x):\n",
    "    return np.log(x + 1e-10)  # Adding a small constant to avoid log(0)\n",
    "\n",
    "def build_temp_model(dataset, time_diff, xi=0.000, init_params=None):\n",
    "    test_dataset = dataset[((dataset['time_diff']<=time_diff) & (dataset['time_diff']>=(time_diff-2)))]\n",
    "    if len(test_dataset)==0:\n",
    "        return 0\n",
    "    train_dataset = dataset[dataset['time_diff']>time_diff]\n",
    "    train_dataset = train_dataset.copy()\n",
    "    train_dataset.loc[:, 'time_diff'] = train_dataset['time_diff'] - time_diff\n",
    "\n",
    "    params = solve_parameters_decay(train_dataset, xi=xi, init_vals=init_params)\n",
    "    predictive_score = sum([safe_log(get_1x2_probs(dixon_coles_simulate_match(\n",
    "                    params, row.HomeTeam, row.AwayTeam))[row.FTR]) for row in test_dataset.itertuples()])\n",
    "    return predictive_score    \n",
    "\n",
    "def get_total_score_xi(xi):\n",
    "    xi_result = [build_temp_model(sa_2223, day, xi=xi) for day in range(99,-1,-3)]\n",
    "    with open('find_xi_1season_{}.txt'.format(str(xi)[2:]), 'wb') as thefile:\n",
    "        pickle.dump(xi_result, thefile)"
   ]
  },
  {
   "cell_type": "code",
   "execution_count": 31,
   "id": "93ca5549-a0e9-4564-8d9b-49e678ab053b",
   "metadata": {},
   "outputs": [],
   "source": []
  },
  {
   "cell_type": "markdown",
   "id": "a41e9b43-60e2-4716-b347-fca8887cb3cd",
   "metadata": {},
   "source": [
    "### Defining Functions\n",
    "\n",
    "2. **`get_1x2_probs` Function**:\n",
    "   - Takes a match score matrix (a matrix of probabilities for all possible match outcomes) as input and calculates the probabilities of a home win (`H`), an away win (`A`), and a draw (`D`) by summing appropriate elements of the matrix.\n",
    "\n",
    "3. **`build_temp_model` Function**:\n",
    "   - Filters the dataset for matches occurring within a specified time window (`time_diff` ± 2 days) and separates it into a test dataset for evaluation and a training dataset for parameter optimization.\n",
    "   - Adjusts the `time_diff` values in the training dataset to reflect the relative time from the evaluation point.\n",
    "   - Optimizes model parameters using the `solve_parameters_decay` function, which includes the time decay effect governed by `xi`.\n",
    "   - Calculates the predictive score for the test dataset using the optimized parameters and the actual match outcomes (`FTR`).\n",
    "\n",
    "4. **`get_total_score_xi` Function**:\n",
    "   - For a given `xi`, iterates over the dataset in steps of 3 days, building temporary models and aggregating their predictive scores.\n",
    "   - Results for each `xi` value are saved to a file for later analysis."
   ]
  },
  {
   "cell_type": "code",
   "execution_count": 35,
   "id": "50996b6d-78b4-4e28-b85f-d9d40a459124",
   "metadata": {},
   "outputs": [
    {
     "data": {
      "text/html": [
       "<div>\n",
       "<style scoped>\n",
       "    .dataframe tbody tr th:only-of-type {\n",
       "        vertical-align: middle;\n",
       "    }\n",
       "\n",
       "    .dataframe tbody tr th {\n",
       "        vertical-align: top;\n",
       "    }\n",
       "\n",
       "    .dataframe thead th {\n",
       "        text-align: right;\n",
       "    }\n",
       "</style>\n",
       "<table border=\"1\" class=\"dataframe\">\n",
       "  <thead>\n",
       "    <tr style=\"text-align: right;\">\n",
       "      <th></th>\n",
       "      <th>HomeTeam</th>\n",
       "      <th>AwayTeam</th>\n",
       "      <th>HomeGoals</th>\n",
       "      <th>AwayGoals</th>\n",
       "      <th>FTR</th>\n",
       "      <th>time_diff</th>\n",
       "    </tr>\n",
       "  </thead>\n",
       "  <tbody>\n",
       "    <tr>\n",
       "      <th>0</th>\n",
       "      <td>Milan</td>\n",
       "      <td>Udinese</td>\n",
       "      <td>4</td>\n",
       "      <td>2</td>\n",
       "      <td>H</td>\n",
       "      <td>295</td>\n",
       "    </tr>\n",
       "    <tr>\n",
       "      <th>1</th>\n",
       "      <td>Sampdoria</td>\n",
       "      <td>Atalanta</td>\n",
       "      <td>0</td>\n",
       "      <td>2</td>\n",
       "      <td>A</td>\n",
       "      <td>295</td>\n",
       "    </tr>\n",
       "    <tr>\n",
       "      <th>2</th>\n",
       "      <td>Lecce</td>\n",
       "      <td>Inter</td>\n",
       "      <td>1</td>\n",
       "      <td>2</td>\n",
       "      <td>A</td>\n",
       "      <td>295</td>\n",
       "    </tr>\n",
       "    <tr>\n",
       "      <th>3</th>\n",
       "      <td>Monza</td>\n",
       "      <td>Torino</td>\n",
       "      <td>1</td>\n",
       "      <td>2</td>\n",
       "      <td>A</td>\n",
       "      <td>295</td>\n",
       "    </tr>\n",
       "    <tr>\n",
       "      <th>4</th>\n",
       "      <td>Fiorentina</td>\n",
       "      <td>Cremonese</td>\n",
       "      <td>3</td>\n",
       "      <td>2</td>\n",
       "      <td>H</td>\n",
       "      <td>294</td>\n",
       "    </tr>\n",
       "  </tbody>\n",
       "</table>\n",
       "</div>"
      ],
      "text/plain": [
       "     HomeTeam   AwayTeam  HomeGoals  AwayGoals FTR  time_diff\n",
       "0       Milan    Udinese          4          2   H        295\n",
       "1   Sampdoria   Atalanta          0          2   A        295\n",
       "2       Lecce      Inter          1          2   A        295\n",
       "3       Monza     Torino          1          2   A        295\n",
       "4  Fiorentina  Cremonese          3          2   H        294"
      ]
     },
     "execution_count": 35,
     "metadata": {},
     "output_type": "execute_result"
    }
   ],
   "source": [
    "sa_2223 = pd.read_csv(\"https://www.football-data.co.uk/mmz4281/2223/I1.csv\")\n",
    "sa_2223['Date'] = pd.to_datetime(sa_2223['Date'],  format='%d/%m/%Y')\n",
    "sa_2223['time_diff'] = (max(sa_2223['Date']) - sa_2223['Date']).dt.days\n",
    "sa_2223 = sa_2223[['HomeTeam','AwayTeam','FTHG','FTAG', 'FTR', 'time_diff']]\n",
    "sa_2223 = sa_2223.rename(columns={'FTHG': 'HomeGoals', 'FTAG': 'AwayGoals'})\n",
    "sa_2223.head()"
   ]
  },
  {
   "cell_type": "markdown",
   "id": "1481d534-fc14-4030-a72f-0f928dbd76be",
   "metadata": {},
   "source": [
    "### Preparing the Dataset\n",
    "\n",
    "1. **Load and Process Data**:\n",
    "   - The dataset is loaded from an online source containing match information for the Serie A 2022/2023 season.\n",
    "   - The `Date` column is converted to datetime objects to calculate the `time_diff`, which represents the number of days between each match and the most recent match in the dataset.\n",
    "   - The dataset is then filtered to include only relevant columns (`HomeTeam`, `AwayTeam`, `HomeGoals`, `AwayGoals`, `FTR`, and `time_diff`) and renames columns for clarity."
   ]
  },
  {
   "cell_type": "code",
   "execution_count": null,
   "id": "ee54611c-1707-418b-9f4d-878f6694a3f0",
   "metadata": {},
   "outputs": [],
   "source": [
    "if __name__ == '__main__':\n",
    "    xi_vals = [0.0, 0.0002, 0.0004, 0.0006, 0.0008, 0.001, 0.0012, 0.0014, 0.0016, 0.0018, \n",
    "               0.002, 0.0025, 0.003, 0.0035, 0.0035, 0.004, 0.0045, 0.005]\n",
    "    \n",
    "    # Calculate total optimizations\n",
    "    iterations_per_xi = len(range(99, -1, -3))  # This is how many days we are iterating over for each xi\n",
    "    total_optimizations = len(xi_vals) * iterations_per_xi\n",
    "    \n",
    "    print(\"Starting pool...\")\n",
    "    print(f\"Total optimizations needed: {total_optimizations}\")\n",
    "    with Pool(processes=8) as pool:         # start worker processes (number will depend on your computer's architecture)\n",
    "        xi_result = pool.map(get_total_score_xi, xi_vals)\n",
    "        "
   ]
  },
  {
   "cell_type": "markdown",
   "id": "d982ea38-3333-48df-9334-c842244a26e9",
   "metadata": {},
   "source": [
    "### Evaluating Different `xi` Values\n",
    "\n",
    "5. **Main Execution**:\n",
    "   - A list of `xi` values to test is defined, ranging from 0.0 (no time decay) to 0.005 (strong time decay).\n",
    "   - The `Pool` object from the `multiprocessing` library is used to parallelize the evaluation process, speeding up the computation by utilizing multiple CPU cores. Each `xi` value is evaluated independently in parallel.\n",
    "   - The `get_total_score_xi` function is called for each `xi` value, and the resulting scores are collected. This parallel execution is facilitated by `pool.map`.\n",
    "\n",
    "### Objective\n",
    "\n",
    "The overarching goal is to assess how the time decay parameter (`xi`) influences the model's ability to predict match outcomes accurately. By examining the predictive score across different `xi` values, the code aims to identify the optimal level of time sensitivity that should be incorporated into the model to enhance its predictive performance.\n",
    "\n",
    "This approach recognizes that recent matches might be more indicative of a team's current form and therefore should have a greater influence on the prediction model. The optimal `xi` value helps balance the weight given to recent versus older matches, potentially improving the model's accuracy and relevance."
   ]
  },
  {
   "cell_type": "markdown",
   "id": "06178a50-6b7d-46da-9aac-85b9bd5f4b69",
   "metadata": {},
   "source": [
    "For the setup, considering `xi_values` with 18 different values and iterating over a range of days from 99 to 0 with a step of -3, there will be a total of **612 optimizations** performed."
   ]
  },
  {
   "cell_type": "code",
   "execution_count": 1,
   "id": "06cf5d5b-697e-4b06-838c-d8f1c7d1eaf9",
   "metadata": {},
   "outputs": [
    {
     "data": {
      "text/plain": [
       "612"
      ]
     },
     "execution_count": 1,
     "metadata": {},
     "output_type": "execute_result"
    }
   ],
   "source": [
    "\n",
    "# Calculating the total number of optimizations based on the given setup\n",
    "\n",
    "# Number of xi values\n",
    "xi_values_count = len([0.0, 0.0002, 0.0004, 0.0006, 0.0008, 0.001, 0.0012, 0.0014, 0.0016, 0.0018, \n",
    "               0.002, 0.0025, 0.003, 0.0035, 0.0035, 0.004, 0.0045, 0.005])\n",
    "\n",
    "# Number of days being iterated over with a step of -3 from 99 to 0\n",
    "days_count = len(range(99, -1, -3))\n",
    "\n",
    "# Total number of optimizations is the product of the two\n",
    "total_optimizations = xi_values_count * days_count\n",
    "\n",
    "total_optimizations\n"
   ]
  }
 ],
 "metadata": {
  "kernelspec": {
   "display_name": "Python 3 (ipykernel)",
   "language": "python",
   "name": "python3"
  },
  "language_info": {
   "codemirror_mode": {
    "name": "ipython",
    "version": 3
   },
   "file_extension": ".py",
   "mimetype": "text/x-python",
   "name": "python",
   "nbconvert_exporter": "python",
   "pygments_lexer": "ipython3",
   "version": "3.9.12"
  }
 },
 "nbformat": 4,
 "nbformat_minor": 5
}
