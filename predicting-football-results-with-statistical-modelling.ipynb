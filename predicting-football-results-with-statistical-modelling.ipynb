{
 "cells": [
  {
   "cell_type": "markdown",
   "id": "7d1da5c6-7ee2-4c9a-9f55-7440cee71a85",
   "metadata": {},
   "source": [
    "# Predicting Football Results with Statistical Modelling\n",
    "\n",
    "### Poisson Distribution\n",
    "\n",
    "The model is founded on the number of goals scored/conceded by each team. Teams that have been higher scorers in the past have a greater likelihood of scoring goals in the future. We'll import all match results from the Serie A 2022/23 season.\n",
    "\n",
    "https://www.football-data.co.uk/italym.php\n"
   ]
  },
  {
   "cell_type": "code",
   "execution_count": 53,
   "id": "1485d15b-dd60-49f4-84c1-4579e39e7389",
   "metadata": {},
   "outputs": [
    {
     "data": {
      "text/html": [
       "<div>\n",
       "<style scoped>\n",
       "    .dataframe tbody tr th:only-of-type {\n",
       "        vertical-align: middle;\n",
       "    }\n",
       "\n",
       "    .dataframe tbody tr th {\n",
       "        vertical-align: top;\n",
       "    }\n",
       "\n",
       "    .dataframe thead th {\n",
       "        text-align: right;\n",
       "    }\n",
       "</style>\n",
       "<table border=\"1\" class=\"dataframe\">\n",
       "  <thead>\n",
       "    <tr style=\"text-align: right;\">\n",
       "      <th></th>\n",
       "      <th>HomeTeam</th>\n",
       "      <th>AwayTeam</th>\n",
       "      <th>HomeGoals</th>\n",
       "      <th>AwayGoals</th>\n",
       "    </tr>\n",
       "  </thead>\n",
       "  <tbody>\n",
       "    <tr>\n",
       "      <th>0</th>\n",
       "      <td>Milan</td>\n",
       "      <td>Udinese</td>\n",
       "      <td>4</td>\n",
       "      <td>2</td>\n",
       "    </tr>\n",
       "    <tr>\n",
       "      <th>1</th>\n",
       "      <td>Sampdoria</td>\n",
       "      <td>Atalanta</td>\n",
       "      <td>0</td>\n",
       "      <td>2</td>\n",
       "    </tr>\n",
       "    <tr>\n",
       "      <th>2</th>\n",
       "      <td>Lecce</td>\n",
       "      <td>Inter</td>\n",
       "      <td>1</td>\n",
       "      <td>2</td>\n",
       "    </tr>\n",
       "    <tr>\n",
       "      <th>3</th>\n",
       "      <td>Monza</td>\n",
       "      <td>Torino</td>\n",
       "      <td>1</td>\n",
       "      <td>2</td>\n",
       "    </tr>\n",
       "    <tr>\n",
       "      <th>4</th>\n",
       "      <td>Fiorentina</td>\n",
       "      <td>Cremonese</td>\n",
       "      <td>3</td>\n",
       "      <td>2</td>\n",
       "    </tr>\n",
       "  </tbody>\n",
       "</table>\n",
       "</div>"
      ],
      "text/plain": [
       "     HomeTeam   AwayTeam  HomeGoals  AwayGoals\n",
       "0       Milan    Udinese          4          2\n",
       "1   Sampdoria   Atalanta          0          2\n",
       "2       Lecce      Inter          1          2\n",
       "3       Monza     Torino          1          2\n",
       "4  Fiorentina  Cremonese          3          2"
      ]
     },
     "execution_count": 53,
     "metadata": {},
     "output_type": "execute_result"
    }
   ],
   "source": [
    "# https://github.com/dashee87/blogScripts/blob/master/Jupyter/2017-06-04-predicting-football-results-with-statistical-modelling.ipynb\n",
    "\n",
    "import pandas as pd\n",
    "import matplotlib.pyplot as plt\n",
    "import numpy as np\n",
    "import seaborn\n",
    "from scipy.stats import poisson,skellam\n",
    "\n",
    "sa_2223 = pd.read_csv(\"sa-2223.csv\")\n",
    "sa_2223 = sa_2223[['HomeTeam','AwayTeam','FTHG','FTAG']]\n",
    "sa_2223 = sa_2223.rename(columns={'FTHG': 'HomeGoals', 'FTAG': 'AwayGoals'})\n",
    "sa_2223.head()"
   ]
  },
  {
   "cell_type": "markdown",
   "id": "906bce45-874c-42b0-a8b7-9ba1faa64b01",
   "metadata": {},
   "source": [
    "We imported a csv as a pandas dataframe, which contains various information for each of the 380 Seria A games in the 2022-23 First Italian League season. We restricted the dataframe to the columns in which we're interested (specifically, team names and numer of goals scored by each team)."
   ]
  },
  {
   "cell_type": "code",
   "execution_count": 3,
   "id": "49ebecca-2287-41bb-a57b-d263ac5394a8",
   "metadata": {},
   "outputs": [
    {
     "data": {
      "text/plain": [
       "HomeGoals    1.400\n",
       "AwayGoals    1.125\n",
       "dtype: float64"
      ]
     },
     "execution_count": 3,
     "metadata": {},
     "output_type": "execute_result"
    }
   ],
   "source": [
    "sa_2223 = sa_2223[:-10] # Extract the last ten games\n",
    "sa_2223.mean(numeric_only=True)"
   ]
  },
  {
   "cell_type": "markdown",
   "id": "2610bda4-6078-49e1-898a-7a94118b8ae6",
   "metadata": {},
   "source": [
    "You'll notice that, on average, the home team scores more goals than the away team. This is the so called 'home (field) advantage' (discussed [here](https://jogall.github.io/2017-05-12-home-away-pref/)) and [isn't specific to soccer](http://bleacherreport.com/articles/1803416-is-home-field-advantage-as-important-in-baseball-as-other-major-sports). This is a convenient time to introduce the [Poisson distribution](https://en.wikipedia.org/wiki/Poisson_distribution). It's a discrete probability distribution that describes the probability of the number of events within a specific time period (e.g 90 mins) with a known average rate of occurrence. A key assumption is that the number of events is independent of time. In our context, this means that goals don't become more/less likely by the number of goals already scored in the match. Instead, the number of goals is expressed purely as function an average rate of goals. If that was unclear, maybe this mathematical formulation will make clearer:\n",
    "\n",
    "$$\n",
    "P\\left( x \\right) = \\frac{e^{-\\lambda} \\lambda ^x }{x!}, \\lambda>0\n",
    "$$\n",
    "\n",
    "$\\lambda$ represents the average rate (e.g. average number of goals, average number of letters you receive, etc.). So, we can treat the number of goals scored by the home and away team as two independent Poisson distributions. The plot below shows the proportion of goals scored compared to the number of goals estimated by the corresponding Poisson distributions."
   ]
  },
  {
   "cell_type": "code",
   "execution_count": 49,
   "id": "7c23db88-f425-40d5-839d-d14b2162f7c7",
   "metadata": {},
   "outputs": [],
   "source": [
    "# construct Poisson for each mean goals value\n",
    "poisson_pred = np.column_stack([[poisson.pmf(i, sa_2223[['HomeGoals', 'AwayGoals']].mean(numeric_only=True)[j]) for i in range(8)] for j in range(2)])"
   ]
  },
  {
   "cell_type": "code",
   "execution_count": 51,
   "id": "8a267810-5382-41bf-9f7c-6b536d0cc905",
   "metadata": {},
   "outputs": [
    {
     "data": {
      "image/png": "[encoded data removed]",
      "text/plain": [
       "<Figure size 720x432 with 1 Axes>"
      ]
     },
     "metadata": {
      "needs_background": "light"
     },
     "output_type": "display_data"
    }
   ],
   "source": [
    "# Set the figure size for a larger plot\n",
    "plt.figure(figsize=(10, 6))  # Adjust the size as needed\n",
    "\n",
    "# Plot histogram of actual goals\n",
    "plt.hist(sa_2223[['HomeGoals', 'AwayGoals']].values, bins=range(9), \n",
    "         alpha=0.7, label=['Home', 'Away'], density=True, color=[\"#FFA07A\", \"#20B2AA\"])\n",
    "\n",
    "# Add lines for the Poisson distributions\n",
    "pois1, = plt.plot([i-0.5 for i in range(1,9)], poisson_pred[:,0],\n",
    "                  linestyle='-', marker='o',label=\"Home\", color = '#CD5C5C')\n",
    "pois2, = plt.plot([i-0.5 for i in range(1,9)], poisson_pred[:,1],\n",
    "                  linestyle='-', marker='o',label=\"Away\", color = '#006400')\n",
    "\n",
    "# Customize the legend\n",
    "leg = plt.legend(loc='upper right', fontsize=13, ncol=2)\n",
    "leg.set_title(\"Actual           Poisson         \", prop = {'size':'14', 'weight':'bold'})\n",
    "\n",
    "# Set ticks, labels, and title\n",
    "plt.xticks([i for i in range(9)], [i for i in range(9)])\n",
    "plt.xlabel(\"Goals per Match\", size=13)\n",
    "plt.ylabel(\"Proportion of Matches\", size=13)\n",
    "plt.title(\"Number of Goals per Match (Serie A 2022/23 Season)\", size=14, fontweight='bold')\n",
    "plt.ylim([-0.004, 0.4])\n",
    "\n",
    "# Tight layout for a neat presentation\n",
    "plt.tight_layout()\n",
    "\n",
    "# Save the figure as a PDF\n",
    "plt.savefig('goals_per_match_serie_a_2223.pdf', bbox_inches='tight')\n",
    "\n",
    "# Display the plot\n",
    "plt.show()"
   ]
  },
  {
   "cell_type": "markdown",
   "id": "20d6d34c-0f45-4097-836a-d30e0383e352",
   "metadata": {},
   "source": [
    "We can use this statistical model to estimate the probability of specfic events. For example the probability of the home team to score 2 goals.\n",
    "\n",
    "$$\n",
    "\\begin{align*}\n",
    "P(\\geq 2|Home) &= P(2|Home) + P(3|Home) + ...\\\\\n",
    "        &= 0.258 + 0.137 + ...\\\\\n",
    "        &= 0.47\n",
    "\\end{align*}\n",
    "$$\n",
    "\n",
    "The probability of a draw is simply the sum of the events where the two teams score the same amount of goals.\n",
    "\n",
    "$$\n",
    "\\begin{align*}\n",
    "P(Draw) &= P(0|Home) \\times P(0|Away) + P(1|Home) \\times P(1|Away) + ...\\\\\n",
    "        &= 0.203 \\times 0.306 + 0.324 \\times 0.362 + ...\\\\\n",
    "        &= 0.248\n",
    "\\end{align*}\n",
    "$$\n",
    "\n",
    "Note that we consider the number of goals scored by each team to be independent events (i.e. P(A n B) = P(A) P(B)). The difference of two Poisson distribution is actually called a [Skellam distribution](https://en.wikipedia.org/wiki/Skellam_distribution). So we can calculate the probability of a draw by inputting the mean goal values into this distribution."
   ]
  },
  {
   "cell_type": "code",
   "execution_count": 19,
   "id": "6e0f668e-a508-4090-aeae-45f6003f4e1f",
   "metadata": {},
   "outputs": [
    {
     "data": {
      "text/plain": [
       "0.26336000523297276"
      ]
     },
     "execution_count": 19,
     "metadata": {},
     "output_type": "execute_result"
    }
   ],
   "source": [
    "# probability of draw between home and away team\n",
    "skellam.pmf(0.0,  sa_2223.mean(numeric_only=True)[0],  sa_2223.mean(numeric_only=True)[1])"
   ]
  },
  {
   "cell_type": "markdown",
   "id": "52bd6791-4b98-4e3d-8763-56cc01bc7984",
   "metadata": {},
   "source": [
    "The probability of a draw (i.e., **both teams scoring the same number of goals**) is estimated using the Skellam distribution. The Skellam distribution's pmf is calculated at 0 (skellam.pmf(`0.0`, mean_home, mean_away)), which signifies that the difference in goals scored by the home and away teams is zero."
   ]
  },
  {
   "cell_type": "code",
   "execution_count": 20,
   "id": "e14ff2e0-0719-4130-9176-9373c9a0307a",
   "metadata": {},
   "outputs": [
    {
     "data": {
      "text/plain": [
       "0.22487913595916245"
      ]
     },
     "execution_count": 20,
     "metadata": {},
     "output_type": "execute_result"
    }
   ],
   "source": [
    "# probability of home team winning by one goal\n",
    "skellam.pmf(1,  sa_2223.mean(numeric_only=True)[0],  sa_2223.mean(numeric_only=True)[1])"
   ]
  },
  {
   "cell_type": "code",
   "execution_count": 45,
   "id": "1f9cfc71-1ef4-4d8a-aa64-eed2e261e610",
   "metadata": {},
   "outputs": [
    {
     "data": {
      "image/png": "[encoded data removed]",
      "text/plain": [
       "<Figure size 720x432 with 1 Axes>"
      ]
     },
     "metadata": {
      "needs_background": "light"
     },
     "output_type": "display_data"
    }
   ],
   "source": [
    "skellam_pred = [skellam.pmf(i,  sa_2223.mean(numeric_only=True)[0],  sa_2223.mean(numeric_only=True)[1]) for i in range(-6,8)]\n",
    "\n",
    "# Set the figure size for a larger plot\n",
    "plt.figure(figsize=(10, 6))\n",
    "\n",
    "# Adjusting the histogram for goal differences and replacing 'normed' with 'density'\n",
    "plt.hist(sa_2223['HomeGoals'].values - sa_2223['AwayGoals'].values, bins=np.arange(-6.5, 8, 1), \n",
    "         alpha=0.7, label='Actual', density=True, edgecolor='black', linewidth=1.5)\n",
    "\n",
    "# Adding Skellam distribution predictions\n",
    "plt.plot(np.arange(-6, 8), skellam_pred,\n",
    "         linestyle='-', marker='o', label=\"Skellam\", color = '#CD5C5C')\n",
    "\n",
    "# Adding legend, labels, and title\n",
    "plt.legend(loc='upper right', fontsize=13)\n",
    "plt.xticks(np.arange(-6, 8), np.arange(-6, 8))\n",
    "plt.xlabel(\"Home Goals - Away Goals\", size=13)\n",
    "plt.ylabel(\"Proportion of Matches\", size=13)\n",
    "plt.title(\"Difference in Goals Scored (Home Team vs Away Team)\", size=14, fontweight='bold')\n",
    "\n",
    "# Automatically adjust y-axis limits\n",
    "# plt.ylim([-0.004, 0.26])  # This line is commented out to let Matplotlib adjust automatically\n",
    "\n",
    "# Tight layout for a neat presentation\n",
    "plt.tight_layout()\n",
    "\n",
    "# Save the figure as a PDF before showing it\n",
    "plt.savefig('difference_in_goals_serie_a_2223.pdf', bbox_inches='tight')\n",
    "\n",
    "# Display the plot\n",
    "plt.show()"
   ]
  },
  {
   "cell_type": "markdown",
   "id": "6206f938-d4e9-417f-a851-c2a24726a058",
   "metadata": {},
   "source": [
    "So, hopefully you can see how we can adapt this approach to model specific matches. We just need to know the average number of goals scored by each team and feed this data into a Poisson model. \n",
    "\n",
    "Let's have a look at the distribution of goals scored by Napoli and Sampdoria(teams who finished 1st and last, respectively)."
   ]
  },
  {
   "cell_type": "markdown",
   "id": "c218dad5-dcbc-416f-aeb0-e8d6ddc626cb",
   "metadata": {},
   "source": [
    "Let's start by calculating the actual distribution of goals scored by Napoli and Sampdoria, both at home and away, in the Serie A 2022/23 season."
   ]
  },
  {
   "cell_type": "code",
   "execution_count": 60,
   "id": "c6f0f666-8d49-4629-b73c-3836f615ce8b",
   "metadata": {},
   "outputs": [],
   "source": [
    "# Calculate the actual goal distribution for Napoli and Sampdoria at home\n",
    "nap_home = sa_2223[sa_2223['HomeTeam'] == 'Napoli']['HomeGoals'].value_counts(normalize=True).sort_index()\n",
    "samp_home = sa_2223[sa_2223['HomeTeam'] == 'Sampdoria']['HomeGoals'].value_counts(normalize=True).sort_index()"
   ]
  },
  {
   "cell_type": "code",
   "execution_count": 65,
   "id": "a7f807cd-855a-420c-bcaa-3c9d68d1e942",
   "metadata": {},
   "outputs": [],
   "source": [
    "# Calculate the actual goal distribution for Napoli and Sampdoria away\n",
    "nap_away = sa_2223[sa_2223['AwayTeam'] == 'Napoli']['AwayGoals'].value_counts(normalize=True).sort_index()\n",
    "samp_away = sa_2223[sa_2223['AwayTeam'] == 'Sampdoria']['AwayGoals'].value_counts(normalize=True).sort_index()"
   ]
  },
  {
   "cell_type": "markdown",
   "id": "d8ce60e9-2eb1-4b8f-944b-96aac8fa356b",
   "metadata": {},
   "source": [
    "Then we calculate the expected distribution based on the Poisson statistical model, using the mean number of goals scored by each team in their respective home and away games."
   ]
  },
  {
   "cell_type": "code",
   "execution_count": 64,
   "id": "af67a8e4-53fb-4c9e-8d86-e18b089cdb80",
   "metadata": {},
   "outputs": [],
   "source": [
    "# Calculate Poisson distribution for the average goals scored at home\n",
    "nap_home_mean = sa_2223[sa_2223['HomeTeam'] == 'Napoli']['HomeGoals'].mean()\n",
    "samp_home_mean = sa_2223[sa_2223['HomeTeam'] == 'Sampdoria']['HomeGoals'].mean()\n",
    "\n",
    "nap_home_pois = [poisson.pmf(i, nap_home_mean) for i in range(8)]\n",
    "samp_home_pois = [poisson.pmf(i, samp_home_mean) for i in range(8)]"
   ]
  },
  {
   "cell_type": "code",
   "execution_count": 66,
   "id": "763de72d-25c7-443b-b05e-863b323790ab",
   "metadata": {},
   "outputs": [],
   "source": [
    "# Calculate Poisson distribution for the average goals scored away\n",
    "nap_away_mean = sa_2223[sa_2223['AwayTeam'] == 'Napoli']['AwayGoals'].mean()\n",
    "samp_away_mean = sa_2223[sa_2223['AwayTeam'] == 'Sampdoria']['AwayGoals'].mean()\n",
    "nap_away_pois = [poisson.pmf(i, nap_away_mean) for i in range(8)]\n",
    "samp_away_pois = [poisson.pmf(i, samp_away_mean) for i in range(8)]"
   ]
  },
  {
   "cell_type": "markdown",
   "id": "0a8ab965-97ed-4009-9c54-cb2d550cd055",
   "metadata": {},
   "source": [
    "Plot these distributions for comparison, with separate subplots for home and away goal distributions."
   ]
  },
  {
   "cell_type": "code",
   "execution_count": 68,
   "id": "709ce8e4-88dc-4906-acff-9f4d9a3dcca1",
   "metadata": {},
   "outputs": [
    {
     "data": {
      "image/png": "[encoded data removed]",
      "text/plain": [
       "<Figure size 720x864 with 2 Axes>"
      ]
     },
     "metadata": {
      "needs_background": "light"
     },
     "output_type": "display_data"
    }
   ],
   "source": [
    "# Plotting\n",
    "fig, axes = plt.subplots(2, 1, figsize=(10, 12))\n",
    "\n",
    "# Home Goals\n",
    "axes[0].bar(nap_home.index - 0.2, nap_home.values, width=0.4, color=\"#034694\", label=\"Napoli\")\n",
    "axes[0].bar(samp_home.index + 0.2, samp_home.values, width=0.4, color=\"#EB172B\", label=\"Sampdoria\")\n",
    "axes[0].plot([i for i in range(8)], nap_home_pois, linestyle='-', marker='o', label=\"Napoli Poisson\", color=\"#0a7bff\")\n",
    "axes[0].plot([i for i in range(8)], samp_home_pois, linestyle='-', marker='o', label=\"Sampdoria Poisson\", color=\"#ff7c89\")\n",
    "axes[0].set_title(\"Number of Home Goals per Match (Serie A 2022/23 Season)\")\n",
    "axes[0].set_xlabel(\"Goals per Match\")\n",
    "axes[0].set_ylabel(\"Proportion of Matches\")\n",
    "axes[0].legend()\n",
    "\n",
    "# Away Goals\n",
    "axes[1].bar(nap_away.index - 0.2, nap_away.values, width=0.4, color=\"#034694\", label=\"Napoli\")\n",
    "axes[1].bar(samp_away.index + 0.2, samp_away.values, width=0.4, color=\"#EB172B\", label=\"Sampdoria\")\n",
    "axes[1].plot([i for i in range(8)], nap_away_pois, linestyle='-', marker='o', label=\"Napoli Poisson\", color=\"#0a7bff\")\n",
    "axes[1].plot([i for i in range(8)], samp_away_pois, linestyle='-', marker='o', label=\"Sampdoria Poisson\", color=\"#ff7c89\")\n",
    "axes[1].set_title(\"Number of Away Goals per Match (Serie A 2022/23 Season)\")\n",
    "axes[1].set_xlabel(\"Goals per Match\")\n",
    "axes[1].set_ylabel(\"Proportion of Matches\")\n",
    "axes[1].legend()\n",
    "\n",
    "# Save the figure as a PDF before showing it\n",
    "plt.savefig('goal_distribution_home-away_serie_a_2223.pdf', bbox_inches='tight')\n",
    "\n",
    "plt.tight_layout()\n",
    "plt.show()"
   ]
  },
  {
   "cell_type": "markdown",
   "id": "4ae0c249-15be-40bc-a82f-a97020ba0206",
   "metadata": {},
   "source": [
    "## Building A Model\n",
    "\n",
    "You should now be convinced that the number of goals scored by each team can be approximated by a Poisson distribution. Due to a relatively sample size (each team plays at most 19 home/away games), the accuracy of this approximation can vary significantly (especially earlier in the season when teams have played fewer games). Similar to before, we could now calculate the probability of various events in this Napoli Sampdoria match. But rather than treat each match separately, we'll build a more general Poisson regression model ([what is that?](https://en.wikipedia.org/wiki/Poisson_regression))."
   ]
  },
  {
   "cell_type": "code",
   "execution_count": 75,
   "id": "32f33baa-6e0a-4fe4-b84b-947b69162303",
   "metadata": {},
   "outputs": [],
   "source": [
    "# importing the tools required for the Poisson regression model\n",
    "import statsmodels.api as sm\n",
    "import statsmodels.formula.api as smf"
   ]
  },
  {
   "cell_type": "markdown",
   "id": "cb2f2e02-61db-400e-a14d-2f1b9faf09f5",
   "metadata": {},
   "source": [
    "1. **Importing Libraries**:\n",
    "   - `statsmodels.api` and `statsmodels.formula.api` are imported to facilitate statistical modeling. `statsmodels` is a Python module that provides classes and functions for the estimation of many different statistical models, as well as for conducting statistical tests, and statistical data exploration."
   ]
  },
  {
   "cell_type": "code",
   "execution_count": null,
   "id": "3ca3e186-79cf-4749-8b77-314abf69413d",
   "metadata": {},
   "outputs": [],
   "source": [
    "goal_model_data = pd.concat([sa_2223[['HomeTeam','AwayTeam','HomeGoals']].assign(home=1).rename(\n",
    "            columns={'HomeTeam':'team', 'AwayTeam':'opponent','HomeGoals':'goals'}),\n",
    "           sa_2223[['AwayTeam','HomeTeam','AwayGoals']].assign(home=0).rename(\n",
    "            columns={'AwayTeam':'team', 'HomeTeam':'opponent','AwayGoals':'goals'})])"
   ]
  },
  {
   "cell_type": "markdown",
   "id": "640b030c-0d40-4888-a870-76902eeee351",
   "metadata": {},
   "source": [
    "2. **Preparing the Data**:\n",
    "   - The dataset `sa_2223` contains Serie A match data, with columns for the home team, away team, home goals, and away goals.\n",
    "   - The code then creates a single DataFrame `goal_model_data` from `sa_2223` where each row represents one team's perspective of a match. It doubles the number of rows in the dataset: one row for each team in each match, labeling one as `home=1` (home team perspective) and the other as `home=0` (away team perspective). This restructuring facilitates the modeling of goals scored as a function of being the home team or the away team and the specific opponent.\n",
    "   - Columns are renamed for clarity: `HomeTeam` and `AwayTeam` to `team` and `opponent`, respectively, and `HomeGoals` and `AwayGoals` to a common `goals` column to indicate the number of goals scored by the `team`."
   ]
  },
  {
   "cell_type": "code",
   "execution_count": 77,
   "id": "342d28b1-8ae8-45be-9083-4123cef8f303",
   "metadata": {},
   "outputs": [
    {
     "data": {
      "text/html": [
       "<div>\n",
       "<style scoped>\n",
       "    .dataframe tbody tr th:only-of-type {\n",
       "        vertical-align: middle;\n",
       "    }\n",
       "\n",
       "    .dataframe tbody tr th {\n",
       "        vertical-align: top;\n",
       "    }\n",
       "\n",
       "    .dataframe thead th {\n",
       "        text-align: right;\n",
       "    }\n",
       "</style>\n",
       "<table border=\"1\" class=\"dataframe\">\n",
       "  <thead>\n",
       "    <tr style=\"text-align: right;\">\n",
       "      <th></th>\n",
       "      <th>team</th>\n",
       "      <th>opponent</th>\n",
       "      <th>goals</th>\n",
       "      <th>home</th>\n",
       "    </tr>\n",
       "  </thead>\n",
       "  <tbody>\n",
       "    <tr>\n",
       "      <th>0</th>\n",
       "      <td>Milan</td>\n",
       "      <td>Udinese</td>\n",
       "      <td>4</td>\n",
       "      <td>1</td>\n",
       "    </tr>\n",
       "    <tr>\n",
       "      <th>1</th>\n",
       "      <td>Sampdoria</td>\n",
       "      <td>Atalanta</td>\n",
       "      <td>0</td>\n",
       "      <td>1</td>\n",
       "    </tr>\n",
       "    <tr>\n",
       "      <th>2</th>\n",
       "      <td>Lecce</td>\n",
       "      <td>Inter</td>\n",
       "      <td>1</td>\n",
       "      <td>1</td>\n",
       "    </tr>\n",
       "    <tr>\n",
       "      <th>3</th>\n",
       "      <td>Monza</td>\n",
       "      <td>Torino</td>\n",
       "      <td>1</td>\n",
       "      <td>1</td>\n",
       "    </tr>\n",
       "    <tr>\n",
       "      <th>4</th>\n",
       "      <td>Fiorentina</td>\n",
       "      <td>Cremonese</td>\n",
       "      <td>3</td>\n",
       "      <td>1</td>\n",
       "    </tr>\n",
       "    <tr>\n",
       "      <th>...</th>\n",
       "      <td>...</td>\n",
       "      <td>...</td>\n",
       "      <td>...</td>\n",
       "      <td>...</td>\n",
       "    </tr>\n",
       "    <tr>\n",
       "      <th>375</th>\n",
       "      <td>Monza</td>\n",
       "      <td>Atalanta</td>\n",
       "      <td>2</td>\n",
       "      <td>0</td>\n",
       "    </tr>\n",
       "    <tr>\n",
       "      <th>376</th>\n",
       "      <td>Bologna</td>\n",
       "      <td>Lecce</td>\n",
       "      <td>3</td>\n",
       "      <td>0</td>\n",
       "    </tr>\n",
       "    <tr>\n",
       "      <th>377</th>\n",
       "      <td>Verona</td>\n",
       "      <td>Milan</td>\n",
       "      <td>1</td>\n",
       "      <td>0</td>\n",
       "    </tr>\n",
       "    <tr>\n",
       "      <th>378</th>\n",
       "      <td>Spezia</td>\n",
       "      <td>Roma</td>\n",
       "      <td>1</td>\n",
       "      <td>0</td>\n",
       "    </tr>\n",
       "    <tr>\n",
       "      <th>379</th>\n",
       "      <td>Juventus</td>\n",
       "      <td>Udinese</td>\n",
       "      <td>1</td>\n",
       "      <td>0</td>\n",
       "    </tr>\n",
       "  </tbody>\n",
       "</table>\n",
       "<p>760 rows × 4 columns</p>\n",
       "</div>"
      ],
      "text/plain": [
       "           team   opponent  goals  home\n",
       "0         Milan    Udinese      4     1\n",
       "1     Sampdoria   Atalanta      0     1\n",
       "2         Lecce      Inter      1     1\n",
       "3         Monza     Torino      1     1\n",
       "4    Fiorentina  Cremonese      3     1\n",
       "..          ...        ...    ...   ...\n",
       "375       Monza   Atalanta      2     0\n",
       "376     Bologna      Lecce      3     0\n",
       "377      Verona      Milan      1     0\n",
       "378      Spezia       Roma      1     0\n",
       "379    Juventus    Udinese      1     0\n",
       "\n",
       "[760 rows x 4 columns]"
      ]
     },
     "execution_count": 77,
     "metadata": {},
     "output_type": "execute_result"
    }
   ],
   "source": [
    "goal_model_data"
   ]
  },
  {
   "cell_type": "code",
   "execution_count": 78,
   "id": "f6a13a2c-bc3c-42a6-adc0-0cfbf00f0ad6",
   "metadata": {},
   "outputs": [],
   "source": [
    "poisson_model = smf.glm(formula=\"goals ~ home + team + opponent\", data=goal_model_data, \n",
    "                        family=sm.families.Poisson()).fit()"
   ]
  },
  {
   "cell_type": "markdown",
   "id": "a4a5510d-d859-4f35-846f-2aa3ab7f606a",
   "metadata": {},
   "source": [
    "3. **Constructing the Poisson Regression Model**:\n",
    "   - A generalized linear model (GLM) with a Poisson family is used to model the count data (`goals`), which is typical for this type of prediction model where the outcome variable is the count of events (goals in this case) that occur in fixed intervals of time or space.\n",
    "   - The formula `goals ~ home + team + opponent` specifies that the number of goals is predicted by whether the team is playing at home or away, the team itself, and the opponent.\n",
    "   - `smf.glm` is used to fit the model, indicating a generalized linear model fitting procedure. The `family=sm.families.Poisson()` parameter specifies that a Poisson distribution is assumed for the response variable (the number of goals)."
   ]
  },
  {
   "cell_type": "code",
   "execution_count": 79,
   "id": "47601428-6f96-4837-b1b4-01bbd7651282",
   "metadata": {
    "scrolled": true
   },
   "outputs": [
    {
     "data": {
      "text/html": [
       "<table class=\"simpletable\">\n",
       "<caption>Generalized Linear Model Regression Results</caption>\n",
       "<tr>\n",
       "  <th>Dep. Variable:</th>         <td>goals</td>      <th>  No. Observations:  </th>  <td>   760</td> \n",
       "</tr>\n",
       "<tr>\n",
       "  <th>Model:</th>                  <td>GLM</td>       <th>  Df Residuals:      </th>  <td>   720</td> \n",
       "</tr>\n",
       "<tr>\n",
       "  <th>Model Family:</th>         <td>Poisson</td>     <th>  Df Model:          </th>  <td>    39</td> \n",
       "</tr>\n",
       "<tr>\n",
       "  <th>Link Function:</th>          <td>Log</td>       <th>  Scale:             </th> <td>  1.0000</td>\n",
       "</tr>\n",
       "<tr>\n",
       "  <th>Method:</th>                <td>IRLS</td>       <th>  Log-Likelihood:    </th> <td> -1028.8</td>\n",
       "</tr>\n",
       "<tr>\n",
       "  <th>Date:</th>            <td>Tue, 20 Feb 2024</td> <th>  Deviance:          </th> <td>  735.38</td>\n",
       "</tr>\n",
       "<tr>\n",
       "  <th>Time:</th>                <td>09:23:54</td>     <th>  Pearson chi2:      </th>  <td>  635.</td> \n",
       "</tr>\n",
       "<tr>\n",
       "  <th>No. Iterations:</th>          <td>5</td>        <th>  Pseudo R-squ. (CS):</th>  <td>0.1741</td> \n",
       "</tr>\n",
       "<tr>\n",
       "  <th>Covariance Type:</th>     <td>nonrobust</td>    <th>                     </th>     <td> </td>   \n",
       "</tr>\n",
       "</table>\n",
       "<table class=\"simpletable\">\n",
       "<tr>\n",
       "             <td></td>                <th>coef</th>     <th>std err</th>      <th>z</th>      <th>P>|z|</th>  <th>[0.025</th>    <th>0.975]</th>  \n",
       "</tr>\n",
       "<tr>\n",
       "  <th>Intercept</th>               <td>    0.4509</td> <td>    0.196</td> <td>    2.301</td> <td> 0.021</td> <td>    0.067</td> <td>    0.835</td>\n",
       "</tr>\n",
       "<tr>\n",
       "  <th>team[T.Bologna]</th>         <td>   -0.2190</td> <td>    0.185</td> <td>   -1.185</td> <td> 0.236</td> <td>   -0.581</td> <td>    0.143</td>\n",
       "</tr>\n",
       "<tr>\n",
       "  <th>team[T.Cremonese]</th>       <td>   -0.5851</td> <td>    0.208</td> <td>   -2.819</td> <td> 0.005</td> <td>   -0.992</td> <td>   -0.178</td>\n",
       "</tr>\n",
       "<tr>\n",
       "  <th>team[T.Empoli]</th>          <td>   -0.5793</td> <td>    0.206</td> <td>   -2.817</td> <td> 0.005</td> <td>   -0.982</td> <td>   -0.176</td>\n",
       "</tr>\n",
       "<tr>\n",
       "  <th>team[T.Fiorentina]</th>      <td>   -0.2256</td> <td>    0.185</td> <td>   -1.221</td> <td> 0.222</td> <td>   -0.588</td> <td>    0.137</td>\n",
       "</tr>\n",
       "<tr>\n",
       "  <th>team[T.Inter]</th>           <td>    0.0667</td> <td>    0.171</td> <td>    0.389</td> <td> 0.697</td> <td>   -0.269</td> <td>    0.402</td>\n",
       "</tr>\n",
       "<tr>\n",
       "  <th>team[T.Juventus]</th>        <td>   -0.1812</td> <td>    0.182</td> <td>   -0.996</td> <td> 0.319</td> <td>   -0.538</td> <td>    0.175</td>\n",
       "</tr>\n",
       "<tr>\n",
       "  <th>team[T.Lazio]</th>           <td>   -0.1153</td> <td>    0.179</td> <td>   -0.645</td> <td> 0.519</td> <td>   -0.465</td> <td>    0.235</td>\n",
       "</tr>\n",
       "<tr>\n",
       "  <th>team[T.Lecce]</th>           <td>   -0.6971</td> <td>    0.213</td> <td>   -3.266</td> <td> 0.001</td> <td>   -1.116</td> <td>   -0.279</td>\n",
       "</tr>\n",
       "<tr>\n",
       "  <th>team[T.Milan]</th>           <td>   -0.0364</td> <td>    0.176</td> <td>   -0.207</td> <td> 0.836</td> <td>   -0.381</td> <td>    0.308</td>\n",
       "</tr>\n",
       "<tr>\n",
       "  <th>team[T.Monza]</th>           <td>   -0.3151</td> <td>    0.190</td> <td>   -1.659</td> <td> 0.097</td> <td>   -0.688</td> <td>    0.057</td>\n",
       "</tr>\n",
       "<tr>\n",
       "  <th>team[T.Napoli]</th>          <td>    0.1326</td> <td>    0.168</td> <td>    0.789</td> <td> 0.430</td> <td>   -0.197</td> <td>    0.462</td>\n",
       "</tr>\n",
       "<tr>\n",
       "  <th>team[T.Roma]</th>            <td>   -0.2894</td> <td>    0.188</td> <td>   -1.541</td> <td> 0.123</td> <td>   -0.657</td> <td>    0.079</td>\n",
       "</tr>\n",
       "<tr>\n",
       "  <th>team[T.Salernitana]</th>     <td>   -0.3042</td> <td>    0.190</td> <td>   -1.601</td> <td> 0.109</td> <td>   -0.677</td> <td>    0.068</td>\n",
       "</tr>\n",
       "<tr>\n",
       "  <th>team[T.Sampdoria]</th>       <td>   -0.9894</td> <td>    0.239</td> <td>   -4.146</td> <td> 0.000</td> <td>   -1.457</td> <td>   -0.522</td>\n",
       "</tr>\n",
       "<tr>\n",
       "  <th>team[T.Sassuolo]</th>        <td>   -0.3264</td> <td>    0.191</td> <td>   -1.707</td> <td> 0.088</td> <td>   -0.701</td> <td>    0.048</td>\n",
       "</tr>\n",
       "<tr>\n",
       "  <th>team[T.Spezia]</th>          <td>   -0.7426</td> <td>    0.218</td> <td>   -3.406</td> <td> 0.001</td> <td>   -1.170</td> <td>   -0.315</td>\n",
       "</tr>\n",
       "<tr>\n",
       "  <th>team[T.Torino]</th>          <td>   -0.4609</td> <td>    0.198</td> <td>   -2.332</td> <td> 0.020</td> <td>   -0.848</td> <td>   -0.073</td>\n",
       "</tr>\n",
       "<tr>\n",
       "  <th>team[T.Udinese]</th>         <td>   -0.3406</td> <td>    0.191</td> <td>   -1.782</td> <td> 0.075</td> <td>   -0.715</td> <td>    0.034</td>\n",
       "</tr>\n",
       "<tr>\n",
       "  <th>team[T.Verona]</th>          <td>   -0.7459</td> <td>    0.218</td> <td>   -3.421</td> <td> 0.001</td> <td>   -1.173</td> <td>   -0.319</td>\n",
       "</tr>\n",
       "<tr>\n",
       "  <th>opponent[T.Bologna]</th>     <td>    0.0064</td> <td>    0.203</td> <td>    0.031</td> <td> 0.975</td> <td>   -0.392</td> <td>    0.405</td>\n",
       "</tr>\n",
       "<tr>\n",
       "  <th>opponent[T.Cremonese]</th>   <td>    0.3311</td> <td>    0.188</td> <td>    1.759</td> <td> 0.079</td> <td>   -0.038</td> <td>    0.700</td>\n",
       "</tr>\n",
       "<tr>\n",
       "  <th>opponent[T.Empoli]</th>      <td>   -0.0109</td> <td>    0.203</td> <td>   -0.054</td> <td> 0.957</td> <td>   -0.410</td> <td>    0.388</td>\n",
       "</tr>\n",
       "<tr>\n",
       "  <th>opponent[T.Fiorentina]</th>  <td>   -0.1246</td> <td>    0.210</td> <td>   -0.593</td> <td> 0.554</td> <td>   -0.537</td> <td>    0.288</td>\n",
       "</tr>\n",
       "<tr>\n",
       "  <th>opponent[T.Inter]</th>       <td>   -0.1285</td> <td>    0.212</td> <td>   -0.607</td> <td> 0.544</td> <td>   -0.543</td> <td>    0.286</td>\n",
       "</tr>\n",
       "<tr>\n",
       "  <th>opponent[T.Juventus]</th>    <td>   -0.3867</td> <td>    0.226</td> <td>   -1.708</td> <td> 0.088</td> <td>   -0.831</td> <td>    0.057</td>\n",
       "</tr>\n",
       "<tr>\n",
       "  <th>opponent[T.Lazio]</th>       <td>   -0.4779</td> <td>    0.233</td> <td>   -2.051</td> <td> 0.040</td> <td>   -0.935</td> <td>   -0.021</td>\n",
       "</tr>\n",
       "<tr>\n",
       "  <th>opponent[T.Lecce]</th>       <td>   -0.0785</td> <td>    0.207</td> <td>   -0.380</td> <td> 0.704</td> <td>   -0.483</td> <td>    0.326</td>\n",
       "</tr>\n",
       "<tr>\n",
       "  <th>opponent[T.Milan]</th>       <td>   -0.1126</td> <td>    0.210</td> <td>   -0.535</td> <td> 0.592</td> <td>   -0.525</td> <td>    0.300</td>\n",
       "</tr>\n",
       "<tr>\n",
       "  <th>opponent[T.Monza]</th>       <td>    0.0605</td> <td>    0.201</td> <td>    0.302</td> <td> 0.763</td> <td>   -0.332</td> <td>    0.454</td>\n",
       "</tr>\n",
       "<tr>\n",
       "  <th>opponent[T.Napoli]</th>      <td>   -0.5286</td> <td>    0.238</td> <td>   -2.220</td> <td> 0.026</td> <td>   -0.995</td> <td>   -0.062</td>\n",
       "</tr>\n",
       "<tr>\n",
       "  <th>opponent[T.Roma]</th>        <td>   -0.2518</td> <td>    0.217</td> <td>   -1.158</td> <td> 0.247</td> <td>   -0.678</td> <td>    0.174</td>\n",
       "</tr>\n",
       "<tr>\n",
       "  <th>opponent[T.Salernitana]</th> <td>    0.2370</td> <td>    0.193</td> <td>    1.230</td> <td> 0.219</td> <td>   -0.141</td> <td>    0.615</td>\n",
       "</tr>\n",
       "<tr>\n",
       "  <th>opponent[T.Sampdoria]</th>   <td>    0.3467</td> <td>    0.187</td> <td>    1.853</td> <td> 0.064</td> <td>   -0.020</td> <td>    0.714</td>\n",
       "</tr>\n",
       "<tr>\n",
       "  <th>opponent[T.Sassuolo]</th>    <td>    0.2196</td> <td>    0.193</td> <td>    1.136</td> <td> 0.256</td> <td>   -0.159</td> <td>    0.598</td>\n",
       "</tr>\n",
       "<tr>\n",
       "  <th>opponent[T.Spezia]</th>      <td>    0.2184</td> <td>    0.193</td> <td>    1.134</td> <td> 0.257</td> <td>   -0.159</td> <td>    0.596</td>\n",
       "</tr>\n",
       "<tr>\n",
       "  <th>opponent[T.Torino]</th>      <td>   -0.1842</td> <td>    0.213</td> <td>   -0.865</td> <td> 0.387</td> <td>   -0.602</td> <td>    0.233</td>\n",
       "</tr>\n",
       "<tr>\n",
       "  <th>opponent[T.Udinese]</th>     <td>   -0.0208</td> <td>    0.204</td> <td>   -0.102</td> <td> 0.919</td> <td>   -0.422</td> <td>    0.380</td>\n",
       "</tr>\n",
       "<tr>\n",
       "  <th>opponent[T.Verona]</th>      <td>    0.1687</td> <td>    0.195</td> <td>    0.867</td> <td> 0.386</td> <td>   -0.213</td> <td>    0.550</td>\n",
       "</tr>\n",
       "<tr>\n",
       "  <th>home</th>                    <td>    0.2061</td> <td>    0.064</td> <td>    3.199</td> <td> 0.001</td> <td>    0.080</td> <td>    0.332</td>\n",
       "</tr>\n",
       "</table>"
      ],
      "text/latex": [
       "\\begin{center}\n",
       "\\begin{tabular}{lclc}\n",
       "\\toprule\n",
       "\\textbf{Dep. Variable:}          &      goals       & \\textbf{  No. Observations:  } &      760    \\\\\n",
       "\\textbf{Model:}                  &       GLM        & \\textbf{  Df Residuals:      } &      720    \\\\\n",
       "\\textbf{Model Family:}           &     Poisson      & \\textbf{  Df Model:          } &       39    \\\\\n",
       "\\textbf{Link Function:}          &       Log        & \\textbf{  Scale:             } &    1.0000   \\\\\n",
       "\\textbf{Method:}                 &       IRLS       & \\textbf{  Log-Likelihood:    } &   -1028.8   \\\\\n",
       "\\textbf{Date:}                   & Tue, 20 Feb 2024 & \\textbf{  Deviance:          } &    735.38   \\\\\n",
       "\\textbf{Time:}                   &     09:23:54     & \\textbf{  Pearson chi2:      } &     635.    \\\\\n",
       "\\textbf{No. Iterations:}         &        5         & \\textbf{  Pseudo R-squ. (CS):} &   0.1741    \\\\\n",
       "\\textbf{Covariance Type:}        &    nonrobust     & \\textbf{                     } &             \\\\\n",
       "\\bottomrule\n",
       "\\end{tabular}\n",
       "\\begin{tabular}{lcccccc}\n",
       "                                 & \\textbf{coef} & \\textbf{std err} & \\textbf{z} & \\textbf{P$> |$z$|$} & \\textbf{[0.025} & \\textbf{0.975]}  \\\\\n",
       "\\midrule\n",
       "\\textbf{Intercept}               &       0.4509  &        0.196     &     2.301  &         0.021        &        0.067    &        0.835     \\\\\n",
       "\\textbf{team[T.Bologna]}         &      -0.2190  &        0.185     &    -1.185  &         0.236        &       -0.581    &        0.143     \\\\\n",
       "\\textbf{team[T.Cremonese]}       &      -0.5851  &        0.208     &    -2.819  &         0.005        &       -0.992    &       -0.178     \\\\\n",
       "\\textbf{team[T.Empoli]}          &      -0.5793  &        0.206     &    -2.817  &         0.005        &       -0.982    &       -0.176     \\\\\n",
       "\\textbf{team[T.Fiorentina]}      &      -0.2256  &        0.185     &    -1.221  &         0.222        &       -0.588    &        0.137     \\\\\n",
       "\\textbf{team[T.Inter]}           &       0.0667  &        0.171     &     0.389  &         0.697        &       -0.269    &        0.402     \\\\\n",
       "\\textbf{team[T.Juventus]}        &      -0.1812  &        0.182     &    -0.996  &         0.319        &       -0.538    &        0.175     \\\\\n",
       "\\textbf{team[T.Lazio]}           &      -0.1153  &        0.179     &    -0.645  &         0.519        &       -0.465    &        0.235     \\\\\n",
       "\\textbf{team[T.Lecce]}           &      -0.6971  &        0.213     &    -3.266  &         0.001        &       -1.116    &       -0.279     \\\\\n",
       "\\textbf{team[T.Milan]}           &      -0.0364  &        0.176     &    -0.207  &         0.836        &       -0.381    &        0.308     \\\\\n",
       "\\textbf{team[T.Monza]}           &      -0.3151  &        0.190     &    -1.659  &         0.097        &       -0.688    &        0.057     \\\\\n",
       "\\textbf{team[T.Napoli]}          &       0.1326  &        0.168     &     0.789  &         0.430        &       -0.197    &        0.462     \\\\\n",
       "\\textbf{team[T.Roma]}            &      -0.2894  &        0.188     &    -1.541  &         0.123        &       -0.657    &        0.079     \\\\\n",
       "\\textbf{team[T.Salernitana]}     &      -0.3042  &        0.190     &    -1.601  &         0.109        &       -0.677    &        0.068     \\\\\n",
       "\\textbf{team[T.Sampdoria]}       &      -0.9894  &        0.239     &    -4.146  &         0.000        &       -1.457    &       -0.522     \\\\\n",
       "\\textbf{team[T.Sassuolo]}        &      -0.3264  &        0.191     &    -1.707  &         0.088        &       -0.701    &        0.048     \\\\\n",
       "\\textbf{team[T.Spezia]}          &      -0.7426  &        0.218     &    -3.406  &         0.001        &       -1.170    &       -0.315     \\\\\n",
       "\\textbf{team[T.Torino]}          &      -0.4609  &        0.198     &    -2.332  &         0.020        &       -0.848    &       -0.073     \\\\\n",
       "\\textbf{team[T.Udinese]}         &      -0.3406  &        0.191     &    -1.782  &         0.075        &       -0.715    &        0.034     \\\\\n",
       "\\textbf{team[T.Verona]}          &      -0.7459  &        0.218     &    -3.421  &         0.001        &       -1.173    &       -0.319     \\\\\n",
       "\\textbf{opponent[T.Bologna]}     &       0.0064  &        0.203     &     0.031  &         0.975        &       -0.392    &        0.405     \\\\\n",
       "\\textbf{opponent[T.Cremonese]}   &       0.3311  &        0.188     &     1.759  &         0.079        &       -0.038    &        0.700     \\\\\n",
       "\\textbf{opponent[T.Empoli]}      &      -0.0109  &        0.203     &    -0.054  &         0.957        &       -0.410    &        0.388     \\\\\n",
       "\\textbf{opponent[T.Fiorentina]}  &      -0.1246  &        0.210     &    -0.593  &         0.554        &       -0.537    &        0.288     \\\\\n",
       "\\textbf{opponent[T.Inter]}       &      -0.1285  &        0.212     &    -0.607  &         0.544        &       -0.543    &        0.286     \\\\\n",
       "\\textbf{opponent[T.Juventus]}    &      -0.3867  &        0.226     &    -1.708  &         0.088        &       -0.831    &        0.057     \\\\\n",
       "\\textbf{opponent[T.Lazio]}       &      -0.4779  &        0.233     &    -2.051  &         0.040        &       -0.935    &       -0.021     \\\\\n",
       "\\textbf{opponent[T.Lecce]}       &      -0.0785  &        0.207     &    -0.380  &         0.704        &       -0.483    &        0.326     \\\\\n",
       "\\textbf{opponent[T.Milan]}       &      -0.1126  &        0.210     &    -0.535  &         0.592        &       -0.525    &        0.300     \\\\\n",
       "\\textbf{opponent[T.Monza]}       &       0.0605  &        0.201     &     0.302  &         0.763        &       -0.332    &        0.454     \\\\\n",
       "\\textbf{opponent[T.Napoli]}      &      -0.5286  &        0.238     &    -2.220  &         0.026        &       -0.995    &       -0.062     \\\\\n",
       "\\textbf{opponent[T.Roma]}        &      -0.2518  &        0.217     &    -1.158  &         0.247        &       -0.678    &        0.174     \\\\\n",
       "\\textbf{opponent[T.Salernitana]} &       0.2370  &        0.193     &     1.230  &         0.219        &       -0.141    &        0.615     \\\\\n",
       "\\textbf{opponent[T.Sampdoria]}   &       0.3467  &        0.187     &     1.853  &         0.064        &       -0.020    &        0.714     \\\\\n",
       "\\textbf{opponent[T.Sassuolo]}    &       0.2196  &        0.193     &     1.136  &         0.256        &       -0.159    &        0.598     \\\\\n",
       "\\textbf{opponent[T.Spezia]}      &       0.2184  &        0.193     &     1.134  &         0.257        &       -0.159    &        0.596     \\\\\n",
       "\\textbf{opponent[T.Torino]}      &      -0.1842  &        0.213     &    -0.865  &         0.387        &       -0.602    &        0.233     \\\\\n",
       "\\textbf{opponent[T.Udinese]}     &      -0.0208  &        0.204     &    -0.102  &         0.919        &       -0.422    &        0.380     \\\\\n",
       "\\textbf{opponent[T.Verona]}      &       0.1687  &        0.195     &     0.867  &         0.386        &       -0.213    &        0.550     \\\\\n",
       "\\textbf{home}                    &       0.2061  &        0.064     &     3.199  &         0.001        &        0.080    &        0.332     \\\\\n",
       "\\bottomrule\n",
       "\\end{tabular}\n",
       "%\\caption{Generalized Linear Model Regression Results}\n",
       "\\end{center}"
      ],
      "text/plain": [
       "<class 'statsmodels.iolib.summary.Summary'>\n",
       "\"\"\"\n",
       "                 Generalized Linear Model Regression Results                  \n",
       "==============================================================================\n",
       "Dep. Variable:                  goals   No. Observations:                  760\n",
       "Model:                            GLM   Df Residuals:                      720\n",
       "Model Family:                 Poisson   Df Model:                           39\n",
       "Link Function:                    Log   Scale:                          1.0000\n",
       "Method:                          IRLS   Log-Likelihood:                -1028.8\n",
       "Date:                Tue, 20 Feb 2024   Deviance:                       735.38\n",
       "Time:                        09:23:54   Pearson chi2:                     635.\n",
       "No. Iterations:                     5   Pseudo R-squ. (CS):             0.1741\n",
       "Covariance Type:            nonrobust                                         \n",
       "===========================================================================================\n",
       "                              coef    std err          z      P>|z|      [0.025      0.975]\n",
       "-------------------------------------------------------------------------------------------\n",
       "Intercept                   0.4509      0.196      2.301      0.021       0.067       0.835\n",
       "team[T.Bologna]            -0.2190      0.185     -1.185      0.236      -0.581       0.143\n",
       "team[T.Cremonese]          -0.5851      0.208     -2.819      0.005      -0.992      -0.178\n",
       "team[T.Empoli]             -0.5793      0.206     -2.817      0.005      -0.982      -0.176\n",
       "team[T.Fiorentina]         -0.2256      0.185     -1.221      0.222      -0.588       0.137\n",
       "team[T.Inter]               0.0667      0.171      0.389      0.697      -0.269       0.402\n",
       "team[T.Juventus]           -0.1812      0.182     -0.996      0.319      -0.538       0.175\n",
       "team[T.Lazio]              -0.1153      0.179     -0.645      0.519      -0.465       0.235\n",
       "team[T.Lecce]              -0.6971      0.213     -3.266      0.001      -1.116      -0.279\n",
       "team[T.Milan]              -0.0364      0.176     -0.207      0.836      -0.381       0.308\n",
       "team[T.Monza]              -0.3151      0.190     -1.659      0.097      -0.688       0.057\n",
       "team[T.Napoli]              0.1326      0.168      0.789      0.430      -0.197       0.462\n",
       "team[T.Roma]               -0.2894      0.188     -1.541      0.123      -0.657       0.079\n",
       "team[T.Salernitana]        -0.3042      0.190     -1.601      0.109      -0.677       0.068\n",
       "team[T.Sampdoria]          -0.9894      0.239     -4.146      0.000      -1.457      -0.522\n",
       "team[T.Sassuolo]           -0.3264      0.191     -1.707      0.088      -0.701       0.048\n",
       "team[T.Spezia]             -0.7426      0.218     -3.406      0.001      -1.170      -0.315\n",
       "team[T.Torino]             -0.4609      0.198     -2.332      0.020      -0.848      -0.073\n",
       "team[T.Udinese]            -0.3406      0.191     -1.782      0.075      -0.715       0.034\n",
       "team[T.Verona]             -0.7459      0.218     -3.421      0.001      -1.173      -0.319\n",
       "opponent[T.Bologna]         0.0064      0.203      0.031      0.975      -0.392       0.405\n",
       "opponent[T.Cremonese]       0.3311      0.188      1.759      0.079      -0.038       0.700\n",
       "opponent[T.Empoli]         -0.0109      0.203     -0.054      0.957      -0.410       0.388\n",
       "opponent[T.Fiorentina]     -0.1246      0.210     -0.593      0.554      -0.537       0.288\n",
       "opponent[T.Inter]          -0.1285      0.212     -0.607      0.544      -0.543       0.286\n",
       "opponent[T.Juventus]       -0.3867      0.226     -1.708      0.088      -0.831       0.057\n",
       "opponent[T.Lazio]          -0.4779      0.233     -2.051      0.040      -0.935      -0.021\n",
       "opponent[T.Lecce]          -0.0785      0.207     -0.380      0.704      -0.483       0.326\n",
       "opponent[T.Milan]          -0.1126      0.210     -0.535      0.592      -0.525       0.300\n",
       "opponent[T.Monza]           0.0605      0.201      0.302      0.763      -0.332       0.454\n",
       "opponent[T.Napoli]         -0.5286      0.238     -2.220      0.026      -0.995      -0.062\n",
       "opponent[T.Roma]           -0.2518      0.217     -1.158      0.247      -0.678       0.174\n",
       "opponent[T.Salernitana]     0.2370      0.193      1.230      0.219      -0.141       0.615\n",
       "opponent[T.Sampdoria]       0.3467      0.187      1.853      0.064      -0.020       0.714\n",
       "opponent[T.Sassuolo]        0.2196      0.193      1.136      0.256      -0.159       0.598\n",
       "opponent[T.Spezia]          0.2184      0.193      1.134      0.257      -0.159       0.596\n",
       "opponent[T.Torino]         -0.1842      0.213     -0.865      0.387      -0.602       0.233\n",
       "opponent[T.Udinese]        -0.0208      0.204     -0.102      0.919      -0.422       0.380\n",
       "opponent[T.Verona]          0.1687      0.195      0.867      0.386      -0.213       0.550\n",
       "home                        0.2061      0.064      3.199      0.001       0.080       0.332\n",
       "===========================================================================================\n",
       "\"\"\""
      ]
     },
     "execution_count": 79,
     "metadata": {},
     "output_type": "execute_result"
    }
   ],
   "source": [
    "poisson_model.summary()"
   ]
  },
  {
   "cell_type": "markdown",
   "id": "f6271720-136b-4c25-8e03-92cfe3b1fe36",
   "metadata": {},
   "source": [
    "4. **Model Summary**:\n",
    "   - `poisson_model.summary()` provides a summary of the regression model, including coefficients for each predictor and statistics that can help in evaluating the model's performance and the significance of predictors.\n"
   ]
  },
  {
   "cell_type": "markdown",
   "id": "1b9b8fbc-d26c-450a-a1e5-18e09b33c9c7",
   "metadata": {},
   "source": [
    "### Basic Model Information\n",
    "- **Dependent Variable (goals)**: The number we're predicting – how many goals a team scores.\n",
    "- **Number of Observations (760)**: Total matches analyzed.\n",
    "- **Model (GLM with Poisson family)**: A statistical approach for count data (like goals) where outcomes are counts or can vary from 0 to infinity and are not normally distributed.\n",
    "- **Link Function (Log)**: Transforms the prediction to ensure it's always positive, because you can't score negative goals.\n",
    "\n",
    "### Fit Quality\n",
    "- **Log-Likelihood**: This number (-1028.8) tells us how likely our data is, given the model. Higher (less negative) means better.\n",
    "- **Deviance and Pearson chi2**: These are technical measures indicating how well the model fits the data. Lower numbers mean a better fit.\n",
    "- **Pseudo R-squared (0.1741)**: Shows how much variance the model explains. Closer to 1 means better, but for count data models, this number is often lower than in linear regression.\n",
    "\n",
    "### Coefficients (the effect of each predictor)\n",
    "Each row after \"coef\" shows the impact of different teams and playing at home (or not) on the number of goals scored. \n",
    "\n",
    "- **Intercept (Atalanta's baseline)**: With a coefficient of 0.4509, this is the log of the expected number of goals scored by Atalanta at home against an average team. Because it's positive, it indicates they're expected to score goals.\n",
    "\n",
    "- **Team Effects**: Each \"team[T.XXX]\" row shows how much more or less each team is expected to score compared to Atalanta (the baseline because of alphabetical order), holding other factors constant. For example, \"team[T.Cremonese] -0.5851\" means Cremonese scores fewer goals compared to Atalanta, given the same conditions.\n",
    "\n",
    "- **Opponent Effects**: Each \"opponent[T.XXX]\" row shows the effect of each team as an opponent. For example, \"opponent[T.Napoli] -0.5286\" means teams score fewer goals when playing against Napoli, indicating Napoli has a strong defense.\n",
    "\n",
    "- **Home Effect (home)**: With a coefficient of 0.2061, playing at home increases the log count of expected goals by this amount. This indicates a home advantage in scoring goals.\n",
    "\n",
    "  If you're curious about the `smf.glm(...)` part, you can find more information [here](http://www.statsmodels.org/stable/examples/notebooks/generated/glm_formula.html) (edit: earlier versions of this post had erroneously employed a Generalised Estimating Equation (GEE)- [what's the difference](https://stats.stackexchange.com/questions/16390/when-to-use-generalized-estimating-equations-vs-mixed-effects-models)). I'm more interested in the values presented in the `coef` column in the model summary table, which are analogous to the slopes in linear regression. Similar to [logistic regression](https://en.wikipedia.org/wiki/Logistic_regression), we take the [exponent of the parameter values](http://www.lisa.stat.vt.edu/sites/default/files/Poisson.and_.Logistic.Regression.pdf).\n",
    "\n",
    "A positive value implies more goals ($e^{x}>1 \\forall x > 0$), while values closer to zero represent more neutral effects ($e^{0}=1$). Towards the bottom of the table you might notice that `home` has a `coef` of 0.2061. This captures the fact that home teams generally score more goals than the away team (specifically, $e^{0.2061}$=1.23 times more likely). But not all teams are created equal. Napoli has an estimate of `0.1326`, while the corresponding value for Sampdoria is `-0.9894` (sort of saying Napoli (Sampdoria) are better (much worse!) scorers than average). \n",
    "\n",
    "Finally, the `opponent*` values penalize/reward teams based on the quality of the opposition. This reflects the defensive strength of each team (Napoli: `-0.5286`; Sampdoria: `0.3467`). In other words, you're less likely to score against Napoli. Hopefully, that all makes both statistical and intuitive sense.\n",
    "\n",
    "### Statistical Significance\n",
    "- **P>|z|**: This column tells us the probability that the coefficient is different from 0 purely by chance. A value under 0.05 (like for \"team[T.Cremonese]\") suggests strong evidence that the team really does have an effect on the number of goals scored, not just by random chance.\n",
    "\n",
    "### Confidence Intervals ([0.025 0.975])\n",
    "These columns provide a range of values that are likely to contain the true effect of each predictor on the number of goals scored. For instance, for \"Intercept\", we are 95% confident the true value lies between 0.067 and 0.835.\n",
    "\n",
    "In essence, this model is trying to understand how much playing at home, the specific team, and the opponent team affect the number of goals scored in a match. It uses the history of goals scored in matches to estimate these effects."
   ]
  },
  {
   "cell_type": "markdown",
   "id": "a75ba464-5f5d-4f01-b865-59376c78a05c",
   "metadata": {},
   "source": [
    "## Making Predictions"
   ]
  },
  {
   "cell_type": "markdown",
   "id": "63f78cc8-34cc-48af-ab29-8ca42c368e9d",
   "metadata": {},
   "source": [
    "Let's start making some predictions. We simply pass our teams into poisson_model and it'll return the expected average number of goals for your team (we need to run it twice- we calculate the expected average number of goals for each team separately). So let's see how many goals we expect Napoli and Sampdoria to score."
   ]
  },
  {
   "cell_type": "markdown",
   "id": "7aa801aa-d408-4ab7-9845-96022340cd7c",
   "metadata": {},
   "source": [
    "#### **Napoli - Sampdoria: ? - ?**"
   ]
  },
  {
   "cell_type": "code",
   "execution_count": 80,
   "id": "e0a92166-bb59-4f75-b70c-6ca564a7affc",
   "metadata": {},
   "outputs": [
    {
     "data": {
      "text/plain": [
       "1    3.115342\n",
       "dtype: float64"
      ]
     },
     "execution_count": 80,
     "metadata": {},
     "output_type": "execute_result"
    }
   ],
   "source": [
    "# predicts the number of goals Napoli is expected to score when playing against Sampdoria at home\n",
    "poisson_model.predict(pd.DataFrame(data={'team': 'Napoli', 'opponent': 'Sampdoria',\n",
    "                                       'home':1},index=[1]))"
   ]
  },
  {
   "cell_type": "markdown",
   "id": "0daadb51-f726-4cca-8aa2-4307816d97e7",
   "metadata": {},
   "source": [
    "1. **Making Predictions for Napoli (home effect)**:\n",
    "   - The first `poisson_model.predict()` call predicts the number of goals Napoli is expected to score when playing against Sampdoria at home (`'home':1` indicates Napoli is playing at home).\n",
    "   - You create a DataFrame with the specific match setup you're interested in: Napoli as the `team`, Sampdoria as the `opponent`, and Napoli playing at home.\n",
    "   - The model then uses the coefficients it learned during training (like the effects of being Napoli, playing against Sampdoria, and the advantage of playing at home) to calculate the expected number of goals."
   ]
  },
  {
   "cell_type": "code",
   "execution_count": 81,
   "id": "1190de17-2341-4971-8927-4427f37657a3",
   "metadata": {},
   "outputs": [
    {
     "data": {
      "text/plain": [
       "1    0.344024\n",
       "dtype: float64"
      ]
     },
     "execution_count": 81,
     "metadata": {},
     "output_type": "execute_result"
    }
   ],
   "source": [
    "# predicts how many goals Sampdoria might score when they are away against Napoli\n",
    "poisson_model.predict(pd.DataFrame(data={'team': 'Sampdoria', 'opponent': 'Napoli',\n",
    "                                       'home':0},index=[1]))"
   ]
  },
  {
   "cell_type": "markdown",
   "id": "c6ec6cd6-8419-4b35-84ee-cf64f787bb64",
   "metadata": {},
   "source": [
    "2. **Making Predictions for Sampdoria (opponent effect)**:\n",
    "   - The second `poisson_model.predict()` call does the opposite. It predicts how many goals Sampdoria might score when they are away (`'home':0` indicates Sampdoria is playing away) against Napoli.\n",
    "   - This time, the DataFrame is set up with Sampdoria as the `team` and Napoli as the `opponent`, with Sampdoria playing away.\n",
    "   - Again, the model uses its learned coefficients to estimate the goals, but this time considering Sampdoria's performance, Napoli's defensive capabilities, and the fact that Sampdoria is not playing at home."
   ]
  },
  {
   "cell_type": "markdown",
   "id": "c7cf9def-2755-45a5-8b2d-ca6f82e71358",
   "metadata": {},
   "source": [
    "Just like before, we have two Poisson distributions. From this, we can calculate the probability of various events. I'll wrap this in a `simulate_match` function."
   ]
  },
  {
   "cell_type": "code",
   "execution_count": 83,
   "id": "64e3bccd-1647-4faf-844a-72f7d0ce4622",
   "metadata": {},
   "outputs": [
    {
     "data": {
      "text/plain": [
       "array([[0.03144969, 0.01081945, 0.00186108, 0.00021342],\n",
       "       [0.09797654, 0.0337063 , 0.00579789, 0.00066487],\n",
       "       [0.15261522, 0.05250332, 0.0090312 , 0.00103565],\n",
       "       [0.15848286, 0.05452193, 0.00937843, 0.00107547]])"
      ]
     },
     "execution_count": 83,
     "metadata": {},
     "output_type": "execute_result"
    }
   ],
   "source": [
    "def simulate_match(foot_model, homeTeam, awayTeam, max_goals=10):\n",
    "    # predicts the number of goals homeTeam is expected to score when playing against awayTeam\n",
    "    home_goals_avg = foot_model.predict(pd.DataFrame(data={'team': homeTeam, \n",
    "                                                            'opponent': awayTeam,'home':1},\n",
    "                                                      index=[1])).values[0]\n",
    "    # predicts how many goals awayTeam might score when they are against homeTeam\n",
    "    away_goals_avg = foot_model.predict(pd.DataFrame(data={'team': awayTeam, \n",
    "                                                            'opponent': homeTeam,'home':0},\n",
    "                                                      index=[1])).values[0]\n",
    "    # Calculating the Poisson Distribution for Predicted Averages\n",
    "    team_pred = [[poisson.pmf(i, team_avg) for i in range(0, max_goals+1)] for team_avg in [home_goals_avg, away_goals_avg]]\n",
    "    # Calculating the Match Outcome Probabilities\n",
    "    return(np.outer(np.array(team_pred[0]), np.array(team_pred[1])))\n",
    "    \n",
    "simulate_match(poisson_model, 'Napoli', 'Sampdoria', max_goals=3)"
   ]
  },
  {
   "cell_type": "markdown",
   "id": "04590787-66a0-43ac-ae58-85960ac51e66",
   "metadata": {},
   "source": [
    "This matrix simply shows the probability of Napoli (rows of the matrix) and Sampdoria (matrix columns) scoring a specific number of goals.\n",
    "\n",
    "For example, along the diagonal, both teams score the same the number of goals (e.g. P(0-0)=0.031). So, you can calculate the odds of draw by summing all the diagonal entries. Everything below the diagonal represents a Napoli victory (e.g P(3-0)=0.158), And you can estimate P(Over 2.5 goals) by summing all entries except the four values in the upper left corner. Luckily, we can use basic matrix manipulation functions to perform these calculations."
   ]
  },
  {
   "cell_type": "markdown",
   "id": "3dc1ca88-6c76-4551-a506-69679e03b675",
   "metadata": {},
   "source": [
    "This `simulate_match` function is designed to simulate the outcome of a football match between two specified teams using a Poisson regression model. It estimates the probabilities of all possible scorelines up to a maximum number of goals. Here's a breakdown of how it works:\n",
    "\n",
    "1. **Inputs to the Function**:\n",
    "   - `foot_model`: This is the Poisson regression model we've built and trained to predict the number of goals based on the team playing, their opponent, and whether they're playing at home.\n",
    "   - `homeTeam` and `awayTeam`: The names of the teams playing the match, with `homeTeam` being the one playing at home.\n",
    "   - `max_goals`: The maximum number of goals to consider for each team. It sets a limit for the scoreline prediction range.\n",
    "\n",
    "2. **Predicting Average Goals**:\n",
    "   - The function first uses the model to predict the average number of goals expected to be scored by the home team against the away team and vice versa. It does this by feeding the model a DataFrame for each scenario, indicating the teams involved and whether they're playing at home or away.\n",
    "   - `home_goals_avg` and `away_goals_avg` capture these predicted averages.\n",
    "\n",
    "3. **Calculating the Poisson Distribution for Predicted Averages**:\n",
    "   - For each team, it calculates the probability of scoring 0 to `max_goals` goals based on the predicted averages. This uses the Poisson probability mass function (`poisson.pmf`), which gives the probability of observing a specific number of events (goals in this case) given the average rate (the predicted goals).\n",
    "   - These probabilities are stored in `team_pred`, with separate sublists for the home and away teams.\n",
    "\n",
    "4. **Calculating the Match Outcome Probabilities**:\n",
    "   - It then calculates the outer product of the two teams' score probabilities using `np.outer`. This results in a matrix where each cell [i, j] represents the probability of the home team scoring `i` goals and the away team scoring `j` goals.\n",
    "   - The outer product is a way to combine the two sets of probabilities into a comprehensive set that covers all possible scorelines up to `max_goals`.\n",
    "\n",
    "5. **Output**:\n",
    "   - The function returns a matrix of probabilities for each possible scoreline, from 0-0 up to `max_goals`-`max_goals`. Each entry in this matrix gives the likelihood of that specific match outcome."
   ]
  },
  {
   "cell_type": "markdown",
   "id": "ba9bfb88-2924-46f3-9c4f-e637956f1de1",
   "metadata": {},
   "source": [
    "### Simulate Napoli vs Sampdoria: "
   ]
  },
  {
   "cell_type": "code",
   "execution_count": null,
   "id": "92ed409e-3769-4150-8eea-330e059bd8c9",
   "metadata": {},
   "outputs": [],
   "source": [
    "nap_sam = simulate_match(poisson_model, \"Napoli\", \"Sampdoria\", max_goals=10)"
   ]
  },
  {
   "cell_type": "markdown",
   "id": "4263a565-afa1-4494-8137-fa3db29ae18d",
   "metadata": {},
   "source": [
    "1. **Napoli Win**"
   ]
  },
  {
   "cell_type": "code",
   "execution_count": 84,
   "id": "4b48f81d-8aa0-4481-b1fd-2f36c29835f6",
   "metadata": {},
   "outputs": [
    {
     "data": {
      "text/plain": [
       "0.9035891588271852"
      ]
     },
     "execution_count": 84,
     "metadata": {},
     "output_type": "execute_result"
    }
   ],
   "source": [
    "# Napoli Win\n",
    "np.sum(np.tril(nap_sam, -1))"
   ]
  },
  {
   "cell_type": "markdown",
   "id": "80f10a44-e4a7-42c0-a2cd-67ff47262c16",
   "metadata": {},
   "source": [
    "2. **Draw**"
   ]
  },
  {
   "cell_type": "code",
   "execution_count": 85,
   "id": "a242d670-957c-4dda-8f14-b6f40a345828",
   "metadata": {},
   "outputs": [
    {
     "data": {
      "text/plain": [
       "0.07533788292233853"
      ]
     },
     "execution_count": 85,
     "metadata": {},
     "output_type": "execute_result"
    }
   ],
   "source": [
    "# Draw\n",
    "np.sum(np.diag(nap_sam))"
   ]
  },
  {
   "cell_type": "markdown",
   "id": "1a949041-a1be-4407-a29c-73173ef0e152",
   "metadata": {},
   "source": [
    "**3. Sampdoria Win**"
   ]
  },
  {
   "cell_type": "code",
   "execution_count": 86,
   "id": "0df763ff-04cf-488d-bbeb-95a09c24e1b1",
   "metadata": {},
   "outputs": [
    {
     "data": {
      "text/plain": [
       "0.020673670321733256"
      ]
     },
     "execution_count": 86,
     "metadata": {},
     "output_type": "execute_result"
    }
   ],
   "source": [
    "# Sampdoria Win\n",
    "np.sum(np.triu(nap_sam, 1))"
   ]
  },
  {
   "attachments": {
    "731707c0-3cf2-4080-b6c5-3a8b5dc6aa57.png": {
     "image/png": "[encoded data removed]"
    }
   },
   "cell_type": "markdown",
   "id": "29c16019-ee9d-4e23-b445-cde96f26b6cd",
   "metadata": {},
   "source": [
    "Hmm, our model gives Sampdoria a 2% chance of winning. But is that right? To assess the accuracy of the predictions, we'll compare the probabilities returned by our model against the odds (of that time).\n",
    "\n",
    "\n",
    "https://oddspedia.com/football/napoli-sampdoria-65456).\n",
    "\n",
    "![Screenshot 2024-02-20 at 12.16.31.png](attachment:731707c0-3cf2-4080-b6c5-3a8b5dc6aa57.png)"
   ]
  },
  {
   "cell_type": "markdown",
   "id": "f3a713aa-48fd-43ed-8b88-35233d1b8234",
   "metadata": {},
   "source": [
    "### Betting Scenario\n",
    "You're considering betting €100 on Napoli to win against Sampdoria. The betting odds offered for Napoli to win are 1.08. This means that for every €1 you bet on Napoli, you will get €1.08 back if Napoli wins. The total payout would be your original bet plus the winnings.\n",
    "\n",
    "For example, if we were to bet 100€ on Napoli to win, we would receive the original amount plus 100\\*1.08= €8 should they win (of course, we would lose our €100 if they didn't win). "
   ]
  },
  {
   "cell_type": "code",
   "execution_count": 87,
   "id": "b0aad82b-a9d7-4de3-9ec2-5ccdca6cf42b",
   "metadata": {},
   "outputs": [
    {
     "name": "stdout",
     "output_type": "stream",
     "text": [
      "Total Payout if Napoli wins: €108.0\n",
      "Winnings: €8.0\n"
     ]
    }
   ],
   "source": [
    "bet_amount = 100\n",
    "odds_napoli_win = 1.08\n",
    "\n",
    "# Calculate the total payout (original bet + winnings)\n",
    "total_payout = bet_amount * odds_napoli_win\n",
    "\n",
    "# Calculate the winnings only\n",
    "winnings = total_payout - bet_amount\n",
    "\n",
    "print(f\"Total Payout if Napoli wins: €{total_payout}\")\n",
    "print(f\"Winnings: €{winnings}\")\n"
   ]
  },
  {
   "cell_type": "markdown",
   "id": "51e5a1f5-7986-4f43-9622-5696f0421aee",
   "metadata": {},
   "source": [
    "Now, how can we compare these prices to the probabilities returned by our model? Well, decimal odds can be converted to the probabilities quite easily: it's simply the inverse of the decimal odds. For example, the implied probability of Napoli winning is 1/1.08 (=0.926- our model put the probability at 0.903)."
   ]
  },
  {
   "cell_type": "markdown",
   "id": "45e7a5f0-b13b-4c09-8fdf-7ebd14a49f95",
   "metadata": {},
   "source": [
    "### Converting Decimal Odds to Implied Probability\n",
    "The implied probability is the inverse of the decimal odds. It represents the probability implied by the odds being offered."
   ]
  },
  {
   "cell_type": "code",
   "execution_count": 88,
   "id": "5cf6f2bf-e685-4ae5-9b78-6ff8810870ef",
   "metadata": {},
   "outputs": [
    {
     "name": "stdout",
     "output_type": "stream",
     "text": [
      "Implied Probability of Napoli winning: 0.926\n"
     ]
    }
   ],
   "source": [
    "implied_probability_napoli_win = 1 / odds_napoli_win\n",
    "\n",
    "print(f\"Implied Probability of Napoli winning: {implied_probability_napoli_win:.3f}\")\n"
   ]
  },
  {
   "cell_type": "markdown",
   "id": "31ce07e3-6c5c-4fca-b2f4-c4f087f4f461",
   "metadata": {},
   "source": [
    "### Comparing to Model's Probability"
   ]
  },
  {
   "cell_type": "code",
   "execution_count": 92,
   "id": "d97f8ea0-d778-4298-b8c5-b163319c4b15",
   "metadata": {},
   "outputs": [
    {
     "name": "stdout",
     "output_type": "stream",
     "text": [
      "Model's Probability of Napoli winning: 0.904\n"
     ]
    }
   ],
   "source": [
    "# Napoli Win\n",
    "model_probability_napoli_win = np.sum(np.tril(nap_sam, -1))\n",
    "\n",
    "print(f\"Model's Probability of Napoli winning: {model_probability_napoli_win:.3f}\")"
   ]
  },
  {
   "cell_type": "markdown",
   "id": "060fd05e-c9e0-47f9-a771-120d10811871",
   "metadata": {},
   "source": [
    "### Explenation\n",
    "- **Implied Probability**: The probability derived from the betting odds, indicating how likely the betting market thinks Napoli will win.\n",
    "- **Model's Probability**: The probability estimated by our Poisson regression model based on historical data.\n",
    "\n",
    "By comparing these two probabilities, you can assess whether the bet offers value. A value bet exists when you believe the probability of an event happening is greater than the probability implied by the odds.\n"
   ]
  },
  {
   "cell_type": "code",
   "execution_count": 91,
   "id": "9c01485b-0137-45f9-a83e-93fc4b532b1c",
   "metadata": {},
   "outputs": [
    {
     "name": "stdout",
     "output_type": "stream",
     "text": [
      "Betting on Napoli does not offer value.\n"
     ]
    }
   ],
   "source": [
    "if model_probability_napoli_win > implied_probability_napoli_win:\n",
    "    print(\"Betting on Napoli offers value.\")\n",
    "else:\n",
    "    print(\"Betting on Napoli does not offer value.\")\n"
   ]
  },
  {
   "cell_type": "markdown",
   "id": "c2dbe2c6-cb7d-4208-935c-ee7e9da97eac",
   "metadata": {},
   "source": [
    "So, we have our model probabilities and (if we trust the exchange) we know the true probabilities of each event happening. Ideally, our model would identify situations the market has underestimated the chances of an event occurring (or not occurring in the case of lay bets). \n",
    "\n",
    "For example, in a simple coin toss game, imagine if you were offered \\$2 for every $1 wagered (plus your stake), if you guessed correctly. The implied probability is 0.333, but any valid model would return a probability of 0.5."
   ]
  },
  {
   "cell_type": "markdown",
   "id": "e9bccc2c-6373-48c7-8944-e380724d6fb1",
   "metadata": {},
   "source": [
    "In a betting scenarios, what we're describing is the concept of finding **\"value\"** in betting odds. \n",
    "\n",
    "Value occurs when the probability estimated by your model (or your analysis) of an event happening is greater than the probability implied by the bookmaker's odds. \n",
    "\n",
    "**This discrepancy means that, over the long term, betting on such outcomes should yield a profit**. \n",
    "\n",
    "Let's break down the coin toss example and apply this concept to understand it better."
   ]
  },
  {
   "cell_type": "markdown",
   "id": "2a4e17a2-e01e-4412-b971-6b42a0b5b998",
   "metadata": {},
   "source": [
    "**OFFER**: If you bet 1€ on the outcome of a coin toss, and you guess correctly, you are offered a total payout of 3€. This total includes your original 1€ stake plus 2€ in winnings."
   ]
  },
  {
   "cell_type": "code",
   "execution_count": 97,
   "id": "cb68adcc-bb04-4715-843a-b6071446ff04",
   "metadata": {},
   "outputs": [
    {
     "name": "stdout",
     "output_type": "stream",
     "text": [
      "Implied Probability: 0.333\n"
     ]
    }
   ],
   "source": [
    "decimal_odds = 3.00\n",
    "implied_probability = 1 / decimal_odds\n",
    "print(f\"Implied Probability: {implied_probability:.3f}\")"
   ]
  },
  {
   "cell_type": "markdown",
   "id": "3a6bcf23-d704-40b3-a5e2-8be7c8b11085",
   "metadata": {},
   "source": [
    "### Understanding the Value in This Bet\n",
    "\n",
    "Given a fair coin (assuming it's perfectly balanced and there's no bias in the toss), the true probability of either outcome (heads or tails) is 0.5, or 50%.\n",
    "\n",
    "Comparing the true probability to the implied probability:\n",
    "\n",
    "- **True Probability of Winning**: 0.5 (50%)\n",
    "- **Implied Probability from Odds**: 0.333 (33.3%)\n",
    "\n",
    "The true probability of winning (50%) is higher than the implied probability (33.3%). This discrepancy indicates that the bet offers value because the payout more than compensates for the risk according to the true odds of the event."
   ]
  },
  {
   "cell_type": "code",
   "execution_count": 98,
   "id": "ae6f4f21-5b90-4b26-a1d0-d49a11450e61",
   "metadata": {},
   "outputs": [
    {
     "name": "stdout",
     "output_type": "stream",
     "text": [
      "The bet offers value.\n"
     ]
    }
   ],
   "source": [
    "true_probability_coin_toss = 0.5  # 50%\n",
    "\n",
    "if true_probability_coin_toss > implied_probability:\n",
    "    print(\"The bet offers value.\")\n",
    "else:\n",
    "    print(\"The bet does not offer value.\")"
   ]
  },
  {
   "cell_type": "markdown",
   "id": "60ca2824-c1b9-4194-baf3-44c1cff79505",
   "metadata": {},
   "source": [
    "Given the true probability of a fair coin toss, this bet indeed offers value because you are being paid out more than the true odds of the event occurring. Betting in such scenarios where the payout odds are more favorable than the true odds of the event would, theoretically, yield a positive return over many bets."
   ]
  },
  {
   "cell_type": "markdown",
   "id": "969b7d6e-e66b-495e-9eb5-b7996cf02772",
   "metadata": {},
   "source": [
    "## Something's Poissony\n",
    "\n",
    "Statistically speaking, is a Poisson distribution even appropriate? Our model was founded on the belief that the number goals can be accurately expressed as a Poisson distribution. If that assumption is misguided, then the model outputs will be unreliable. Given a Poisson distribution with mean $\\lambda$, then the number of events in half that time period follows a Poisson distribution with mean $\\lambda$/2.\n",
    "\n",
    "**In football terms, according to our Poisson model, there should be an equal number of goals in the first and second halves. Unfortunately, that doesn't appear to hold true**."
   ]
  },
  {
   "cell_type": "code",
   "execution_count": 99,
   "id": "f0d1aa93-04cf-45ec-9038-b37cbaf2314f",
   "metadata": {},
   "outputs": [
    {
     "data": {
      "text/plain": [
       "FHgoals    1.155263\n",
       "SHgoals    1.407895\n",
       "dtype: float64"
      ]
     },
     "execution_count": 99,
     "metadata": {},
     "output_type": "execute_result"
    }
   ],
   "source": [
    "sa_2223_halves = pd.read_csv(\"sa-2223.csv\")\n",
    "sa_2223_halves = sa_2223_halves[['FTHG', 'FTAG', 'HTHG', 'HTAG']]\n",
    "sa_2223_halves['FHgoals'] = sa_2223_halves['HTHG'] + sa_2223_halves['HTAG']\n",
    "sa_2223_halves['SHgoals'] = sa_2223_halves['FTHG'] + sa_2223_halves['FTAG'] - sa_2223_halves['FHgoals']\n",
    "sa_2223_halves = sa_2223_halves[['FHgoals', 'SHgoals']]\n",
    "sa_2223_halves.mean()"
   ]
  },
  {
   "cell_type": "markdown",
   "id": "36b4a222-b308-4d9f-99a7-9b82ffb00430",
   "metadata": {},
   "source": [
    "The assumption that goals are scored at a constant rate throughout the match is a **simplification**. In reality, various factors can cause the rate of goal scoring to vary, including strategic changes, player fatigue, and psychological factors among many others.\n",
    "\n",
    "The above code calculates the mean number of goals scored in the first half (`FHgoals`) and the second half (`SHgoals`) of matches in the Serie A 2022/23 season. \n",
    "\n",
    "**If the Poisson model's assumption were perfectly accurate, we'd expect these means to be approximately equal, assuming the first and second halves are of equal duration and no significant change in the rate at which goals are scored.**"
   ]
  },
  {
   "cell_type": "code",
   "execution_count": 116,
   "id": "103bf2c7-7304-4ec2-8e70-e3269843cb83",
   "metadata": {},
   "outputs": [
    {
     "data": {
      "image/png": "[encoded data removed]",
      "text/plain": [
       "<Figure size 720x432 with 1 Axes>"
      ]
     },
     "metadata": {
      "needs_background": "light"
     },
     "output_type": "display_data"
    }
   ],
   "source": [
    "poisson_halves_pred = np.column_stack([[poisson.pmf(i, sa_2223_halves.mean()[j]) for i in range(8)] for j in range(2)])\n",
    "\n",
    "plt.figure(figsize=(10, 6))\n",
    "\n",
    "plt.hist(sa_2223_halves.values, range(9), \n",
    "         alpha=0.7, label=['1st Half', '2nd Half'], density=True, color=[\"#FFA07A\", \"#20B2AA\"])\n",
    "\n",
    "pois1, = plt.plot([i-0.5 for i in range(1,9)], poisson_halves_pred[:,0],\n",
    "                  linestyle='-', marker='o', label=\"1st Half\", color = '#CD5C5C')\n",
    "pois2, = plt.plot([i-0.5 for i in range(1,9)], poisson_halves_pred[:,1],\n",
    "                  linestyle='-', marker='o', label=\"2nd Half\", color = '#006400')\n",
    "\n",
    "leg = plt.legend(loc='upper right', fontsize=13, ncol=2)\n",
    "leg.set_title(\"Actual             Poisson        \", prop = {'size':'14', 'weight':'bold'})\n",
    "\n",
    "plt.xticks([i for i in range(9)], [i for i in range(9)])\n",
    "plt.xlabel(\"Goals per Half\", size=13)\n",
    "plt.ylabel(\"Proportion of Matches\", size=13)\n",
    "plt.title(\"Number of Goals per Half (Serie A 2022/23 Season)\", size=14, fontweight='bold')\n",
    "# plt.ylim([-0.004, 0.4])  # Removed to allow automatic y-axis adjustment\n",
    "\n",
    "plt.tight_layout()\n",
    "\n",
    "# Save the figure as a PDF before showing it\n",
    "plt.savefig('number_of_goals_per_half_serie_a_2223.pdf', bbox_inches='tight')\n",
    "\n",
    "plt.show()"
   ]
  },
  {
   "cell_type": "markdown",
   "id": "73655951-f47c-402b-ad5a-8ec27aaacb4f",
   "metadata": {},
   "source": [
    "Well, there are indeed limitations of the univariate Poisson model for predicting football match outcomes, however the result are pretty impressive for getting start with more sophisticated. \n",
    "\n",
    "The takeaway here is that goals scored in football matches may not perfectly adhere to the assumptions of a Poisson distribution—such as the constant rate of events happening independently across the match duration—opens the door to exploring more sophisticated models. Let's briefly discuss some implementations:\n",
    "\n",
    "### Bivariate Poisson Distribution\n",
    "The bivariate Poisson distribution can model the number of goals scored by two competing teams simultaneously, taking into account the correlation between the scoring rates of the two teams. This could address scenarios where the scoring of one team influences the scoring rate of the other, which is a limitation in the univariate Poisson model where the events (goals scored by each team) are treated as independent.\n",
    "\n",
    "### Weibull Distribution\n",
    "The Weibull distribution is another alternative that has been proposed for modeling football scores. Unlike the Poisson distribution, which assumes a constant rate of scoring throughout the match, the Weibull distribution can accommodate variations in the scoring rate over time. This could potentially provide a better fit for data that exhibit patterns like an increasing likelihood of scoring as the match progresses, which could be due to factors like fatigue or strategic changes.\n",
    "\n",
    "### Moving Forward\n",
    "Exploring these more complex models involves addressing additional challenges, such as estimating more parameters and requiring more sophisticated statistical techniques. However, the potential for achieving a more accurate representation of the underlying processes that drive football match outcomes can make this complexity worthwhile. \n",
    "\n",
    "Future research and blog posts could focus on:\n",
    "- **Modeling Correlations**: Developing bivariate Poisson models to better capture the interactions between teams' scoring rates.\n",
    "- **Time-Dependent Rates**: Using the Weibull distribution or other time-dependent models to reflect the changing dynamics within a game.\n",
    "- **Validation and Comparison**: Comparing the predictive performance of these models against the simple Poisson model and against each other, using historical match data.\n",
    "- **Incorporating More Data**: Beyond goals scored, incorporating other factors such as team form, head-to-head performance, player statistics, and even in-match events (e.g., red cards, substitutions) could enhance the model's accuracy.\n",
    "\n",
    "The journey from a simple model to a more refined and accurate one is a common path in statistical modeling and machine learning. Each iteration builds on the lessons learned from previous models, guided by both data and theory, toward a more nuanced understanding and prediction of complex phenomena like football matches."
   ]
  }
 ],
 "metadata": {
  "kernelspec": {
   "display_name": "Python 3 (ipykernel)",
   "language": "python",
   "name": "python3"
  },
  "language_info": {
   "codemirror_mode": {
    "name": "ipython",
    "version": 3
   },
   "file_extension": ".py",
   "mimetype": "text/x-python",
   "name": "python",
   "nbconvert_exporter": "python",
   "pygments_lexer": "ipython3",
   "version": "3.9.12"
  }
 },
 "nbformat": 4,
 "nbformat_minor": 5
}
